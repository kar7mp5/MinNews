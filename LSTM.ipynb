{
 "cells": [
  {
   "cell_type": "code",
   "execution_count": 1,
   "metadata": {},
   "outputs": [
    {
     "name": "stderr",
     "output_type": "stream",
     "text": [
      "2024-05-09 22:41:32.552328: I tensorflow/core/platform/cpu_feature_guard.cc:210] This TensorFlow binary is optimized to use available CPU instructions in performance-critical operations.\n",
      "To enable the following instructions: AVX2 FMA, in other operations, rebuild TensorFlow with the appropriate compiler flags.\n",
      "2024-05-09 22:41:33.563476: W tensorflow/compiler/tf2tensorrt/utils/py_utils.cc:38] TF-TRT Warning: Could not find TensorRT\n"
     ]
    }
   ],
   "source": [
    "import pandas as pd\n",
    "import numpy as np\n",
    "from string import punctuation\n",
    "\n",
    "from tensorflow.keras.preprocessing.text import Tokenizer\n",
    "from tensorflow.keras.preprocessing.sequence import pad_sequences\n",
    "from tensorflow.keras.utils import to_categorical\n",
    "\n",
    "import os"
   ]
  },
  {
   "cell_type": "code",
   "execution_count": 2,
   "metadata": {},
   "outputs": [
    {
     "data": {
      "text/html": [
       "<div>\n",
       "<style scoped>\n",
       "    .dataframe tbody tr th:only-of-type {\n",
       "        vertical-align: middle;\n",
       "    }\n",
       "\n",
       "    .dataframe tbody tr th {\n",
       "        vertical-align: top;\n",
       "    }\n",
       "\n",
       "    .dataframe thead th {\n",
       "        text-align: right;\n",
       "    }\n",
       "</style>\n",
       "<table border=\"1\" class=\"dataframe\">\n",
       "  <thead>\n",
       "    <tr style=\"text-align: right;\">\n",
       "      <th></th>\n",
       "      <th>Unnamed: 0</th>\n",
       "      <th>0</th>\n",
       "    </tr>\n",
       "  </thead>\n",
       "  <tbody>\n",
       "    <tr>\n",
       "      <th>0</th>\n",
       "      <td>0</td>\n",
       "      <td>Skip to primary navigation Skip to main conte...</td>\n",
       "    </tr>\n",
       "    <tr>\n",
       "      <th>1</th>\n",
       "      <td>1</td>\n",
       "      <td>Please donate or sponsor today</td>\n",
       "    </tr>\n",
       "    <tr>\n",
       "      <th>2</th>\n",
       "      <td>2</td>\n",
       "      <td>Coastal ReviewA Daily News Service of the Nort...</td>\n",
       "    </tr>\n",
       "    <tr>\n",
       "      <th>3</th>\n",
       "      <td>3</td>\n",
       "      <td>Marine FisheriesStripped away: Wetlands left ...</td>\n",
       "    </tr>\n",
       "    <tr>\n",
       "      <th>4</th>\n",
       "      <td>4</td>\n",
       "      <td>Photo: Jennifer AllenThe state’s top environm...</td>\n",
       "    </tr>\n",
       "  </tbody>\n",
       "</table>\n",
       "</div>"
      ],
      "text/plain": [
       "   Unnamed: 0                                                  0\n",
       "0           0   Skip to primary navigation Skip to main conte...\n",
       "1           1                     Please donate or sponsor today\n",
       "2           2  Coastal ReviewA Daily News Service of the Nort...\n",
       "3           3   Marine FisheriesStripped away: Wetlands left ...\n",
       "4           4   Photo: Jennifer AllenThe state’s top environm..."
      ]
     },
     "execution_count": 2,
     "metadata": {},
     "output_type": "execute_result"
    }
   ],
   "source": [
    "df = pd.read_csv(f'{os.getcwd()}/data/article_contents/environment_24.csv')\n",
    "df.head()"
   ]
  },
  {
   "cell_type": "code",
   "execution_count": 3,
   "metadata": {},
   "outputs": [
    {
     "name": "stdout",
     "output_type": "stream",
     "text": [
      "열의 개수:  2\n",
      "Index(['Unnamed: 0', '0'], dtype='object')\n"
     ]
    }
   ],
   "source": [
    "print('열의 개수: ', len(df.columns))\n",
    "print(df.columns)"
   ]
  },
  {
   "cell_type": "code",
   "execution_count": 4,
   "metadata": {},
   "outputs": [
    {
     "name": "stdout",
     "output_type": "stream",
     "text": [
      "False\n"
     ]
    }
   ],
   "source": [
    "print(df['0'].isnull().values.any())"
   ]
  },
  {
   "cell_type": "code",
   "execution_count": 5,
   "metadata": {},
   "outputs": [
    {
     "data": {
      "text/plain": [
       "[' Skip to primary navigation Skip to main content Skip to footer We can’t do this without you! Enjoying Coastal Review is free',\n",
       " ' Please donate or sponsor today',\n",
       " 'Coastal ReviewA Daily News Service of the North Carolina Coastal FederationMENUMENUHomeNewsTopicsNews & FeaturesBeach & Inlet ManagementClimate ChangeCoastal PolicyEducationEnergyHabitat RestorationLegislatureNews BriefsPublic HealthStormwaterTerminal GroinsTransportationRecent HeadlinesBiser urges environmental commission to hear PFAS rulesAnglers: Reporting law puts burden on them, unenforceableBiden commits $3B to replace lead water pipes nationwideCommission adopts amended rule for Jockey’s RidgeOregon Inlet Fishing Center cuts ribbon for new buildingMore ArticlesOur CoastTopicsOur CoastCulture & HistoryFoodPeoplePlacesWildlife & NatureRecent HeadlinesHatteras museum to reopen, Beaufort boat show ahead‘Save Our Sand Dunes’ recalls fight to save Jockey’s RidgeGarden tips everyone in coastal North Carolina should knowSunset Beach a ‘sweet spot’ near Wilmington, Myrtle BeachMore ArticlesScienceTopicsScienceRecent HeadlinesRecent whale deaths unfortunate, not alarming: ScientistsStreet inundation linked to elevated bacteria in creek: StudyProposed rules address possible Microcystis bloom sourcesNC scientists receive tools for tracking new compoundsMore ArticlesCommentarySectionsCommentaryGuest ColumnsThe Angler’s AngleThe Editor’s DeskRecent ArticlesHow to hook up: Pink crustacean … sans white sport coatTo reel in ‘glamour’ species, first try catching what they eatGet to know the most popular lures, how to use themState’s Flood Resiliency Blueprint a necessary new approachMore ArticlesSpecial ReportsSeriesSpecial Reports50 Years of CAMAAgencies at Odds: Wildlife Resources v',\n",
       " ' Marine FisheriesStripped away: Wetlands left unprotectedFlorence at 5: Recovery continuesPlowed Under: Digging Into the Farm ActEnvironmental-Economic Connections in the Albemarle RegionPollinators: Small but MightyEnd of the Road: Development on Remote Currituck BanksRecent ArticlesCoastal property owners yet to embrace roof-girding grantsAnti-regulation sentiment may be fueling insurance crisisCoastal Resources Commission celebrates CAMA’s 50thReflections on 50 years of NC Coastal Area Management ActMore ArticlesSearch this websiteBiser urges environmental commission to hear PFAS rules05072024 by Jennifer Allen The proposed surface and groundwater standards are to reduce PFAS contamination in drinking water, NCDEQ officials said',\n",
       " ' Photo: Jennifer AllenThe state’s top environmental official is urging action by the commission responsible for setting rules to protect the state’s air and water quality that would put in place stricter groundwater standards for PFAS contamination',\n",
       " 'North Carolina’s leading business advocacy organization agrees with the Environmental Management Commission’s expected move this week to slow the rulemaking process',\n",
       " ' When you purchase a North Carolina Coastal Federation license plate, you help keep our coast healthy and beautiful',\n",
       " ' Learn more!Learn how you can be in the Sponsor Spotlight!In a letter from North Carolina Department of Environmental Quality Secretary Elizabeth Biser dated May 1, Biser says she “was deeply disappointed to learn” that the Environmental Management Commission‘s groundwater and waste management committee chair and vice-chair, Joe Reardon and Tim Baumgartner, respectively, “are refusing to hear the proposed groundwater standards for PFAS as an action item” during the committee meeting this week',\n",
       " '”The meeting is scheduled for 10:15 a',\n",
       " ' Wednesday, part of a full day of committee meetings',\n",
       " ' All meetings are to be held in the Archdale building in Raleigh',\n",
       " ' More information about how to join the meetings online, the full agenda and accompanying documents can be found on the commission website',\n",
       " '“As you know, on April 10, 2024, the Environmental Protection Agency announced the final National Primary Drinking Water Regulations for six PFAS compounds',\n",
       " ' In our state, more than 300 public water systems serving more than 3 million North Carolinians have PFAS levels above the Maximum Contaminant Levels, or MCLs,” Biser wrote',\n",
       " 'An NCDEQ representative told Coastal Review Thursday that the committee chair requested during a recent phone call to the staff to have the rulemaking standards be an informational presentation instead of an action item at the meeting',\n",
       " 'Sponsor SpotlightSubscribe to our daily emailNever miss the stories that matter to North Carolina’s 20 coastal counties',\n",
       " ' It’s free!Learn how you can be in the Sponsor Spotlight!Biser’s letter to the commission was announced Thursday along with her response to a letter from the North Carolina Chamber president dated April 22 and asking for more research on how the EPA’s rules intersect with proposed state rules, as well as an estimate of the costs to comply',\n",
       " '“Surface and groundwater standards ensure that industries that put PFAS into the environment do their fair share to reduce ongoing pollution so that residents don’t bear the entire costs of removing PFAS from their drinking water,” Biser told Coastal Review Monday',\n",
       " 'The letters from Biser are to “dispel misinformation and urge action as DEQ works to address PFAS contamination and protect the public health and financial well-being of North Carolinians,” DEQ officials said',\n",
       " 'NC Chamber Vice President of Communications Kate Payne said Friday in response to the letter that the organization “has a transparent and open process to engage government when advocating for certainty and predictability for North Carolina’s business community, particularly on the regulatory front',\n",
       " ' “These people, and these businesses, pay the bills and enjoy the clean air and water with their families,” Payne said',\n",
       " ' Petitioning our government for that certainty and predictability and attempting to better understand the costs we will pay should never be categorized as misinformation,” Payne said',\n",
       " 'Biser, in her letter to the commission, asks that the groundwater and waste management committee “reconsider and hear the action item in May and let us begin this rulemaking process that will protect the health and financial well-being of North Carolinians',\n",
       " '”Biser contends in her letter that the EPA regulates drinking water systems under the federal Safe Drinking Water Act, but it’s the state’s responsibility to address the discharges to the surface water and groundwater that is used for drinking water, which is why NCDEQ is proposing the state groundwater and surface water standards',\n",
       " '“Source reduction is the most cost-effective way to help water systems meet the drinking water standards',\n",
       " ' The amount of PFAS in the drinking water supply directly impacts the operation and maintenance costs of water treatment',\n",
       " ' Absent groundwater and surface water standards for PFAS, ratepayers will foot the entire cost of removing PFAS from their drinking water,” she writes',\n",
       " 'Biser continues that NCDEQ staff presented the proposed standards at the last three meetings of both the full commission and its committees',\n",
       " '“In November, Assistant Secretary Sushma Masemore walked through the data we have collected across the state and the need for these actions',\n",
       " ' In January, our staff again previewed the standards as well as the method of cost-benefit analysis we are using for the fiscal note',\n",
       " ' And in March, staff again updated you on the progress and the stakeholder meetings we’ve held on these proposed standards,” writes Biser',\n",
       " 'Scheduling an action item at the committee level during the May meeting would include presentation of enough information for the members to understand the fiscal impact of the proposed groundwater rule as reviewed by the Office of State Budget and Management, Biser continues',\n",
       " 'If the committee decided to vote on the standards at its May 8 meeting, it would go before the full commission as an action item during the July meeting',\n",
       " '“When combined with the multiple presentations you have already heard, that is ample time to consider moving the proposed groundwater standards to the public comment and hearing process,” Biser wrote',\n",
       " 'NC Chamber President and CEO Gary Salamido writes in his April 22 letter to NCDEQ that the organization is asking for more time to better understand how the proposed impacts will affect local governments and businesses',\n",
       " '“It is important that we do not hastily pass regulations without fully accounting for both the positive benefits and potential negative impacts proposed rules would have on the state and its business community,” Salamido writes',\n",
       " ' “On behalf of the business community, we urge NC DEQ and the NC Environmental Management Commission to delay any action until we receive appropriate studies and have greater clarity on the benefits and cost of regulation',\n",
       " '”Biser explains in her response that NCDEQ’s proposed rulemaking is necessary to reduce PFAS contamination in the state’s drinking water sources',\n",
       " ' Additionally, state surface and groundwater standards work in conjunction with the federal drinking water standards issued April 10 by the EPA',\n",
       " ' Rather, but expects the states to address surface water and groundwater standards, especially once a federal drinking water standard is finalized',\n",
       " 'Diagram illustrating where EPA requirements for PFAS and proposed state regulations intersect',\n",
       " ' Graphic: NCDEQ“Discharges into surface water and groundwater directly impact drinking water intakes and public water supply wells, driving up the costs for public water systems to come into compliance with the new federal drinking water standards, which has a direct impact on out-of-pocket costs for North Carolinians,” she writes',\n",
       " 'Biser reiterates to the chamber that without having these rules in place, the cost to comply with the EPA’s drinking standards fall on the customer',\n",
       " ' More than 8,500 homes in eight counties have been provided alternate drinking water supplies as a direct result of the Chemours consent order',\n",
       " '“Additionally, the Cape Fear Public Utility Authority CFPUA has spent $46 million, and Brunswick County has spent over $100 million to address Chemours-related PFAS in their systems,” Biser writes',\n",
       " ' “These costs, compounded by annual operating and maintenance costs, have had a direct impact on ratepayers — which include members of the business community — who are now having to pay more to treat contamination that they did not cause',\n",
       " '”While the damage to public health, the environment and the economy was caused by a single manufacturing facility, NCDEQ is aware of PFAS pollution throughout the state, according to the letter',\n",
       " ' Without taking action on the proposed rulemaking, “the entire burden of complying with the new drinking water standards will fall to public water system customers,” Biser writes, adding that the cost to remove PFAS is much lower at the source than it is at the drinking water system level',\n",
       " '“The key question at hand is whether everyday North Carolinians should bear the entire burden of cleaning up PFAS contamination while also dealing with the health impacts, or whether businesses releasing PFAS into the environment should also bear responsibility,” Biser writes',\n",
       " 'Filed Under: Featured, News & Features, Public Health Tagged With: DEQ, Environmental Management Commission, PFAS, water qualityReprint this StoryAbout Jennifer AllenBorn and raised in Swansboro, Jennifer Allen graduated from Appalachian State University in 2002 and picked up a second degree from UNC-Charlotte the following year',\n",
       " ' She joined the staff of the Carteret County News-Times in Morehead City in 2005 and completed her masters at UNC-Wilmington in 2008',\n",
       " ' Jenn spent nine years writing and editing at the News-Times before joining the staff at the Town of Beaufort in 2014, where she served as public information officer and town clerk',\n",
       " ' She has also written for Our State Magazine and other regional and statewide publications',\n",
       " ' She lives in Morehead City with her husband James and their pups, Zaphod Beeblebrox, or Z, Octavius, but for short, they call him Gus, and Ivy Harriet',\n",
       " 'Subscribe to Coastal Review Join the conversation on our Facebook Page Previous Post: « Two Wilmington firms score state grants to curb emissionsRelated PostsAnglers: Reporting law puts burden on them, unenforceableBiden commits $3B to replace lead water pipes nationwideRecent whale deaths unfortunate, not alarming: ScientistsStreet inundation linked to elevated bacteria in creek: Study']"
      ]
     },
     "execution_count": 5,
     "metadata": {},
     "output_type": "execute_result"
    }
   ],
   "source": [
    "headline = []\n",
    "# 헤드라인의 값들을 리스트로 저장\n",
    "headline.extend(list(df['0']))\n",
    "headline[:]"
   ]
  },
  {
   "cell_type": "code",
   "execution_count": 6,
   "metadata": {},
   "outputs": [
    {
     "name": "stdout",
     "output_type": "stream",
     "text": [
      "총 샘플의 개수 : 55\n"
     ]
    }
   ],
   "source": [
    "print('총 샘플의 개수 : {}'.format(len(headline)))"
   ]
  },
  {
   "cell_type": "code",
   "execution_count": 7,
   "metadata": {},
   "outputs": [
    {
     "name": "stdout",
     "output_type": "stream",
     "text": [
      "노이즈값 제거 후 샘플의 개수 : 55\n"
     ]
    }
   ],
   "source": [
    "headline = [word for word in headline if word != \"Unknown\"]\n",
    "print(\"노이즈값 제거 후 샘플의 개수 : {}\".format(len(headline)))"
   ]
  },
  {
   "cell_type": "code",
   "execution_count": 8,
   "metadata": {},
   "outputs": [
    {
     "data": {
      "text/plain": [
       "[' Skip to primary navigation Skip to main content Skip to footer We can’t do this without you! Enjoying Coastal Review is free',\n",
       " ' Please donate or sponsor today',\n",
       " 'Coastal ReviewA Daily News Service of the North Carolina Coastal FederationMENUMENUHomeNewsTopicsNews & FeaturesBeach & Inlet ManagementClimate ChangeCoastal PolicyEducationEnergyHabitat RestorationLegislatureNews BriefsPublic HealthStormwaterTerminal GroinsTransportationRecent HeadlinesBiser urges environmental commission to hear PFAS rulesAnglers: Reporting law puts burden on them, unenforceableBiden commits $3B to replace lead water pipes nationwideCommission adopts amended rule for Jockey’s RidgeOregon Inlet Fishing Center cuts ribbon for new buildingMore ArticlesOur CoastTopicsOur CoastCulture & HistoryFoodPeoplePlacesWildlife & NatureRecent HeadlinesHatteras museum to reopen, Beaufort boat show ahead‘Save Our Sand Dunes’ recalls fight to save Jockey’s RidgeGarden tips everyone in coastal North Carolina should knowSunset Beach a ‘sweet spot’ near Wilmington, Myrtle BeachMore ArticlesScienceTopicsScienceRecent HeadlinesRecent whale deaths unfortunate, not alarming: ScientistsStreet inundation linked to elevated bacteria in creek: StudyProposed rules address possible Microcystis bloom sourcesNC scientists receive tools for tracking new compoundsMore ArticlesCommentarySectionsCommentaryGuest ColumnsThe Angler’s AngleThe Editor’s DeskRecent ArticlesHow to hook up: Pink crustacean … sans white sport coatTo reel in ‘glamour’ species, first try catching what they eatGet to know the most popular lures, how to use themState’s Flood Resiliency Blueprint a necessary new approachMore ArticlesSpecial ReportsSeriesSpecial Reports50 Years of CAMAAgencies at Odds: Wildlife Resources v',\n",
       " ' Marine FisheriesStripped away: Wetlands left unprotectedFlorence at 5: Recovery continuesPlowed Under: Digging Into the Farm ActEnvironmental-Economic Connections in the Albemarle RegionPollinators: Small but MightyEnd of the Road: Development on Remote Currituck BanksRecent ArticlesCoastal property owners yet to embrace roof-girding grantsAnti-regulation sentiment may be fueling insurance crisisCoastal Resources Commission celebrates CAMA’s 50thReflections on 50 years of NC Coastal Area Management ActMore ArticlesSearch this websiteBiser urges environmental commission to hear PFAS rules05072024 by Jennifer Allen The proposed surface and groundwater standards are to reduce PFAS contamination in drinking water, NCDEQ officials said',\n",
       " ' Photo: Jennifer AllenThe state’s top environmental official is urging action by the commission responsible for setting rules to protect the state’s air and water quality that would put in place stricter groundwater standards for PFAS contamination']"
      ]
     },
     "execution_count": 8,
     "metadata": {},
     "output_type": "execute_result"
    }
   ],
   "source": [
    "headline[:5]"
   ]
  },
  {
   "cell_type": "code",
   "execution_count": 9,
   "metadata": {},
   "outputs": [
    {
     "data": {
      "text/plain": [
       "[' skip to primary navigation skip to main content skip to footer we cant do this without you enjoying coastal review is free',\n",
       " ' please donate or sponsor today',\n",
       " 'coastal reviewa daily news service of the north carolina coastal federationmenumenuhomenewstopicsnews  featuresbeach  inlet managementclimate changecoastal policyeducationenergyhabitat restorationlegislaturenews briefspublic healthstormwaterterminal groinstransportationrecent headlinesbiser urges environmental commission to hear pfas rulesanglers reporting law puts burden on them unenforceablebiden commits 3b to replace lead water pipes nationwidecommission adopts amended rule for jockeys ridgeoregon inlet fishing center cuts ribbon for new buildingmore articlesour coasttopicsour coastculture  historyfoodpeopleplaceswildlife  naturerecent headlineshatteras museum to reopen beaufort boat show aheadsave our sand dunes recalls fight to save jockeys ridgegarden tips everyone in coastal north carolina should knowsunset beach a sweet spot near wilmington myrtle beachmore articlessciencetopicssciencerecent headlinesrecent whale deaths unfortunate not alarming scientistsstreet inundation linked to elevated bacteria in creek studyproposed rules address possible microcystis bloom sourcesnc scientists receive tools for tracking new compoundsmore articlescommentarysectionscommentaryguest columnsthe anglers anglethe editors deskrecent articleshow to hook up pink crustacean  sans white sport coatto reel in glamour species first try catching what they eatget to know the most popular lures how to use themstates flood resiliency blueprint a necessary new approachmore articlesspecial reportsseriesspecial reports50 years of camaagencies at odds wildlife resources v',\n",
       " ' marine fisheriesstripped away wetlands left unprotectedflorence at 5 recovery continuesplowed under digging into the farm actenvironmentaleconomic connections in the albemarle regionpollinators small but mightyend of the road development on remote currituck banksrecent articlescoastal property owners yet to embrace roofgirding grantsantiregulation sentiment may be fueling insurance crisiscoastal resources commission celebrates camas 50threflections on 50 years of nc coastal area management actmore articlessearch this websitebiser urges environmental commission to hear pfas rules05072024 by jennifer allen the proposed surface and groundwater standards are to reduce pfas contamination in drinking water ncdeq officials said',\n",
       " ' photo jennifer allenthe states top environmental official is urging action by the commission responsible for setting rules to protect the states air and water quality that would put in place stricter groundwater standards for pfas contamination']"
      ]
     },
     "execution_count": 9,
     "metadata": {},
     "output_type": "execute_result"
    }
   ],
   "source": [
    "def repreprocessing(raw_sentence):\n",
    "    preproceseed_sentence = raw_sentence.encode(\"utf8\").decode(\"ascii\", \"ignore\")\n",
    "    # 구두점 제거와 동시에 소문자화\n",
    "    return \"\".join(word for word in preproceseed_sentence if word not in punctuation).lower()\n",
    "\n",
    "preprocessed_headline = [repreprocessing(x) for x in headline]\n",
    "preprocessed_headline[:5]"
   ]
  },
  {
   "cell_type": "code",
   "execution_count": 10,
   "metadata": {},
   "outputs": [
    {
     "name": "stdout",
     "output_type": "stream",
     "text": [
      "단어 집합의 크기 : 735\n"
     ]
    }
   ],
   "source": [
    "tokenizer = Tokenizer()\n",
    "tokenizer.fit_on_texts(preprocessed_headline)\n",
    "vocab_size = len(tokenizer.word_index) + 1\n",
    "print(\"단어 집합의 크기 : %d\" % vocab_size)"
   ]
  },
  {
   "cell_type": "code",
   "execution_count": 11,
   "metadata": {},
   "outputs": [
    {
     "name": "stdout",
     "output_type": "stream",
     "text": [
      " skip to primary navigation skip to main content skip to footer we cant do this without you enjoying coastal review is free\n",
      " please donate or sponsor today\n",
      "coastal reviewa daily news service of the north carolina coastal federationmenumenuhomenewstopicsnews  featuresbeach  inlet managementclimate changecoastal policyeducationenergyhabitat restorationlegislaturenews briefspublic healthstormwaterterminal groinstransportationrecent headlinesbiser urges environmental commission to hear pfas rulesanglers reporting law puts burden on them unenforceablebiden commits 3b to replace lead water pipes nationwidecommission adopts amended rule for jockeys ridgeoregon inlet fishing center cuts ribbon for new buildingmore articlesour coasttopicsour coastculture  historyfoodpeopleplaceswildlife  naturerecent headlineshatteras museum to reopen beaufort boat show aheadsave our sand dunes recalls fight to save jockeys ridgegarden tips everyone in coastal north carolina should knowsunset beach a sweet spot near wilmington myrtle beachmore articlessciencetopicssciencerecent headlinesrecent whale deaths unfortunate not alarming scientistsstreet inundation linked to elevated bacteria in creek studyproposed rules address possible microcystis bloom sourcesnc scientists receive tools for tracking new compoundsmore articlescommentarysectionscommentaryguest columnsthe anglers anglethe editors deskrecent articleshow to hook up pink crustacean  sans white sport coatto reel in glamour species first try catching what they eatget to know the most popular lures how to use themstates flood resiliency blueprint a necessary new approachmore articlesspecial reportsseriesspecial reports50 years of camaagencies at odds wildlife resources v\n",
      " marine fisheriesstripped away wetlands left unprotectedflorence at 5 recovery continuesplowed under digging into the farm actenvironmentaleconomic connections in the albemarle regionpollinators small but mightyend of the road development on remote currituck banksrecent articlescoastal property owners yet to embrace roofgirding grantsantiregulation sentiment may be fueling insurance crisiscoastal resources commission celebrates camas 50threflections on 50 years of nc coastal area management actmore articlessearch this websitebiser urges environmental commission to hear pfas rules05072024 by jennifer allen the proposed surface and groundwater standards are to reduce pfas contamination in drinking water ncdeq officials said\n",
      " photo jennifer allenthe states top environmental official is urging action by the commission responsible for setting rules to protect the states air and water quality that would put in place stricter groundwater standards for pfas contamination\n",
      "north carolinas leading business advocacy organization agrees with the environmental management commissions expected move this week to slow the rulemaking process\n",
      " when you purchase a north carolina coastal federation license plate you help keep our coast healthy and beautiful\n",
      " learn morelearn how you can be in the sponsor spotlightin a letter from north carolina department of environmental quality secretary elizabeth biser dated may 1 biser says she was deeply disappointed to learn that the environmental management commissions groundwater and waste management committee chair and vicechair joe reardon and tim baumgartner respectively are refusing to hear the proposed groundwater standards for pfas as an action item during the committee meeting this week\n",
      "the meeting is scheduled for 1015 a\n",
      " wednesday part of a full day of committee meetings\n",
      " all meetings are to be held in the archdale building in raleigh\n",
      " more information about how to join the meetings online the full agenda and accompanying documents can be found on the commission website\n",
      "as you know on april 10 2024 the environmental protection agency announced the final national primary drinking water regulations for six pfas compounds\n",
      " in our state more than 300 public water systems serving more than 3 million north carolinians have pfas levels above the maximum contaminant levels or mcls biser wrote\n",
      "an ncdeq representative told coastal review thursday that the committee chair requested during a recent phone call to the staff to have the rulemaking standards be an informational presentation instead of an action item at the meeting\n",
      "sponsor spotlightsubscribe to our daily emailnever miss the stories that matter to north carolinas 20 coastal counties\n",
      " its freelearn how you can be in the sponsor spotlightbisers letter to the commission was announced thursday along with her response to a letter from the north carolina chamber president dated april 22 and asking for more research on how the epas rules intersect with proposed state rules as well as an estimate of the costs to comply\n",
      "surface and groundwater standards ensure that industries that put pfas into the environment do their fair share to reduce ongoing pollution so that residents dont bear the entire costs of removing pfas from their drinking water biser told coastal review monday\n",
      "the letters from biser are to dispel misinformation and urge action as deq works to address pfas contamination and protect the public health and financial wellbeing of north carolinians deq officials said\n",
      "nc chamber vice president of communications kate payne said friday in response to the letter that the organization has a transparent and open process to engage government when advocating for certainty and predictability for north carolinas business community particularly on the regulatory front\n",
      " these people and these businesses pay the bills and enjoy the clean air and water with their families payne said\n",
      " petitioning our government for that certainty and predictability and attempting to better understand the costs we will pay should never be categorized as misinformation payne said\n",
      "biser in her letter to the commission asks that the groundwater and waste management committee reconsider and hear the action item in may and let us begin this rulemaking process that will protect the health and financial wellbeing of north carolinians\n",
      "biser contends in her letter that the epa regulates drinking water systems under the federal safe drinking water act but its the states responsibility to address the discharges to the surface water and groundwater that is used for drinking water which is why ncdeq is proposing the state groundwater and surface water standards\n",
      "source reduction is the most costeffective way to help water systems meet the drinking water standards\n",
      " the amount of pfas in the drinking water supply directly impacts the operation and maintenance costs of water treatment\n",
      " absent groundwater and surface water standards for pfas ratepayers will foot the entire cost of removing pfas from their drinking water she writes\n",
      "biser continues that ncdeq staff presented the proposed standards at the last three meetings of both the full commission and its committees\n",
      "in november assistant secretary sushma masemore walked through the data we have collected across the state and the need for these actions\n",
      " in january our staff again previewed the standards as well as the method of costbenefit analysis we are using for the fiscal note\n",
      " and in march staff again updated you on the progress and the stakeholder meetings weve held on these proposed standards writes biser\n",
      "scheduling an action item at the committee level during the may meeting would include presentation of enough information for the members to understand the fiscal impact of the proposed groundwater rule as reviewed by the office of state budget and management biser continues\n",
      "if the committee decided to vote on the standards at its may 8 meeting it would go before the full commission as an action item during the july meeting\n",
      "when combined with the multiple presentations you have already heard that is ample time to consider moving the proposed groundwater standards to the public comment and hearing process biser wrote\n",
      "nc chamber president and ceo gary salamido writes in his april 22 letter to ncdeq that the organization is asking for more time to better understand how the proposed impacts will affect local governments and businesses\n",
      "it is important that we do not hastily pass regulations without fully accounting for both the positive benefits and potential negative impacts proposed rules would have on the state and its business community salamido writes\n",
      " on behalf of the business community we urge nc deq and the nc environmental management commission to delay any action until we receive appropriate studies and have greater clarity on the benefits and cost of regulation\n",
      "biser explains in her response that ncdeqs proposed rulemaking is necessary to reduce pfas contamination in the states drinking water sources\n",
      " additionally state surface and groundwater standards work in conjunction with the federal drinking water standards issued april 10 by the epa\n",
      " rather but expects the states to address surface water and groundwater standards especially once a federal drinking water standard is finalized\n",
      "diagram illustrating where epa requirements for pfas and proposed state regulations intersect\n",
      " graphic ncdeqdischarges into surface water and groundwater directly impact drinking water intakes and public water supply wells driving up the costs for public water systems to come into compliance with the new federal drinking water standards which has a direct impact on outofpocket costs for north carolinians she writes\n",
      "biser reiterates to the chamber that without having these rules in place the cost to comply with the epas drinking standards fall on the customer\n",
      " more than 8500 homes in eight counties have been provided alternate drinking water supplies as a direct result of the chemours consent order\n",
      "additionally the cape fear public utility authority cfpua has spent 46 million and brunswick county has spent over 100 million to address chemoursrelated pfas in their systems biser writes\n",
      " these costs compounded by annual operating and maintenance costs have had a direct impact on ratepayers  which include members of the business community  who are now having to pay more to treat contamination that they did not cause\n",
      "while the damage to public health the environment and the economy was caused by a single manufacturing facility ncdeq is aware of pfas pollution throughout the state according to the letter\n",
      " without taking action on the proposed rulemaking the entire burden of complying with the new drinking water standards will fall to public water system customers biser writes adding that the cost to remove pfas is much lower at the source than it is at the drinking water system level\n",
      "the key question at hand is whether everyday north carolinians should bear the entire burden of cleaning up pfas contamination while also dealing with the health impacts or whether businesses releasing pfas into the environment should also bear responsibility biser writes\n",
      "filed under featured news  features public health tagged with deq environmental management commission pfas water qualityreprint this storyabout jennifer allenborn and raised in swansboro jennifer allen graduated from appalachian state university in 2002 and picked up a second degree from unccharlotte the following year\n",
      " she joined the staff of the carteret county newstimes in morehead city in 2005 and completed her masters at uncwilmington in 2008\n",
      " jenn spent nine years writing and editing at the newstimes before joining the staff at the town of beaufort in 2014 where she served as public information officer and town clerk\n",
      " she has also written for our state magazine and other regional and statewide publications\n",
      " she lives in morehead city with her husband james and their pups zaphod beeblebrox or z octavius but for short they call him gus and ivy harriet\n",
      "subscribe to coastal review join the conversation on our facebook page previous post  two wilmington firms score state grants to curb emissionsrelated postsanglers reporting law puts burden on them unenforceablebiden commits 3b to replace lead water pipes nationwiderecent whale deaths unfortunate not alarming scientistsstreet inundation linked to elevated bacteria in creek study\n"
     ]
    },
    {
     "data": {
      "text/plain": [
       "[[98, 2],\n",
       " [98, 2, 127],\n",
       " [98, 2, 127, 231],\n",
       " [98, 2, 127, 231, 98],\n",
       " [98, 2, 127, 231, 98, 2],\n",
       " [98, 2, 127, 231, 98, 2, 232],\n",
       " [98, 2, 127, 231, 98, 2, 232, 233],\n",
       " [98, 2, 127, 231, 98, 2, 232, 233, 98],\n",
       " [98, 2, 127, 231, 98, 2, 232, 233, 98, 2],\n",
       " [98, 2, 127, 231, 98, 2, 232, 233, 98, 2, 234],\n",
       " [98, 2, 127, 231, 98, 2, 232, 233, 98, 2, 234, 36]]"
      ]
     },
     "execution_count": 11,
     "metadata": {},
     "output_type": "execute_result"
    }
   ],
   "source": [
    "sequences = list()\n",
    "\n",
    "for sentence in preprocessed_headline:\n",
    "    print(sentence)\n",
    "    # 각 샘플에 대한 정수 인코딩\n",
    "    encoded = tokenizer.texts_to_sequences([sentence])[0] \n",
    "    for i in range(1, len(encoded)):\n",
    "        sequence = encoded[:i+1]\n",
    "        sequences.append(sequence)\n",
    "\n",
    "sequences[:11]"
   ]
  },
  {
   "cell_type": "code",
   "execution_count": 12,
   "metadata": {},
   "outputs": [
    {
     "name": "stdout",
     "output_type": "stream",
     "text": [
      "빈도수 상위 582번 단어 : water\n"
     ]
    }
   ],
   "source": [
    "index_to_word = {}\n",
    "for key, value in tokenizer.word_index.items(): # 인덱스를 단어로 바꾸기 위해 index_to_word를 생성\n",
    "    index_to_word[value] = key\n",
    "\n",
    "print(\"빈도수 상위 582번 단어 : {}\".format(index_to_word[5]))"
   ]
  },
  {
   "cell_type": "code",
   "execution_count": 13,
   "metadata": {},
   "outputs": [
    {
     "name": "stdout",
     "output_type": "stream",
     "text": [
      "샘플의 최대 길이 : 178\n"
     ]
    }
   ],
   "source": [
    "max_len = max(len(l) for l in sequences)\n",
    "print(\"샘플의 최대 길이 : {}\".format(max_len))"
   ]
  },
  {
   "cell_type": "code",
   "execution_count": 14,
   "metadata": {},
   "outputs": [
    {
     "name": "stdout",
     "output_type": "stream",
     "text": [
      "[[  0   0   0   0   0   0   0   0   0   0   0   0   0   0   0   0   0   0\n",
      "    0   0   0   0   0   0   0   0   0   0   0   0   0   0   0   0   0   0\n",
      "    0   0   0   0   0   0   0   0   0   0   0   0   0   0   0   0   0   0\n",
      "    0   0   0   0   0   0   0   0   0   0   0   0   0   0   0   0   0   0\n",
      "    0   0   0   0   0   0   0   0   0   0   0   0   0   0   0   0   0   0\n",
      "    0   0   0   0   0   0   0   0   0   0   0   0   0   0   0   0   0   0\n",
      "    0   0   0   0   0   0   0   0   0   0   0   0   0   0   0   0   0   0\n",
      "    0   0   0   0   0   0   0   0   0   0   0   0   0   0   0   0   0   0\n",
      "    0   0   0   0   0   0   0   0   0   0   0   0   0   0   0   0   0   0\n",
      "    0   0   0   0   0   0   0   0   0   0   0   0   0   0  98   2]\n",
      " [  0   0   0   0   0   0   0   0   0   0   0   0   0   0   0   0   0   0\n",
      "    0   0   0   0   0   0   0   0   0   0   0   0   0   0   0   0   0   0\n",
      "    0   0   0   0   0   0   0   0   0   0   0   0   0   0   0   0   0   0\n",
      "    0   0   0   0   0   0   0   0   0   0   0   0   0   0   0   0   0   0\n",
      "    0   0   0   0   0   0   0   0   0   0   0   0   0   0   0   0   0   0\n",
      "    0   0   0   0   0   0   0   0   0   0   0   0   0   0   0   0   0   0\n",
      "    0   0   0   0   0   0   0   0   0   0   0   0   0   0   0   0   0   0\n",
      "    0   0   0   0   0   0   0   0   0   0   0   0   0   0   0   0   0   0\n",
      "    0   0   0   0   0   0   0   0   0   0   0   0   0   0   0   0   0   0\n",
      "    0   0   0   0   0   0   0   0   0   0   0   0   0  98   2 127]\n",
      " [  0   0   0   0   0   0   0   0   0   0   0   0   0   0   0   0   0   0\n",
      "    0   0   0   0   0   0   0   0   0   0   0   0   0   0   0   0   0   0\n",
      "    0   0   0   0   0   0   0   0   0   0   0   0   0   0   0   0   0   0\n",
      "    0   0   0   0   0   0   0   0   0   0   0   0   0   0   0   0   0   0\n",
      "    0   0   0   0   0   0   0   0   0   0   0   0   0   0   0   0   0   0\n",
      "    0   0   0   0   0   0   0   0   0   0   0   0   0   0   0   0   0   0\n",
      "    0   0   0   0   0   0   0   0   0   0   0   0   0   0   0   0   0   0\n",
      "    0   0   0   0   0   0   0   0   0   0   0   0   0   0   0   0   0   0\n",
      "    0   0   0   0   0   0   0   0   0   0   0   0   0   0   0   0   0   0\n",
      "    0   0   0   0   0   0   0   0   0   0   0   0  98   2 127 231]]\n"
     ]
    }
   ],
   "source": [
    "sequences = pad_sequences(sequences, maxlen=max_len, padding=\"pre\")\n",
    "print(sequences[:3])"
   ]
  },
  {
   "cell_type": "code",
   "execution_count": 15,
   "metadata": {},
   "outputs": [
    {
     "name": "stdout",
     "output_type": "stream",
     "text": [
      "[[  0   0   0   0   0   0   0   0   0   0   0   0   0   0   0   0   0   0\n",
      "    0   0   0   0   0   0   0   0   0   0   0   0   0   0   0   0   0   0\n",
      "    0   0   0   0   0   0   0   0   0   0   0   0   0   0   0   0   0   0\n",
      "    0   0   0   0   0   0   0   0   0   0   0   0   0   0   0   0   0   0\n",
      "    0   0   0   0   0   0   0   0   0   0   0   0   0   0   0   0   0   0\n",
      "    0   0   0   0   0   0   0   0   0   0   0   0   0   0   0   0   0   0\n",
      "    0   0   0   0   0   0   0   0   0   0   0   0   0   0   0   0   0   0\n",
      "    0   0   0   0   0   0   0   0   0   0   0   0   0   0   0   0   0   0\n",
      "    0   0   0   0   0   0   0   0   0   0   0   0   0   0   0   0   0   0\n",
      "    0   0   0   0   0   0   0   0   0   0   0   0   0   0  98]\n",
      " [  0   0   0   0   0   0   0   0   0   0   0   0   0   0   0   0   0   0\n",
      "    0   0   0   0   0   0   0   0   0   0   0   0   0   0   0   0   0   0\n",
      "    0   0   0   0   0   0   0   0   0   0   0   0   0   0   0   0   0   0\n",
      "    0   0   0   0   0   0   0   0   0   0   0   0   0   0   0   0   0   0\n",
      "    0   0   0   0   0   0   0   0   0   0   0   0   0   0   0   0   0   0\n",
      "    0   0   0   0   0   0   0   0   0   0   0   0   0   0   0   0   0   0\n",
      "    0   0   0   0   0   0   0   0   0   0   0   0   0   0   0   0   0   0\n",
      "    0   0   0   0   0   0   0   0   0   0   0   0   0   0   0   0   0   0\n",
      "    0   0   0   0   0   0   0   0   0   0   0   0   0   0   0   0   0   0\n",
      "    0   0   0   0   0   0   0   0   0   0   0   0   0  98   2]\n",
      " [  0   0   0   0   0   0   0   0   0   0   0   0   0   0   0   0   0   0\n",
      "    0   0   0   0   0   0   0   0   0   0   0   0   0   0   0   0   0   0\n",
      "    0   0   0   0   0   0   0   0   0   0   0   0   0   0   0   0   0   0\n",
      "    0   0   0   0   0   0   0   0   0   0   0   0   0   0   0   0   0   0\n",
      "    0   0   0   0   0   0   0   0   0   0   0   0   0   0   0   0   0   0\n",
      "    0   0   0   0   0   0   0   0   0   0   0   0   0   0   0   0   0   0\n",
      "    0   0   0   0   0   0   0   0   0   0   0   0   0   0   0   0   0   0\n",
      "    0   0   0   0   0   0   0   0   0   0   0   0   0   0   0   0   0   0\n",
      "    0   0   0   0   0   0   0   0   0   0   0   0   0   0   0   0   0   0\n",
      "    0   0   0   0   0   0   0   0   0   0   0   0  98   2 127]]\n"
     ]
    }
   ],
   "source": [
    "sequences = np.array(sequences)\n",
    "X = sequences[:,:-1]\n",
    "y = sequences[:,-1]\n",
    "\n",
    "print(X[:3])"
   ]
  },
  {
   "cell_type": "code",
   "execution_count": 16,
   "metadata": {},
   "outputs": [
    {
     "name": "stdout",
     "output_type": "stream",
     "text": [
      "[  2 127 231]\n"
     ]
    }
   ],
   "source": [
    "print(y[:3])"
   ]
  },
  {
   "cell_type": "code",
   "execution_count": 17,
   "metadata": {},
   "outputs": [],
   "source": [
    "y = to_categorical(y, num_classes=vocab_size)"
   ]
  },
  {
   "cell_type": "markdown",
   "metadata": {},
   "source": [
    "# Make the model"
   ]
  },
  {
   "cell_type": "code",
   "execution_count": 18,
   "metadata": {},
   "outputs": [],
   "source": [
    "from tensorflow.keras.models import Sequential\n",
    "from tensorflow.keras.layers import Embedding, Dense, LSTM"
   ]
  },
  {
   "cell_type": "code",
   "execution_count": 19,
   "metadata": {},
   "outputs": [
    {
     "name": "stdout",
     "output_type": "stream",
     "text": [
      "Epoch 1/200\n"
     ]
    },
    {
     "name": "stdout",
     "output_type": "stream",
     "text": [
      "56/56 - 7s - 121ms/step - accuracy: 0.0653 - loss: 6.2756\n",
      "Epoch 2/200\n",
      "56/56 - 6s - 100ms/step - accuracy: 0.0681 - loss: 5.9191\n",
      "Epoch 3/200\n"
     ]
    },
    {
     "ename": "KeyboardInterrupt",
     "evalue": "",
     "output_type": "error",
     "traceback": [
      "\u001b[0;31m---------------------------------------------------------------------------\u001b[0m",
      "\u001b[0;31mKeyboardInterrupt\u001b[0m                         Traceback (most recent call last)",
      "Cell \u001b[0;32mIn[19], line 9\u001b[0m\n\u001b[1;32m      7\u001b[0m model\u001b[38;5;241m.\u001b[39madd(Dense(vocab_size, activation\u001b[38;5;241m=\u001b[39m\u001b[38;5;124m'\u001b[39m\u001b[38;5;124msoftmax\u001b[39m\u001b[38;5;124m'\u001b[39m))\n\u001b[1;32m      8\u001b[0m model\u001b[38;5;241m.\u001b[39mcompile(loss\u001b[38;5;241m=\u001b[39m\u001b[38;5;124m'\u001b[39m\u001b[38;5;124mcategorical_crossentropy\u001b[39m\u001b[38;5;124m'\u001b[39m, optimizer\u001b[38;5;241m=\u001b[39m\u001b[38;5;124m'\u001b[39m\u001b[38;5;124madam\u001b[39m\u001b[38;5;124m'\u001b[39m, metrics\u001b[38;5;241m=\u001b[39m[\u001b[38;5;124m'\u001b[39m\u001b[38;5;124maccuracy\u001b[39m\u001b[38;5;124m'\u001b[39m])\n\u001b[0;32m----> 9\u001b[0m \u001b[43mmodel\u001b[49m\u001b[38;5;241;43m.\u001b[39;49m\u001b[43mfit\u001b[49m\u001b[43m(\u001b[49m\u001b[43mX\u001b[49m\u001b[43m,\u001b[49m\u001b[43m \u001b[49m\u001b[43my\u001b[49m\u001b[43m,\u001b[49m\u001b[43m \u001b[49m\u001b[43mepochs\u001b[49m\u001b[38;5;241;43m=\u001b[39;49m\u001b[38;5;241;43m200\u001b[39;49m\u001b[43m,\u001b[49m\u001b[43m \u001b[49m\u001b[43mverbose\u001b[49m\u001b[38;5;241;43m=\u001b[39;49m\u001b[38;5;241;43m2\u001b[39;49m\u001b[43m)\u001b[49m\n",
      "File \u001b[0;32m~/Projects/MinGPT/venv/lib/python3.10/site-packages/keras/src/utils/traceback_utils.py:117\u001b[0m, in \u001b[0;36mfilter_traceback.<locals>.error_handler\u001b[0;34m(*args, **kwargs)\u001b[0m\n\u001b[1;32m    115\u001b[0m filtered_tb \u001b[38;5;241m=\u001b[39m \u001b[38;5;28;01mNone\u001b[39;00m\n\u001b[1;32m    116\u001b[0m \u001b[38;5;28;01mtry\u001b[39;00m:\n\u001b[0;32m--> 117\u001b[0m     \u001b[38;5;28;01mreturn\u001b[39;00m \u001b[43mfn\u001b[49m\u001b[43m(\u001b[49m\u001b[38;5;241;43m*\u001b[39;49m\u001b[43margs\u001b[49m\u001b[43m,\u001b[49m\u001b[43m \u001b[49m\u001b[38;5;241;43m*\u001b[39;49m\u001b[38;5;241;43m*\u001b[39;49m\u001b[43mkwargs\u001b[49m\u001b[43m)\u001b[49m\n\u001b[1;32m    118\u001b[0m \u001b[38;5;28;01mexcept\u001b[39;00m \u001b[38;5;167;01mException\u001b[39;00m \u001b[38;5;28;01mas\u001b[39;00m e:\n\u001b[1;32m    119\u001b[0m     filtered_tb \u001b[38;5;241m=\u001b[39m _process_traceback_frames(e\u001b[38;5;241m.\u001b[39m__traceback__)\n",
      "File \u001b[0;32m~/Projects/MinGPT/venv/lib/python3.10/site-packages/keras/src/backend/tensorflow/trainer.py:314\u001b[0m, in \u001b[0;36mTensorFlowTrainer.fit\u001b[0;34m(self, x, y, batch_size, epochs, verbose, callbacks, validation_split, validation_data, shuffle, class_weight, sample_weight, initial_epoch, steps_per_epoch, validation_steps, validation_batch_size, validation_freq)\u001b[0m\n\u001b[1;32m    312\u001b[0m \u001b[38;5;28;01mfor\u001b[39;00m step, iterator \u001b[38;5;129;01min\u001b[39;00m epoch_iterator\u001b[38;5;241m.\u001b[39menumerate_epoch():\n\u001b[1;32m    313\u001b[0m     callbacks\u001b[38;5;241m.\u001b[39mon_train_batch_begin(step)\n\u001b[0;32m--> 314\u001b[0m     logs \u001b[38;5;241m=\u001b[39m \u001b[38;5;28;43mself\u001b[39;49m\u001b[38;5;241;43m.\u001b[39;49m\u001b[43mtrain_function\u001b[49m\u001b[43m(\u001b[49m\u001b[43miterator\u001b[49m\u001b[43m)\u001b[49m\n\u001b[1;32m    315\u001b[0m     logs \u001b[38;5;241m=\u001b[39m \u001b[38;5;28mself\u001b[39m\u001b[38;5;241m.\u001b[39m_pythonify_logs(logs)\n\u001b[1;32m    316\u001b[0m     callbacks\u001b[38;5;241m.\u001b[39mon_train_batch_end(step, logs)\n",
      "File \u001b[0;32m~/Projects/MinGPT/venv/lib/python3.10/site-packages/tensorflow/python/util/traceback_utils.py:150\u001b[0m, in \u001b[0;36mfilter_traceback.<locals>.error_handler\u001b[0;34m(*args, **kwargs)\u001b[0m\n\u001b[1;32m    148\u001b[0m filtered_tb \u001b[38;5;241m=\u001b[39m \u001b[38;5;28;01mNone\u001b[39;00m\n\u001b[1;32m    149\u001b[0m \u001b[38;5;28;01mtry\u001b[39;00m:\n\u001b[0;32m--> 150\u001b[0m   \u001b[38;5;28;01mreturn\u001b[39;00m \u001b[43mfn\u001b[49m\u001b[43m(\u001b[49m\u001b[38;5;241;43m*\u001b[39;49m\u001b[43margs\u001b[49m\u001b[43m,\u001b[49m\u001b[43m \u001b[49m\u001b[38;5;241;43m*\u001b[39;49m\u001b[38;5;241;43m*\u001b[39;49m\u001b[43mkwargs\u001b[49m\u001b[43m)\u001b[49m\n\u001b[1;32m    151\u001b[0m \u001b[38;5;28;01mexcept\u001b[39;00m \u001b[38;5;167;01mException\u001b[39;00m \u001b[38;5;28;01mas\u001b[39;00m e:\n\u001b[1;32m    152\u001b[0m   filtered_tb \u001b[38;5;241m=\u001b[39m _process_traceback_frames(e\u001b[38;5;241m.\u001b[39m__traceback__)\n",
      "File \u001b[0;32m~/Projects/MinGPT/venv/lib/python3.10/site-packages/tensorflow/python/eager/polymorphic_function/polymorphic_function.py:833\u001b[0m, in \u001b[0;36mFunction.__call__\u001b[0;34m(self, *args, **kwds)\u001b[0m\n\u001b[1;32m    830\u001b[0m compiler \u001b[38;5;241m=\u001b[39m \u001b[38;5;124m\"\u001b[39m\u001b[38;5;124mxla\u001b[39m\u001b[38;5;124m\"\u001b[39m \u001b[38;5;28;01mif\u001b[39;00m \u001b[38;5;28mself\u001b[39m\u001b[38;5;241m.\u001b[39m_jit_compile \u001b[38;5;28;01melse\u001b[39;00m \u001b[38;5;124m\"\u001b[39m\u001b[38;5;124mnonXla\u001b[39m\u001b[38;5;124m\"\u001b[39m\n\u001b[1;32m    832\u001b[0m \u001b[38;5;28;01mwith\u001b[39;00m OptionalXlaContext(\u001b[38;5;28mself\u001b[39m\u001b[38;5;241m.\u001b[39m_jit_compile):\n\u001b[0;32m--> 833\u001b[0m   result \u001b[38;5;241m=\u001b[39m \u001b[38;5;28;43mself\u001b[39;49m\u001b[38;5;241;43m.\u001b[39;49m\u001b[43m_call\u001b[49m\u001b[43m(\u001b[49m\u001b[38;5;241;43m*\u001b[39;49m\u001b[43margs\u001b[49m\u001b[43m,\u001b[49m\u001b[43m \u001b[49m\u001b[38;5;241;43m*\u001b[39;49m\u001b[38;5;241;43m*\u001b[39;49m\u001b[43mkwds\u001b[49m\u001b[43m)\u001b[49m\n\u001b[1;32m    835\u001b[0m new_tracing_count \u001b[38;5;241m=\u001b[39m \u001b[38;5;28mself\u001b[39m\u001b[38;5;241m.\u001b[39mexperimental_get_tracing_count()\n\u001b[1;32m    836\u001b[0m without_tracing \u001b[38;5;241m=\u001b[39m (tracing_count \u001b[38;5;241m==\u001b[39m new_tracing_count)\n",
      "File \u001b[0;32m~/Projects/MinGPT/venv/lib/python3.10/site-packages/tensorflow/python/eager/polymorphic_function/polymorphic_function.py:878\u001b[0m, in \u001b[0;36mFunction._call\u001b[0;34m(self, *args, **kwds)\u001b[0m\n\u001b[1;32m    875\u001b[0m \u001b[38;5;28mself\u001b[39m\u001b[38;5;241m.\u001b[39m_lock\u001b[38;5;241m.\u001b[39mrelease()\n\u001b[1;32m    876\u001b[0m \u001b[38;5;66;03m# In this case we have not created variables on the first call. So we can\u001b[39;00m\n\u001b[1;32m    877\u001b[0m \u001b[38;5;66;03m# run the first trace but we should fail if variables are created.\u001b[39;00m\n\u001b[0;32m--> 878\u001b[0m results \u001b[38;5;241m=\u001b[39m \u001b[43mtracing_compilation\u001b[49m\u001b[38;5;241;43m.\u001b[39;49m\u001b[43mcall_function\u001b[49m\u001b[43m(\u001b[49m\n\u001b[1;32m    879\u001b[0m \u001b[43m    \u001b[49m\u001b[43margs\u001b[49m\u001b[43m,\u001b[49m\u001b[43m \u001b[49m\u001b[43mkwds\u001b[49m\u001b[43m,\u001b[49m\u001b[43m \u001b[49m\u001b[38;5;28;43mself\u001b[39;49m\u001b[38;5;241;43m.\u001b[39;49m\u001b[43m_variable_creation_config\u001b[49m\n\u001b[1;32m    880\u001b[0m \u001b[43m\u001b[49m\u001b[43m)\u001b[49m\n\u001b[1;32m    881\u001b[0m \u001b[38;5;28;01mif\u001b[39;00m \u001b[38;5;28mself\u001b[39m\u001b[38;5;241m.\u001b[39m_created_variables:\n\u001b[1;32m    882\u001b[0m   \u001b[38;5;28;01mraise\u001b[39;00m \u001b[38;5;167;01mValueError\u001b[39;00m(\u001b[38;5;124m\"\u001b[39m\u001b[38;5;124mCreating variables on a non-first call to a function\u001b[39m\u001b[38;5;124m\"\u001b[39m\n\u001b[1;32m    883\u001b[0m                    \u001b[38;5;124m\"\u001b[39m\u001b[38;5;124m decorated with tf.function.\u001b[39m\u001b[38;5;124m\"\u001b[39m)\n",
      "File \u001b[0;32m~/Projects/MinGPT/venv/lib/python3.10/site-packages/tensorflow/python/eager/polymorphic_function/tracing_compilation.py:139\u001b[0m, in \u001b[0;36mcall_function\u001b[0;34m(args, kwargs, tracing_options)\u001b[0m\n\u001b[1;32m    137\u001b[0m bound_args \u001b[38;5;241m=\u001b[39m function\u001b[38;5;241m.\u001b[39mfunction_type\u001b[38;5;241m.\u001b[39mbind(\u001b[38;5;241m*\u001b[39margs, \u001b[38;5;241m*\u001b[39m\u001b[38;5;241m*\u001b[39mkwargs)\n\u001b[1;32m    138\u001b[0m flat_inputs \u001b[38;5;241m=\u001b[39m function\u001b[38;5;241m.\u001b[39mfunction_type\u001b[38;5;241m.\u001b[39munpack_inputs(bound_args)\n\u001b[0;32m--> 139\u001b[0m \u001b[38;5;28;01mreturn\u001b[39;00m \u001b[43mfunction\u001b[49m\u001b[38;5;241;43m.\u001b[39;49m\u001b[43m_call_flat\u001b[49m\u001b[43m(\u001b[49m\u001b[43m  \u001b[49m\u001b[38;5;66;43;03m# pylint: disable=protected-access\u001b[39;49;00m\n\u001b[1;32m    140\u001b[0m \u001b[43m    \u001b[49m\u001b[43mflat_inputs\u001b[49m\u001b[43m,\u001b[49m\u001b[43m \u001b[49m\u001b[43mcaptured_inputs\u001b[49m\u001b[38;5;241;43m=\u001b[39;49m\u001b[43mfunction\u001b[49m\u001b[38;5;241;43m.\u001b[39;49m\u001b[43mcaptured_inputs\u001b[49m\n\u001b[1;32m    141\u001b[0m \u001b[43m\u001b[49m\u001b[43m)\u001b[49m\n",
      "File \u001b[0;32m~/Projects/MinGPT/venv/lib/python3.10/site-packages/tensorflow/python/eager/polymorphic_function/concrete_function.py:1322\u001b[0m, in \u001b[0;36mConcreteFunction._call_flat\u001b[0;34m(self, tensor_inputs, captured_inputs)\u001b[0m\n\u001b[1;32m   1318\u001b[0m possible_gradient_type \u001b[38;5;241m=\u001b[39m gradients_util\u001b[38;5;241m.\u001b[39mPossibleTapeGradientTypes(args)\n\u001b[1;32m   1319\u001b[0m \u001b[38;5;28;01mif\u001b[39;00m (possible_gradient_type \u001b[38;5;241m==\u001b[39m gradients_util\u001b[38;5;241m.\u001b[39mPOSSIBLE_GRADIENT_TYPES_NONE\n\u001b[1;32m   1320\u001b[0m     \u001b[38;5;129;01mand\u001b[39;00m executing_eagerly):\n\u001b[1;32m   1321\u001b[0m   \u001b[38;5;66;03m# No tape is watching; skip to running the function.\u001b[39;00m\n\u001b[0;32m-> 1322\u001b[0m   \u001b[38;5;28;01mreturn\u001b[39;00m \u001b[38;5;28;43mself\u001b[39;49m\u001b[38;5;241;43m.\u001b[39;49m\u001b[43m_inference_function\u001b[49m\u001b[38;5;241;43m.\u001b[39;49m\u001b[43mcall_preflattened\u001b[49m\u001b[43m(\u001b[49m\u001b[43margs\u001b[49m\u001b[43m)\u001b[49m\n\u001b[1;32m   1323\u001b[0m forward_backward \u001b[38;5;241m=\u001b[39m \u001b[38;5;28mself\u001b[39m\u001b[38;5;241m.\u001b[39m_select_forward_and_backward_functions(\n\u001b[1;32m   1324\u001b[0m     args,\n\u001b[1;32m   1325\u001b[0m     possible_gradient_type,\n\u001b[1;32m   1326\u001b[0m     executing_eagerly)\n\u001b[1;32m   1327\u001b[0m forward_function, args_with_tangents \u001b[38;5;241m=\u001b[39m forward_backward\u001b[38;5;241m.\u001b[39mforward()\n",
      "File \u001b[0;32m~/Projects/MinGPT/venv/lib/python3.10/site-packages/tensorflow/python/eager/polymorphic_function/atomic_function.py:216\u001b[0m, in \u001b[0;36mAtomicFunction.call_preflattened\u001b[0;34m(self, args)\u001b[0m\n\u001b[1;32m    214\u001b[0m \u001b[38;5;28;01mdef\u001b[39;00m \u001b[38;5;21mcall_preflattened\u001b[39m(\u001b[38;5;28mself\u001b[39m, args: Sequence[core\u001b[38;5;241m.\u001b[39mTensor]) \u001b[38;5;241m-\u001b[39m\u001b[38;5;241m>\u001b[39m Any:\n\u001b[1;32m    215\u001b[0m \u001b[38;5;250m  \u001b[39m\u001b[38;5;124;03m\"\"\"Calls with flattened tensor inputs and returns the structured output.\"\"\"\u001b[39;00m\n\u001b[0;32m--> 216\u001b[0m   flat_outputs \u001b[38;5;241m=\u001b[39m \u001b[38;5;28;43mself\u001b[39;49m\u001b[38;5;241;43m.\u001b[39;49m\u001b[43mcall_flat\u001b[49m\u001b[43m(\u001b[49m\u001b[38;5;241;43m*\u001b[39;49m\u001b[43margs\u001b[49m\u001b[43m)\u001b[49m\n\u001b[1;32m    217\u001b[0m   \u001b[38;5;28;01mreturn\u001b[39;00m \u001b[38;5;28mself\u001b[39m\u001b[38;5;241m.\u001b[39mfunction_type\u001b[38;5;241m.\u001b[39mpack_output(flat_outputs)\n",
      "File \u001b[0;32m~/Projects/MinGPT/venv/lib/python3.10/site-packages/tensorflow/python/eager/polymorphic_function/atomic_function.py:251\u001b[0m, in \u001b[0;36mAtomicFunction.call_flat\u001b[0;34m(self, *args)\u001b[0m\n\u001b[1;32m    249\u001b[0m \u001b[38;5;28;01mwith\u001b[39;00m record\u001b[38;5;241m.\u001b[39mstop_recording():\n\u001b[1;32m    250\u001b[0m   \u001b[38;5;28;01mif\u001b[39;00m \u001b[38;5;28mself\u001b[39m\u001b[38;5;241m.\u001b[39m_bound_context\u001b[38;5;241m.\u001b[39mexecuting_eagerly():\n\u001b[0;32m--> 251\u001b[0m     outputs \u001b[38;5;241m=\u001b[39m \u001b[38;5;28;43mself\u001b[39;49m\u001b[38;5;241;43m.\u001b[39;49m\u001b[43m_bound_context\u001b[49m\u001b[38;5;241;43m.\u001b[39;49m\u001b[43mcall_function\u001b[49m\u001b[43m(\u001b[49m\n\u001b[1;32m    252\u001b[0m \u001b[43m        \u001b[49m\u001b[38;5;28;43mself\u001b[39;49m\u001b[38;5;241;43m.\u001b[39;49m\u001b[43mname\u001b[49m\u001b[43m,\u001b[49m\n\u001b[1;32m    253\u001b[0m \u001b[43m        \u001b[49m\u001b[38;5;28;43mlist\u001b[39;49m\u001b[43m(\u001b[49m\u001b[43margs\u001b[49m\u001b[43m)\u001b[49m\u001b[43m,\u001b[49m\n\u001b[1;32m    254\u001b[0m \u001b[43m        \u001b[49m\u001b[38;5;28;43mlen\u001b[39;49m\u001b[43m(\u001b[49m\u001b[38;5;28;43mself\u001b[39;49m\u001b[38;5;241;43m.\u001b[39;49m\u001b[43mfunction_type\u001b[49m\u001b[38;5;241;43m.\u001b[39;49m\u001b[43mflat_outputs\u001b[49m\u001b[43m)\u001b[49m\u001b[43m,\u001b[49m\n\u001b[1;32m    255\u001b[0m \u001b[43m    \u001b[49m\u001b[43m)\u001b[49m\n\u001b[1;32m    256\u001b[0m   \u001b[38;5;28;01melse\u001b[39;00m:\n\u001b[1;32m    257\u001b[0m     outputs \u001b[38;5;241m=\u001b[39m make_call_op_in_graph(\n\u001b[1;32m    258\u001b[0m         \u001b[38;5;28mself\u001b[39m,\n\u001b[1;32m    259\u001b[0m         \u001b[38;5;28mlist\u001b[39m(args),\n\u001b[1;32m    260\u001b[0m         \u001b[38;5;28mself\u001b[39m\u001b[38;5;241m.\u001b[39m_bound_context\u001b[38;5;241m.\u001b[39mfunction_call_options\u001b[38;5;241m.\u001b[39mas_attrs(),\n\u001b[1;32m    261\u001b[0m     )\n",
      "File \u001b[0;32m~/Projects/MinGPT/venv/lib/python3.10/site-packages/tensorflow/python/eager/context.py:1500\u001b[0m, in \u001b[0;36mContext.call_function\u001b[0;34m(self, name, tensor_inputs, num_outputs)\u001b[0m\n\u001b[1;32m   1498\u001b[0m cancellation_context \u001b[38;5;241m=\u001b[39m cancellation\u001b[38;5;241m.\u001b[39mcontext()\n\u001b[1;32m   1499\u001b[0m \u001b[38;5;28;01mif\u001b[39;00m cancellation_context \u001b[38;5;129;01mis\u001b[39;00m \u001b[38;5;28;01mNone\u001b[39;00m:\n\u001b[0;32m-> 1500\u001b[0m   outputs \u001b[38;5;241m=\u001b[39m \u001b[43mexecute\u001b[49m\u001b[38;5;241;43m.\u001b[39;49m\u001b[43mexecute\u001b[49m\u001b[43m(\u001b[49m\n\u001b[1;32m   1501\u001b[0m \u001b[43m      \u001b[49m\u001b[43mname\u001b[49m\u001b[38;5;241;43m.\u001b[39;49m\u001b[43mdecode\u001b[49m\u001b[43m(\u001b[49m\u001b[38;5;124;43m\"\u001b[39;49m\u001b[38;5;124;43mutf-8\u001b[39;49m\u001b[38;5;124;43m\"\u001b[39;49m\u001b[43m)\u001b[49m\u001b[43m,\u001b[49m\n\u001b[1;32m   1502\u001b[0m \u001b[43m      \u001b[49m\u001b[43mnum_outputs\u001b[49m\u001b[38;5;241;43m=\u001b[39;49m\u001b[43mnum_outputs\u001b[49m\u001b[43m,\u001b[49m\n\u001b[1;32m   1503\u001b[0m \u001b[43m      \u001b[49m\u001b[43minputs\u001b[49m\u001b[38;5;241;43m=\u001b[39;49m\u001b[43mtensor_inputs\u001b[49m\u001b[43m,\u001b[49m\n\u001b[1;32m   1504\u001b[0m \u001b[43m      \u001b[49m\u001b[43mattrs\u001b[49m\u001b[38;5;241;43m=\u001b[39;49m\u001b[43mattrs\u001b[49m\u001b[43m,\u001b[49m\n\u001b[1;32m   1505\u001b[0m \u001b[43m      \u001b[49m\u001b[43mctx\u001b[49m\u001b[38;5;241;43m=\u001b[39;49m\u001b[38;5;28;43mself\u001b[39;49m\u001b[43m,\u001b[49m\n\u001b[1;32m   1506\u001b[0m \u001b[43m  \u001b[49m\u001b[43m)\u001b[49m\n\u001b[1;32m   1507\u001b[0m \u001b[38;5;28;01melse\u001b[39;00m:\n\u001b[1;32m   1508\u001b[0m   outputs \u001b[38;5;241m=\u001b[39m execute\u001b[38;5;241m.\u001b[39mexecute_with_cancellation(\n\u001b[1;32m   1509\u001b[0m       name\u001b[38;5;241m.\u001b[39mdecode(\u001b[38;5;124m\"\u001b[39m\u001b[38;5;124mutf-8\u001b[39m\u001b[38;5;124m\"\u001b[39m),\n\u001b[1;32m   1510\u001b[0m       num_outputs\u001b[38;5;241m=\u001b[39mnum_outputs,\n\u001b[0;32m   (...)\u001b[0m\n\u001b[1;32m   1514\u001b[0m       cancellation_manager\u001b[38;5;241m=\u001b[39mcancellation_context,\n\u001b[1;32m   1515\u001b[0m   )\n",
      "File \u001b[0;32m~/Projects/MinGPT/venv/lib/python3.10/site-packages/tensorflow/python/eager/execute.py:53\u001b[0m, in \u001b[0;36mquick_execute\u001b[0;34m(op_name, num_outputs, inputs, attrs, ctx, name)\u001b[0m\n\u001b[1;32m     51\u001b[0m \u001b[38;5;28;01mtry\u001b[39;00m:\n\u001b[1;32m     52\u001b[0m   ctx\u001b[38;5;241m.\u001b[39mensure_initialized()\n\u001b[0;32m---> 53\u001b[0m   tensors \u001b[38;5;241m=\u001b[39m \u001b[43mpywrap_tfe\u001b[49m\u001b[38;5;241;43m.\u001b[39;49m\u001b[43mTFE_Py_Execute\u001b[49m\u001b[43m(\u001b[49m\u001b[43mctx\u001b[49m\u001b[38;5;241;43m.\u001b[39;49m\u001b[43m_handle\u001b[49m\u001b[43m,\u001b[49m\u001b[43m \u001b[49m\u001b[43mdevice_name\u001b[49m\u001b[43m,\u001b[49m\u001b[43m \u001b[49m\u001b[43mop_name\u001b[49m\u001b[43m,\u001b[49m\n\u001b[1;32m     54\u001b[0m \u001b[43m                                      \u001b[49m\u001b[43minputs\u001b[49m\u001b[43m,\u001b[49m\u001b[43m \u001b[49m\u001b[43mattrs\u001b[49m\u001b[43m,\u001b[49m\u001b[43m \u001b[49m\u001b[43mnum_outputs\u001b[49m\u001b[43m)\u001b[49m\n\u001b[1;32m     55\u001b[0m \u001b[38;5;28;01mexcept\u001b[39;00m core\u001b[38;5;241m.\u001b[39m_NotOkStatusException \u001b[38;5;28;01mas\u001b[39;00m e:\n\u001b[1;32m     56\u001b[0m   \u001b[38;5;28;01mif\u001b[39;00m name \u001b[38;5;129;01mis\u001b[39;00m \u001b[38;5;129;01mnot\u001b[39;00m \u001b[38;5;28;01mNone\u001b[39;00m:\n",
      "\u001b[0;31mKeyboardInterrupt\u001b[0m: "
     ]
    }
   ],
   "source": [
    "embedding_dim = 10\n",
    "hidden_units = 128\n",
    "\n",
    "model = Sequential()\n",
    "model.add(Embedding(vocab_size, embedding_dim))\n",
    "model.add(LSTM(hidden_units))\n",
    "model.add(Dense(vocab_size, activation='softmax'))\n",
    "model.compile(loss='categorical_crossentropy', optimizer='adam', metrics=['accuracy'])\n",
    "model.fit(X, y, epochs=200, verbose=2)"
   ]
  },
  {
   "cell_type": "code",
   "execution_count": null,
   "metadata": {},
   "outputs": [],
   "source": [
    "model.save(\"./model/LSTM.keras\")"
   ]
  },
  {
   "cell_type": "code",
   "execution_count": 20,
   "metadata": {},
   "outputs": [],
   "source": [
    "import tensorflow as tf\n",
    "model = tf.keras.models.load_model(\"./model/LSTM.keras\")"
   ]
  },
  {
   "cell_type": "code",
   "execution_count": 21,
   "metadata": {},
   "outputs": [],
   "source": [
    "def sentence_generation(model, tokenizer, current_word, n): # 모델, 토크나이저, 현재 단어, 반복할 횟수\n",
    "    init_word = current_word\n",
    "    sentence = ''\n",
    "\n",
    "    # n번 반복\n",
    "    for _ in range(n):\n",
    "        encoded = tokenizer.texts_to_sequences([current_word])[0]\n",
    "        encoded = pad_sequences([encoded], maxlen=max_len-1, padding=\"pre\")\n",
    "\n",
    "        # 입력한 X(현재 단어)에 대해서 y를 예측하고 y(예측한 단어)를 result에 저장.\n",
    "        result = model.predict(encoded, verbose=0)\n",
    "        result = np.argmax(result, axis=1)\n",
    "\n",
    "        for word, index in tokenizer.word_index.items(): \n",
    "            # 만약 예측한 단어와 인덱스와 동일한 단어가 있다면\n",
    "            if index == result:\n",
    "                break\n",
    "\n",
    "        # 현재 단어 + ' ' + 예측 단어를 현재 단어로 변경\n",
    "        current_word = current_word + ' '  + word\n",
    "\n",
    "        # 예측 단어를 문장에 저장\n",
    "        sentence = sentence + ' ' + word\n",
    "\n",
    "    sentence = init_word + sentence\n",
    "    return sentence"
   ]
  },
  {
   "cell_type": "code",
   "execution_count": 22,
   "metadata": {},
   "outputs": [
    {
     "name": "stdout",
     "output_type": "stream",
     "text": [
      "hi to freelearn how you can be in the sponsor spotlightbisers letter to the commission was announced thursday along with her response to a letter from the north carolina chamber president dated april 22 and asking\n"
     ]
    }
   ],
   "source": [
    "print(sentence_generation(model, tokenizer, \"hi\", 35))"
   ]
  },
  {
   "cell_type": "code",
   "execution_count": null,
   "metadata": {},
   "outputs": [
    {
     "name": "stdout",
     "output_type": "stream",
     "text": [
      "Trump, Donald J to freelearn how you can be in the sponsor spotlightbisers letter to the commission was announced thursday along with her response to a letter from the north carolina chamber president\n"
     ]
    }
   ],
   "source": [
    "print(sentence_generation(model, tokenizer, \"Trump, Donald J\", 30))"
   ]
  }
 ],
 "metadata": {
  "kernelspec": {
   "display_name": "venv",
   "language": "python",
   "name": "python3"
  },
  "language_info": {
   "codemirror_mode": {
    "name": "ipython",
    "version": 3
   },
   "file_extension": ".py",
   "mimetype": "text/x-python",
   "name": "python",
   "nbconvert_exporter": "python",
   "pygments_lexer": "ipython3",
   "version": "3.10.12"
  }
 },
 "nbformat": 4,
 "nbformat_minor": 2
}
