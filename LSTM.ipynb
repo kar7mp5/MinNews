{
 "cells": [
  {
   "cell_type": "code",
   "execution_count": 52,
   "metadata": {},
   "outputs": [],
   "source": [
    "import pandas as pd\n",
    "import numpy as np\n",
    "from string import punctuation\n",
    "\n",
    "from tensorflow.keras.preprocessing.text import Tokenizer\n",
    "from tensorflow.keras.preprocessing.sequence import pad_sequences\n",
    "from tensorflow.keras.utils import to_categorical\n",
    "\n",
    "import os"
   ]
  },
  {
   "cell_type": "code",
   "execution_count": 53,
   "metadata": {},
   "outputs": [
    {
     "data": {
      "text/html": [
       "<div>\n",
       "<style scoped>\n",
       "    .dataframe tbody tr th:only-of-type {\n",
       "        vertical-align: middle;\n",
       "    }\n",
       "\n",
       "    .dataframe tbody tr th {\n",
       "        vertical-align: top;\n",
       "    }\n",
       "\n",
       "    .dataframe thead th {\n",
       "        text-align: right;\n",
       "    }\n",
       "</style>\n",
       "<table border=\"1\" class=\"dataframe\">\n",
       "  <thead>\n",
       "    <tr style=\"text-align: right;\">\n",
       "      <th></th>\n",
       "      <th>Unnamed: 0</th>\n",
       "      <th>0</th>\n",
       "    </tr>\n",
       "  </thead>\n",
       "  <tbody>\n",
       "    <tr>\n",
       "      <th>0</th>\n",
       "      <td>0</td>\n",
       "      <td>All SectionsSubscribe Now 54°F \\t\\t\\t\\t\\t\\t\\tM...</td>\n",
       "    </tr>\n",
       "    <tr>\n",
       "      <th>1</th>\n",
       "      <td>1</td>\n",
       "      <td>Environment | \\t\\t\\tEPA bans asbestos, a deadl...</td>\n",
       "    </tr>\n",
       "    <tr>\n",
       "      <th>2</th>\n",
       "      <td>2</td>\n",
       "      <td>The EPA announced Monday, March 18, a compreh...</td>\n",
       "    </tr>\n",
       "    <tr>\n",
       "      <th>3</th>\n",
       "      <td>3</td>\n",
       "      <td>AP PhotoAndrew Harnik, File\\t\\tBy Matthew Dal...</td>\n",
       "    </tr>\n",
       "    <tr>\n",
       "      <th>4</th>\n",
       "      <td>4</td>\n",
       "      <td>| UPDATED: March 18, 2024 at 12:15 p</td>\n",
       "    </tr>\n",
       "  </tbody>\n",
       "</table>\n",
       "</div>"
      ],
      "text/plain": [
       "   Unnamed: 0                                                  0\n",
       "0           0  All SectionsSubscribe Now 54°F \\t\\t\\t\\t\\t\\t\\tM...\n",
       "1           1  Environment | \\t\\t\\tEPA bans asbestos, a deadl...\n",
       "2           2   The EPA announced Monday, March 18, a compreh...\n",
       "3           3   AP PhotoAndrew Harnik, File\\t\\tBy Matthew Dal...\n",
       "4           4               | UPDATED: March 18, 2024 at 12:15 p"
      ]
     },
     "execution_count": 53,
     "metadata": {},
     "output_type": "execute_result"
    }
   ],
   "source": [
    "df = pd.read_csv(f'{os.getcwd()}/data/article_contents/environment_8.csv')\n",
    "df.head()"
   ]
  },
  {
   "cell_type": "code",
   "execution_count": 54,
   "metadata": {},
   "outputs": [
    {
     "name": "stdout",
     "output_type": "stream",
     "text": [
      "열의 개수:  2\n",
      "Index(['Unnamed: 0', '0'], dtype='object')\n"
     ]
    }
   ],
   "source": [
    "print('열의 개수: ', len(df.columns))\n",
    "print(df.columns)"
   ]
  },
  {
   "cell_type": "code",
   "execution_count": 55,
   "metadata": {},
   "outputs": [
    {
     "name": "stdout",
     "output_type": "stream",
     "text": [
      "False\n"
     ]
    }
   ],
   "source": [
    "print(df['0'].isnull().values.any())"
   ]
  },
  {
   "cell_type": "code",
   "execution_count": 56,
   "metadata": {},
   "outputs": [
    {
     "data": {
      "text/plain": [
       "['All SectionsSubscribe Now 54°F \\t\\t\\t\\t\\t\\t\\tMonday, March 18th 2024\\t\\t\\t\\t\\t\\t\\t\\t\\tDigital Replica Edition Home PageClose MenuNewsLatest HeadlinesColorado NewsPoliticsElection 2024Crime and Public SafetyCourtsNational NewsWorld NewsEducationHealthEnvironmentTransportationHousingNews ObituariesPhotosVideoYour HubWeatherSportsSportsSports ColumnistsDenver BroncosColorado RockiesDenver NuggetsColorado AvalancheColorado RapidsCollege SportsPrepsBettingGolfBoxing  MMASports on TVRadioSports PodcastsOlympicsBusinessBusinessReal EstateAirlinesEconomyEnergyRetailTechnologyThe KnowThe KnowFood and DrinkArtCultureMoviesTV & StreamingMusicTheaterTravelFamily FriendlyBarsBeerOutdoorsOutdoorsHikingFall ColorsCyclingFitnessRunningCampingFishingHuntingWater SportsSkiingSnowboardingWinter SportsOpinionOpinionEditorialsColumnistsLettersCartoonsEndorsementsObituariesObituariesNews ObituariesPlace an ObituaryThings To DoThings To DoEvent CalendarTelevision ListingsComicsGamesHoroscopesAsk AmyHome & GardenFree and CheapCannabisRecipesDenver Post StoreClassifiedsClassifiedsAutomotiveHomesJobsSubscribeLog InLogoutClose Menu Sign up for Newsletters and Alerts\\t\\t\\t\\tSign Up Environment |  \\t\\t\\tEPA bans asbestos, a deadly carcinogen still in…\\t\\tShare this:Click to share on Facebook Opens in new windowClick to share on Reddit Opens in new windowClick to share on Twitter Opens in new window SubscribeLog In Account SettingsContact UsLog OutSpoof a userSign up for Newsletters and Alerts\\t\\t\\t\\tSign UpSubscribeLog In Search54°F \\t\\t\\t\\t\\t\\t\\tMonday, March 18th 2024\\t\\t\\t\\t\\t\\t\\t\\t\\tDigital Replica Edition Environment  Latest HeadlinesColoradoPoliticsCrimeNationWorldEducationHealthEnvironmentTransportationHousingNews Obituaries \\t\\t\\tTrending:\\t\\tEnvironment |  \\t\\t\\tAffordable housing crisis 🏡\\t\\tEnvironment |  \\t\\t\\tColorado’s quiet killer 🥃\\t\\tEnvironment |  \\t\\t\\tWhere are Colorado’s wolves? 🐺\\t\\tEnvironment |  \\t\\t\\tColorado bill tracker 📜\\t\\tEnvironment |  \\t\\t\\tSki area closings ⛷️\\t\\t   NewsEnvironmentNewsNews Based on facts, either observed and verified directly by the reporter, or reported and verified from knowledgeable sources',\n",
       " 'Environment | \\t\\t\\tEPA bans asbestos, a deadly carcinogen still in use decades after a partial ban was enacted\\t\\tShare this:Click to share on Facebook Opens in new windowClick to share on Reddit Opens in new windowClick to share on Twitter Opens in new window \\t\\t\\t\\t\\t\\tFILE – Environmental Protection Agency administrator Michael Regan speaks, Feb',\n",
       " ' The EPA announced Monday, March 18, a comprehensive ban on asbestos, a carcinogen that is still used in some chlorine bleach, brake pads and other products and kills thousands of Americans every year',\n",
       " ' AP PhotoAndrew Harnik, File\\t\\tBy Matthew Daly | The Associated PressPUBLISHED: March 18, 2024 at 9:31 a',\n",
       " ' | UPDATED: March 18, 2024 at 12:15 p',\n",
       " 'WASHINGTON — The Environmental Protection Agency on Monday announced a comprehensive ban on asbestos, a carcinogen that kills tens of thousands of Americans every year but is still used in some chlorine bleach, brake pads and other products',\n",
       " 'The final rule marks a major expansion of EPA regulation under a landmark 2016 law that overhauled regulations governing tens of thousands of toxic chemicals in everyday products, from household cleaners to clothing and furniture',\n",
       " ' The substance is found in products such as brake linings and gaskets and is used to manufacture chlorine bleach and sodium hydroxide, also known as caustic soda, including some that is used for water purification',\n",
       " '“With today’s ban, EPA is finally slamming the door on a chemical so dangerous that it has been banned in over 50 countries,” Regan said',\n",
       " ' ”This historic ban is more than 30 years in the making, and it’s thanks to amendments that Congress made in 2016 to fix the Toxic Substances Control Act,” the main U',\n",
       " ' law governing use of chemicals',\n",
       " 'Exposure to asbestos is known to cause lung cancer, mesothelioma and other cancers, and it is linked to more than 40,000 deaths in the U',\n",
       " ' each year',\n",
       " ' Ending the ongoing uses of asbestos advances the goals of President Joe Biden’s Cancer Moonshot, a whole-of-government initiative to end cancer in the U',\n",
       " ', Regan said',\n",
       " ' This action is just the beginning as we work to protect all American families, workers and communities from toxic chemicals,” Regan said',\n",
       " ' The 2016 law authorized new rules for tens of thousands of toxic chemicals found in everyday products, including substances such as asbestos and trichloroethylene that for decades have been known to cause cancer yet were largely unregulated under federal law',\n",
       " ' Known as the Frank Lautenberg Chemical Safety Act, the law was intended to clear up a hodgepodge of state rules governing chemicals and update the Toxic Substances Control Act, a 1976 law that had remained unchanged for 40 years',\n",
       " ' The EPA banned asbestos in 1989, but the rule was largely overturned by a 1991 Court of Appeals decision that weakened the EPA’s authority under TSCA to address risks to human health from asbestos or other existing chemicals',\n",
       " ' The 2016 law required the EPA to evaluate chemicals and put in place protections against unreasonable risks',\n",
       " ' Asbestos, which was once common in home insulation and other products, is banned in more than 50 countries, and its use in the U',\n",
       " ' has been declining for decades',\n",
       " 'S',\n",
       " ' It is used by the chlor-alkali industry, which produces bleach, caustic soda and other products',\n",
       " 'While chlorine is a commonly used disinfectant in water treatment, there are only eight chlor-alkali plants in the U',\n",
       " ' that still use asbestos diaphragms to produce chlorine and sodium hydroxide',\n",
       " 'The use of asbestos diaphragms has been declining and now accounts for less than one-third of the chlor-alkali production in the U',\n",
       " ', the EPA said',\n",
       " 'The EPA rule will ban imports of asbestos for chlor-alkali as soon as the rule is published but will phase in prohibitions on chlor-alkali use over five or more years to provide what the agency called “a reasonable transition period',\n",
       " 'The National Association of Clean Water Agencies, which represents 350 publicly owned wastewater treatment agencies, said before the final rule was announced that an immediate ban on asbestos would “almost certainly cause shortages and price increases for chlorine and other disinfection and treatment chemicals used by the water sector',\n",
       " '” The American Chemistry Council, the chemical industry’s largest lobbying group, said a 15-year transition period is needed to avoid a significant disruption of chlorine and sodium hydroxide supplies',\n",
       " 'A ban on asbestos in oilfield brake blocks, aftermarket automotive brakes and linings and other gaskets will take effect in six months',\n",
       " 'S',\n",
       " ' Department of Energy’s Savannah River Site in South Carolina to ensure that safe disposal of nuclear materials can continue on schedule',\n",
       " ' Scott Faber, senior vice president of the Environmental Working Group, an advocacy group that pushed to ban asbestos, hailed the EPA action',\n",
       " '“For too long, polluters have been allowed to make, use and release toxics like asbestos and PFAS without regard for our health,” Faber said',\n",
       " '”Separately, the EPA is also evaluating so-called legacy uses of asbestos in older buildings, including schools and industrial sites, to determine possible public health risks',\n",
       " 'Get more Colorado news by signing up for our Mile High Roundup email newsletter',\n",
       " 'Share this:Click to share on Facebook Opens in new windowClick to share on Reddit Opens in new windowClick to share on Twitter Opens in new window PoliciesReport an ErrorContact UsSubmit a News Tip   Most PopularMost PopularDisbarred Denver attorney Steven Bachar dies after “medical event” at Rifle prisonDisbarred Denver attorney Steven Bachar dies after medical event at Rifle prisonAvalanche’s Nathan MacKinnon after incredible battle with Oilers: “That game means a little more”Avalanches Nathan MacKinnon after incredible battle with Oilers: That game means a little moreNikola Jokic, Nuggets react to Kyrie Irving buzzer beater hook shot in Dallas: “That’s the beauty of basketball”Nikola Jokic, Nuggets react to Kyrie Irving buzzer beater hook shot in Dallas: Thats the beauty of basketballBroncos analysis: What we’ve learned about Sean Payton’s team in Week 1 of free agency and what questions remainBroncos analysis: What weve learned about Sean Paytons team in Week 1 of free agency and what questions remainColorado’s first Buc-ee’s opens its doors with Texas brisket, beaver nuggets and super-clean restroomsColorados first Buc-ees opens its doors with Texas brisket, beaver nuggets and super-clean restroomsCU Buffs men’s hoops reach NCAA Tournament field; play Boise State in First Four gameCU Buffs mens hoops reach NCAA Tournament field; play Boise State in First Four game“It is not politicized or politically correct”: Living history at Bent’s Old Fort phased outIt is not politicized or politically correct”: Living history at Bents Old Fort phased outMan, woman killed at northeast Denver hotel city leased for homeless shelterMan, woman killed at northeast Denver hotel city leased for homeless shelterMarch Madness 2024: Printable bracket for the NCAA men’s basketball tournamentMarch Madness 2024: Printable bracket for the NCAA men’s basketball tournamentKeeler: NCAA Tournament selection committees did CU Buffs, CSU Rams dirtyKeeler: NCAA Tournament selection committees did CU Buffs, CSU Rams dirty Trending NationallyBehind the wheel without a license: Migrants buying cars to make a life in ChicagoRoyal Caribbean shuts down trips to Haiti',\n",
       " 'It’s time for Connecticuts bears to emerge',\n",
       " ' The state has a new law on the animalsLAX travelers fight ‘absolutely horrendous traffic’ mess on SundayInvestigators hunted one of Florida’s most prolific serial rapists for decades',\n",
       " ' A true crime podcast uncovers new details More in Environment Environment |  \\t\\t\\tAn attempt to ban all “forever chemicals” in Colorado failed',\n",
       " ' What will it take to finally get rid of PFAS?\\t\\t Environment |  \\t\\t\\tEPA tells Terumo plant in Lakewood to slash emissions of cancer-causing gas by 2026\\t\\t Transportation |  \\t\\t\\tBoulder County, Superior sue Jefferson County over “touch-and-go” aircraft maneuvers at Rocky Mountain airport\\t\\t Environment |  \\t\\t\\t500-acre prescribed burn scheduled for Rocky Mountain Arsenal on Monday\\t\\t  2024March18SubscribeNews AlertsSubmit a News TipMember ServicesBecome a MemberPlace a HoldDigital Replica EditionSitemapClassifiedsAutosReal EstateJobsContact UsCareersDenver Post StorePlace an ObituaryAdvertise With UsNetwork AdvertisingPrivacy PolicyAccessibilityToday’s Front PageBack IssuesArchivesMobile AppsSubscribe Now Terms of UseCookie PolicyCalifornia Notice at CollectionNotice of Financial IncentiveDo Not SellShare My Personal InformationArbitrationSite MapEthics PolicyPowered by WordPress']"
      ]
     },
     "execution_count": 56,
     "metadata": {},
     "output_type": "execute_result"
    }
   ],
   "source": [
    "headline = []\n",
    "# 헤드라인의 값들을 리스트로 저장\n",
    "headline.extend(list(df['0']))\n",
    "headline[:]"
   ]
  },
  {
   "cell_type": "code",
   "execution_count": 57,
   "metadata": {},
   "outputs": [
    {
     "name": "stdout",
     "output_type": "stream",
     "text": [
      "총 샘플의 개수 : 43\n"
     ]
    }
   ],
   "source": [
    "print('총 샘플의 개수 : {}'.format(len(headline)))"
   ]
  },
  {
   "cell_type": "code",
   "execution_count": 58,
   "metadata": {},
   "outputs": [
    {
     "name": "stdout",
     "output_type": "stream",
     "text": [
      "노이즈값 제거 후 샘플의 개수 : 43\n"
     ]
    }
   ],
   "source": [
    "headline = [word for word in headline if word != \"Unknown\"]\n",
    "print(\"노이즈값 제거 후 샘플의 개수 : {}\".format(len(headline)))"
   ]
  },
  {
   "cell_type": "code",
   "execution_count": 59,
   "metadata": {},
   "outputs": [
    {
     "data": {
      "text/plain": [
       "['All SectionsSubscribe Now 54°F \\t\\t\\t\\t\\t\\t\\tMonday, March 18th 2024\\t\\t\\t\\t\\t\\t\\t\\t\\tDigital Replica Edition Home PageClose MenuNewsLatest HeadlinesColorado NewsPoliticsElection 2024Crime and Public SafetyCourtsNational NewsWorld NewsEducationHealthEnvironmentTransportationHousingNews ObituariesPhotosVideoYour HubWeatherSportsSportsSports ColumnistsDenver BroncosColorado RockiesDenver NuggetsColorado AvalancheColorado RapidsCollege SportsPrepsBettingGolfBoxing  MMASports on TVRadioSports PodcastsOlympicsBusinessBusinessReal EstateAirlinesEconomyEnergyRetailTechnologyThe KnowThe KnowFood and DrinkArtCultureMoviesTV & StreamingMusicTheaterTravelFamily FriendlyBarsBeerOutdoorsOutdoorsHikingFall ColorsCyclingFitnessRunningCampingFishingHuntingWater SportsSkiingSnowboardingWinter SportsOpinionOpinionEditorialsColumnistsLettersCartoonsEndorsementsObituariesObituariesNews ObituariesPlace an ObituaryThings To DoThings To DoEvent CalendarTelevision ListingsComicsGamesHoroscopesAsk AmyHome & GardenFree and CheapCannabisRecipesDenver Post StoreClassifiedsClassifiedsAutomotiveHomesJobsSubscribeLog InLogoutClose Menu Sign up for Newsletters and Alerts\\t\\t\\t\\tSign Up Environment |  \\t\\t\\tEPA bans asbestos, a deadly carcinogen still in…\\t\\tShare this:Click to share on Facebook Opens in new windowClick to share on Reddit Opens in new windowClick to share on Twitter Opens in new window SubscribeLog In Account SettingsContact UsLog OutSpoof a userSign up for Newsletters and Alerts\\t\\t\\t\\tSign UpSubscribeLog In Search54°F \\t\\t\\t\\t\\t\\t\\tMonday, March 18th 2024\\t\\t\\t\\t\\t\\t\\t\\t\\tDigital Replica Edition Environment  Latest HeadlinesColoradoPoliticsCrimeNationWorldEducationHealthEnvironmentTransportationHousingNews Obituaries \\t\\t\\tTrending:\\t\\tEnvironment |  \\t\\t\\tAffordable housing crisis 🏡\\t\\tEnvironment |  \\t\\t\\tColorado’s quiet killer 🥃\\t\\tEnvironment |  \\t\\t\\tWhere are Colorado’s wolves? 🐺\\t\\tEnvironment |  \\t\\t\\tColorado bill tracker 📜\\t\\tEnvironment |  \\t\\t\\tSki area closings ⛷️\\t\\t   NewsEnvironmentNewsNews Based on facts, either observed and verified directly by the reporter, or reported and verified from knowledgeable sources',\n",
       " 'Environment | \\t\\t\\tEPA bans asbestos, a deadly carcinogen still in use decades after a partial ban was enacted\\t\\tShare this:Click to share on Facebook Opens in new windowClick to share on Reddit Opens in new windowClick to share on Twitter Opens in new window \\t\\t\\t\\t\\t\\tFILE – Environmental Protection Agency administrator Michael Regan speaks, Feb',\n",
       " ' The EPA announced Monday, March 18, a comprehensive ban on asbestos, a carcinogen that is still used in some chlorine bleach, brake pads and other products and kills thousands of Americans every year',\n",
       " ' AP PhotoAndrew Harnik, File\\t\\tBy Matthew Daly | The Associated PressPUBLISHED: March 18, 2024 at 9:31 a',\n",
       " ' | UPDATED: March 18, 2024 at 12:15 p']"
      ]
     },
     "execution_count": 59,
     "metadata": {},
     "output_type": "execute_result"
    }
   ],
   "source": [
    "headline[:5]"
   ]
  },
  {
   "cell_type": "code",
   "execution_count": 60,
   "metadata": {},
   "outputs": [
    {
     "data": {
      "text/plain": [
       "['all sectionssubscribe now 54f \\t\\t\\t\\t\\t\\t\\tmonday march 18th 2024\\t\\t\\t\\t\\t\\t\\t\\t\\tdigital replica edition home pageclose menunewslatest headlinescolorado newspoliticselection 2024crime and public safetycourtsnational newsworld newseducationhealthenvironmenttransportationhousingnews obituariesphotosvideoyour hubweathersportssportssports columnistsdenver broncoscolorado rockiesdenver nuggetscolorado avalanchecolorado rapidscollege sportsprepsbettinggolfboxing  mmasports on tvradiosports podcastsolympicsbusinessbusinessreal estateairlineseconomyenergyretailtechnologythe knowthe knowfood and drinkartculturemoviestv  streamingmusictheatertravelfamily friendlybarsbeeroutdoorsoutdoorshikingfall colorscyclingfitnessrunningcampingfishinghuntingwater sportsskiingsnowboardingwinter sportsopinionopinioneditorialscolumnistsletterscartoonsendorsementsobituariesobituariesnews obituariesplace an obituarythings to dothings to doevent calendartelevision listingscomicsgameshoroscopesask amyhome  gardenfree and cheapcannabisrecipesdenver post storeclassifiedsclassifiedsautomotivehomesjobssubscribelog inlogoutclose menu sign up for newsletters and alerts\\t\\t\\t\\tsign up environment   \\t\\t\\tepa bans asbestos a deadly carcinogen still in\\t\\tshare thisclick to share on facebook opens in new windowclick to share on reddit opens in new windowclick to share on twitter opens in new window subscribelog in account settingscontact uslog outspoof a usersign up for newsletters and alerts\\t\\t\\t\\tsign upsubscribelog in search54f \\t\\t\\t\\t\\t\\t\\tmonday march 18th 2024\\t\\t\\t\\t\\t\\t\\t\\t\\tdigital replica edition environment  latest headlinescoloradopoliticscrimenationworldeducationhealthenvironmenttransportationhousingnews obituaries \\t\\t\\ttrending\\t\\tenvironment   \\t\\t\\taffordable housing crisis \\t\\tenvironment   \\t\\t\\tcolorados quiet killer \\t\\tenvironment   \\t\\t\\twhere are colorados wolves \\t\\tenvironment   \\t\\t\\tcolorado bill tracker \\t\\tenvironment   \\t\\t\\tski area closings \\t\\t   newsenvironmentnewsnews based on facts either observed and verified directly by the reporter or reported and verified from knowledgeable sources',\n",
       " 'environment  \\t\\t\\tepa bans asbestos a deadly carcinogen still in use decades after a partial ban was enacted\\t\\tshare thisclick to share on facebook opens in new windowclick to share on reddit opens in new windowclick to share on twitter opens in new window \\t\\t\\t\\t\\t\\tfile  environmental protection agency administrator michael regan speaks feb',\n",
       " ' the epa announced monday march 18 a comprehensive ban on asbestos a carcinogen that is still used in some chlorine bleach brake pads and other products and kills thousands of americans every year',\n",
       " ' ap photoandrew harnik file\\t\\tby matthew daly  the associated presspublished march 18 2024 at 931 a',\n",
       " '  updated march 18 2024 at 1215 p']"
      ]
     },
     "execution_count": 60,
     "metadata": {},
     "output_type": "execute_result"
    }
   ],
   "source": [
    "def repreprocessing(raw_sentence):\n",
    "    preproceseed_sentence = raw_sentence.encode(\"utf8\").decode(\"ascii\", \"ignore\")\n",
    "    # 구두점 제거와 동시에 소문자화\n",
    "    return \"\".join(word for word in preproceseed_sentence if word not in punctuation).lower()\n",
    "\n",
    "preprocessed_headline = [repreprocessing(x) for x in headline]\n",
    "preprocessed_headline[:5]"
   ]
  },
  {
   "cell_type": "code",
   "execution_count": 61,
   "metadata": {},
   "outputs": [
    {
     "name": "stdout",
     "output_type": "stream",
     "text": [
      "단어 집합의 크기 : 659\n"
     ]
    }
   ],
   "source": [
    "tokenizer = Tokenizer()\n",
    "tokenizer.fit_on_texts(preprocessed_headline)\n",
    "vocab_size = len(tokenizer.word_index) + 1\n",
    "print(\"단어 집합의 크기 : %d\" % vocab_size)"
   ]
  },
  {
   "cell_type": "code",
   "execution_count": 62,
   "metadata": {},
   "outputs": [
    {
     "name": "stdout",
     "output_type": "stream",
     "text": [
      "all sectionssubscribe now 54f \t\t\t\t\t\t\tmonday march 18th 2024\t\t\t\t\t\t\t\t\tdigital replica edition home pageclose menunewslatest headlinescolorado newspoliticselection 2024crime and public safetycourtsnational newsworld newseducationhealthenvironmenttransportationhousingnews obituariesphotosvideoyour hubweathersportssportssports columnistsdenver broncoscolorado rockiesdenver nuggetscolorado avalanchecolorado rapidscollege sportsprepsbettinggolfboxing  mmasports on tvradiosports podcastsolympicsbusinessbusinessreal estateairlineseconomyenergyretailtechnologythe knowthe knowfood and drinkartculturemoviestv  streamingmusictheatertravelfamily friendlybarsbeeroutdoorsoutdoorshikingfall colorscyclingfitnessrunningcampingfishinghuntingwater sportsskiingsnowboardingwinter sportsopinionopinioneditorialscolumnistsletterscartoonsendorsementsobituariesobituariesnews obituariesplace an obituarythings to dothings to doevent calendartelevision listingscomicsgameshoroscopesask amyhome  gardenfree and cheapcannabisrecipesdenver post storeclassifiedsclassifiedsautomotivehomesjobssubscribelog inlogoutclose menu sign up for newsletters and alerts\t\t\t\tsign up environment   \t\t\tepa bans asbestos a deadly carcinogen still in\t\tshare thisclick to share on facebook opens in new windowclick to share on reddit opens in new windowclick to share on twitter opens in new window subscribelog in account settingscontact uslog outspoof a usersign up for newsletters and alerts\t\t\t\tsign upsubscribelog in search54f \t\t\t\t\t\t\tmonday march 18th 2024\t\t\t\t\t\t\t\t\tdigital replica edition environment  latest headlinescoloradopoliticscrimenationworldeducationhealthenvironmenttransportationhousingnews obituaries \t\t\ttrending\t\tenvironment   \t\t\taffordable housing crisis \t\tenvironment   \t\t\tcolorados quiet killer \t\tenvironment   \t\t\twhere are colorados wolves \t\tenvironment   \t\t\tcolorado bill tracker \t\tenvironment   \t\t\tski area closings \t\t   newsenvironmentnewsnews based on facts either observed and verified directly by the reporter or reported and verified from knowledgeable sources\n",
      "environment  \t\t\tepa bans asbestos a deadly carcinogen still in use decades after a partial ban was enacted\t\tshare thisclick to share on facebook opens in new windowclick to share on reddit opens in new windowclick to share on twitter opens in new window \t\t\t\t\t\tfile  environmental protection agency administrator michael regan speaks feb\n",
      " the epa announced monday march 18 a comprehensive ban on asbestos a carcinogen that is still used in some chlorine bleach brake pads and other products and kills thousands of americans every year\n",
      " ap photoandrew harnik file\t\tby matthew daly  the associated presspublished march 18 2024 at 931 a\n",
      "  updated march 18 2024 at 1215 p\n",
      "washington  the environmental protection agency on monday announced a comprehensive ban on asbestos a carcinogen that kills tens of thousands of americans every year but is still used in some chlorine bleach brake pads and other products\n",
      "the final rule marks a major expansion of epa regulation under a landmark 2016 law that overhauled regulations governing tens of thousands of toxic chemicals in everyday products from household cleaners to clothing and furniture\n",
      " the substance is found in products such as brake linings and gaskets and is used to manufacture chlorine bleach and sodium hydroxide also known as caustic soda including some that is used for water purification\n",
      "with todays ban epa is finally slamming the door on a chemical so dangerous that it has been banned in over 50 countries regan said\n",
      " this historic ban is more than 30 years in the making and its thanks to amendments that congress made in 2016 to fix the toxic substances control act the main u\n",
      " law governing use of chemicals\n",
      "exposure to asbestos is known to cause lung cancer mesothelioma and other cancers and it is linked to more than 40000 deaths in the u\n",
      " each year\n",
      " ending the ongoing uses of asbestos advances the goals of president joe bidens cancer moonshot a wholeofgovernment initiative to end cancer in the u\n",
      " regan said\n",
      " this action is just the beginning as we work to protect all american families workers and communities from toxic chemicals regan said\n",
      " the 2016 law authorized new rules for tens of thousands of toxic chemicals found in everyday products including substances such as asbestos and trichloroethylene that for decades have been known to cause cancer yet were largely unregulated under federal law\n",
      " known as the frank lautenberg chemical safety act the law was intended to clear up a hodgepodge of state rules governing chemicals and update the toxic substances control act a 1976 law that had remained unchanged for 40 years\n",
      " the epa banned asbestos in 1989 but the rule was largely overturned by a 1991 court of appeals decision that weakened the epas authority under tsca to address risks to human health from asbestos or other existing chemicals\n",
      " the 2016 law required the epa to evaluate chemicals and put in place protections against unreasonable risks\n",
      " asbestos which was once common in home insulation and other products is banned in more than 50 countries and its use in the u\n",
      " has been declining for decades\n",
      "s\n",
      " it is used by the chloralkali industry which produces bleach caustic soda and other products\n",
      "while chlorine is a commonly used disinfectant in water treatment there are only eight chloralkali plants in the u\n",
      " that still use asbestos diaphragms to produce chlorine and sodium hydroxide\n",
      "the use of asbestos diaphragms has been declining and now accounts for less than onethird of the chloralkali production in the u\n",
      " the epa said\n",
      "the epa rule will ban imports of asbestos for chloralkali as soon as the rule is published but will phase in prohibitions on chloralkali use over five or more years to provide what the agency called a reasonable transition period\n",
      "the national association of clean water agencies which represents 350 publicly owned wastewater treatment agencies said before the final rule was announced that an immediate ban on asbestos would almost certainly cause shortages and price increases for chlorine and other disinfection and treatment chemicals used by the water sector\n",
      " the american chemistry council the chemical industrys largest lobbying group said a 15year transition period is needed to avoid a significant disruption of chlorine and sodium hydroxide supplies\n",
      "a ban on asbestos in oilfield brake blocks aftermarket automotive brakes and linings and other gaskets will take effect in six months\n",
      "s\n",
      " department of energys savannah river site in south carolina to ensure that safe disposal of nuclear materials can continue on schedule\n",
      " scott faber senior vice president of the environmental working group an advocacy group that pushed to ban asbestos hailed the epa action\n",
      "for too long polluters have been allowed to make use and release toxics like asbestos and pfas without regard for our health faber said\n",
      "separately the epa is also evaluating socalled legacy uses of asbestos in older buildings including schools and industrial sites to determine possible public health risks\n",
      "get more colorado news by signing up for our mile high roundup email newsletter\n",
      "share thisclick to share on facebook opens in new windowclick to share on reddit opens in new windowclick to share on twitter opens in new window policiesreport an errorcontact ussubmit a news tip   most popularmost populardisbarred denver attorney steven bachar dies after medical event at rifle prisondisbarred denver attorney steven bachar dies after medical event at rifle prisonavalanches nathan mackinnon after incredible battle with oilers that game means a little moreavalanches nathan mackinnon after incredible battle with oilers that game means a little morenikola jokic nuggets react to kyrie irving buzzer beater hook shot in dallas thats the beauty of basketballnikola jokic nuggets react to kyrie irving buzzer beater hook shot in dallas thats the beauty of basketballbroncos analysis what weve learned about sean paytons team in week 1 of free agency and what questions remainbroncos analysis what weve learned about sean paytons team in week 1 of free agency and what questions remaincolorados first bucees opens its doors with texas brisket beaver nuggets and superclean restroomscolorados first bucees opens its doors with texas brisket beaver nuggets and superclean restroomscu buffs mens hoops reach ncaa tournament field play boise state in first four gamecu buffs mens hoops reach ncaa tournament field play boise state in first four gameit is not politicized or politically correct living history at bents old fort phased outit is not politicized or politically correct living history at bents old fort phased outman woman killed at northeast denver hotel city leased for homeless shelterman woman killed at northeast denver hotel city leased for homeless sheltermarch madness 2024 printable bracket for the ncaa mens basketball tournamentmarch madness 2024 printable bracket for the ncaa mens basketball tournamentkeeler ncaa tournament selection committees did cu buffs csu rams dirtykeeler ncaa tournament selection committees did cu buffs csu rams dirty trending nationallybehind the wheel without a license migrants buying cars to make a life in chicagoroyal caribbean shuts down trips to haiti\n",
      "its time for connecticuts bears to emerge\n",
      " the state has a new law on the animalslax travelers fight absolutely horrendous traffic mess on sundayinvestigators hunted one of floridas most prolific serial rapists for decades\n",
      " a true crime podcast uncovers new details more in environment environment   \t\t\tan attempt to ban all forever chemicals in colorado failed\n",
      " what will it take to finally get rid of pfas\t\t environment   \t\t\tepa tells terumo plant in lakewood to slash emissions of cancercausing gas by 2026\t\t transportation   \t\t\tboulder county superior sue jefferson county over touchandgo aircraft maneuvers at rocky mountain airport\t\t environment   \t\t\t500acre prescribed burn scheduled for rocky mountain arsenal on monday\t\t  2024march18subscribenews alertssubmit a news tipmember servicesbecome a memberplace a holddigital replica editionsitemapclassifiedsautosreal estatejobscontact uscareersdenver post storeplace an obituaryadvertise with usnetwork advertisingprivacy policyaccessibilitytodays front pageback issuesarchivesmobile appssubscribe now terms of usecookie policycalifornia notice at collectionnotice of financial incentivedo not sellshare my personal informationarbitrationsite mapethics policypowered by wordpress\n"
     ]
    },
    {
     "data": {
      "text/plain": [
       "[[72, 242],\n",
       " [72, 242, 73],\n",
       " [72, 242, 73, 243],\n",
       " [72, 242, 73, 243, 37],\n",
       " [72, 242, 73, 243, 37, 38],\n",
       " [72, 242, 73, 243, 37, 38, 108],\n",
       " [72, 242, 73, 243, 37, 38, 108, 29],\n",
       " [72, 242, 73, 243, 37, 38, 108, 29, 109],\n",
       " [72, 242, 73, 243, 37, 38, 108, 29, 109, 74],\n",
       " [72, 242, 73, 243, 37, 38, 108, 29, 109, 74, 110],\n",
       " [72, 242, 73, 243, 37, 38, 108, 29, 109, 74, 110, 111]]"
      ]
     },
     "execution_count": 62,
     "metadata": {},
     "output_type": "execute_result"
    }
   ],
   "source": [
    "sequences = list()\n",
    "\n",
    "for sentence in preprocessed_headline:\n",
    "    print(sentence)\n",
    "    # 각 샘플에 대한 정수 인코딩\n",
    "    encoded = tokenizer.texts_to_sequences([sentence])[0] \n",
    "    for i in range(1, len(encoded)):\n",
    "        sequence = encoded[:i+1]\n",
    "        sequences.append(sequence)\n",
    "\n",
    "sequences[:11]"
   ]
  },
  {
   "cell_type": "code",
   "execution_count": 63,
   "metadata": {},
   "outputs": [
    {
     "name": "stdout",
     "output_type": "stream",
     "text": [
      "빈도수 상위 582번 단어 : travelers\n"
     ]
    }
   ],
   "source": [
    "index_to_word = {}\n",
    "for key, value in tokenizer.word_index.items(): # 인덱스를 단어로 바꾸기 위해 index_to_word를 생성\n",
    "    index_to_word[value] = key\n",
    "\n",
    "print(\"빈도수 상위 582번 단어 : {}\".format(index_to_word[582]))"
   ]
  },
  {
   "cell_type": "code",
   "execution_count": 64,
   "metadata": {},
   "outputs": [
    {
     "name": "stdout",
     "output_type": "stream",
     "text": [
      "샘플의 최대 길이 : 320\n"
     ]
    }
   ],
   "source": [
    "max_len = max(len(l) for l in sequences)\n",
    "print(\"샘플의 최대 길이 : {}\".format(max_len))"
   ]
  },
  {
   "cell_type": "code",
   "execution_count": 65,
   "metadata": {},
   "outputs": [
    {
     "name": "stdout",
     "output_type": "stream",
     "text": [
      "[[  0   0   0   0   0   0   0   0   0   0   0   0   0   0   0   0   0   0\n",
      "    0   0   0   0   0   0   0   0   0   0   0   0   0   0   0   0   0   0\n",
      "    0   0   0   0   0   0   0   0   0   0   0   0   0   0   0   0   0   0\n",
      "    0   0   0   0   0   0   0   0   0   0   0   0   0   0   0   0   0   0\n",
      "    0   0   0   0   0   0   0   0   0   0   0   0   0   0   0   0   0   0\n",
      "    0   0   0   0   0   0   0   0   0   0   0   0   0   0   0   0   0   0\n",
      "    0   0   0   0   0   0   0   0   0   0   0   0   0   0   0   0   0   0\n",
      "    0   0   0   0   0   0   0   0   0   0   0   0   0   0   0   0   0   0\n",
      "    0   0   0   0   0   0   0   0   0   0   0   0   0   0   0   0   0   0\n",
      "    0   0   0   0   0   0   0   0   0   0   0   0   0   0   0   0   0   0\n",
      "    0   0   0   0   0   0   0   0   0   0   0   0   0   0   0   0   0   0\n",
      "    0   0   0   0   0   0   0   0   0   0   0   0   0   0   0   0   0   0\n",
      "    0   0   0   0   0   0   0   0   0   0   0   0   0   0   0   0   0   0\n",
      "    0   0   0   0   0   0   0   0   0   0   0   0   0   0   0   0   0   0\n",
      "    0   0   0   0   0   0   0   0   0   0   0   0   0   0   0   0   0   0\n",
      "    0   0   0   0   0   0   0   0   0   0   0   0   0   0   0   0   0   0\n",
      "    0   0   0   0   0   0   0   0   0   0   0   0   0   0   0   0   0   0\n",
      "    0   0   0   0   0   0   0   0   0   0   0   0  72 242]\n",
      " [  0   0   0   0   0   0   0   0   0   0   0   0   0   0   0   0   0   0\n",
      "    0   0   0   0   0   0   0   0   0   0   0   0   0   0   0   0   0   0\n",
      "    0   0   0   0   0   0   0   0   0   0   0   0   0   0   0   0   0   0\n",
      "    0   0   0   0   0   0   0   0   0   0   0   0   0   0   0   0   0   0\n",
      "    0   0   0   0   0   0   0   0   0   0   0   0   0   0   0   0   0   0\n",
      "    0   0   0   0   0   0   0   0   0   0   0   0   0   0   0   0   0   0\n",
      "    0   0   0   0   0   0   0   0   0   0   0   0   0   0   0   0   0   0\n",
      "    0   0   0   0   0   0   0   0   0   0   0   0   0   0   0   0   0   0\n",
      "    0   0   0   0   0   0   0   0   0   0   0   0   0   0   0   0   0   0\n",
      "    0   0   0   0   0   0   0   0   0   0   0   0   0   0   0   0   0   0\n",
      "    0   0   0   0   0   0   0   0   0   0   0   0   0   0   0   0   0   0\n",
      "    0   0   0   0   0   0   0   0   0   0   0   0   0   0   0   0   0   0\n",
      "    0   0   0   0   0   0   0   0   0   0   0   0   0   0   0   0   0   0\n",
      "    0   0   0   0   0   0   0   0   0   0   0   0   0   0   0   0   0   0\n",
      "    0   0   0   0   0   0   0   0   0   0   0   0   0   0   0   0   0   0\n",
      "    0   0   0   0   0   0   0   0   0   0   0   0   0   0   0   0   0   0\n",
      "    0   0   0   0   0   0   0   0   0   0   0   0   0   0   0   0   0   0\n",
      "    0   0   0   0   0   0   0   0   0   0   0  72 242  73]\n",
      " [  0   0   0   0   0   0   0   0   0   0   0   0   0   0   0   0   0   0\n",
      "    0   0   0   0   0   0   0   0   0   0   0   0   0   0   0   0   0   0\n",
      "    0   0   0   0   0   0   0   0   0   0   0   0   0   0   0   0   0   0\n",
      "    0   0   0   0   0   0   0   0   0   0   0   0   0   0   0   0   0   0\n",
      "    0   0   0   0   0   0   0   0   0   0   0   0   0   0   0   0   0   0\n",
      "    0   0   0   0   0   0   0   0   0   0   0   0   0   0   0   0   0   0\n",
      "    0   0   0   0   0   0   0   0   0   0   0   0   0   0   0   0   0   0\n",
      "    0   0   0   0   0   0   0   0   0   0   0   0   0   0   0   0   0   0\n",
      "    0   0   0   0   0   0   0   0   0   0   0   0   0   0   0   0   0   0\n",
      "    0   0   0   0   0   0   0   0   0   0   0   0   0   0   0   0   0   0\n",
      "    0   0   0   0   0   0   0   0   0   0   0   0   0   0   0   0   0   0\n",
      "    0   0   0   0   0   0   0   0   0   0   0   0   0   0   0   0   0   0\n",
      "    0   0   0   0   0   0   0   0   0   0   0   0   0   0   0   0   0   0\n",
      "    0   0   0   0   0   0   0   0   0   0   0   0   0   0   0   0   0   0\n",
      "    0   0   0   0   0   0   0   0   0   0   0   0   0   0   0   0   0   0\n",
      "    0   0   0   0   0   0   0   0   0   0   0   0   0   0   0   0   0   0\n",
      "    0   0   0   0   0   0   0   0   0   0   0   0   0   0   0   0   0   0\n",
      "    0   0   0   0   0   0   0   0   0   0  72 242  73 243]]\n"
     ]
    }
   ],
   "source": [
    "sequences = pad_sequences(sequences, maxlen=max_len, padding=\"pre\")\n",
    "print(sequences[:3])"
   ]
  },
  {
   "cell_type": "code",
   "execution_count": 66,
   "metadata": {},
   "outputs": [
    {
     "name": "stdout",
     "output_type": "stream",
     "text": [
      "[[  0   0   0   0   0   0   0   0   0   0   0   0   0   0   0   0   0   0\n",
      "    0   0   0   0   0   0   0   0   0   0   0   0   0   0   0   0   0   0\n",
      "    0   0   0   0   0   0   0   0   0   0   0   0   0   0   0   0   0   0\n",
      "    0   0   0   0   0   0   0   0   0   0   0   0   0   0   0   0   0   0\n",
      "    0   0   0   0   0   0   0   0   0   0   0   0   0   0   0   0   0   0\n",
      "    0   0   0   0   0   0   0   0   0   0   0   0   0   0   0   0   0   0\n",
      "    0   0   0   0   0   0   0   0   0   0   0   0   0   0   0   0   0   0\n",
      "    0   0   0   0   0   0   0   0   0   0   0   0   0   0   0   0   0   0\n",
      "    0   0   0   0   0   0   0   0   0   0   0   0   0   0   0   0   0   0\n",
      "    0   0   0   0   0   0   0   0   0   0   0   0   0   0   0   0   0   0\n",
      "    0   0   0   0   0   0   0   0   0   0   0   0   0   0   0   0   0   0\n",
      "    0   0   0   0   0   0   0   0   0   0   0   0   0   0   0   0   0   0\n",
      "    0   0   0   0   0   0   0   0   0   0   0   0   0   0   0   0   0   0\n",
      "    0   0   0   0   0   0   0   0   0   0   0   0   0   0   0   0   0   0\n",
      "    0   0   0   0   0   0   0   0   0   0   0   0   0   0   0   0   0   0\n",
      "    0   0   0   0   0   0   0   0   0   0   0   0   0   0   0   0   0   0\n",
      "    0   0   0   0   0   0   0   0   0   0   0   0   0   0   0   0   0   0\n",
      "    0   0   0   0   0   0   0   0   0   0   0   0  72]\n",
      " [  0   0   0   0   0   0   0   0   0   0   0   0   0   0   0   0   0   0\n",
      "    0   0   0   0   0   0   0   0   0   0   0   0   0   0   0   0   0   0\n",
      "    0   0   0   0   0   0   0   0   0   0   0   0   0   0   0   0   0   0\n",
      "    0   0   0   0   0   0   0   0   0   0   0   0   0   0   0   0   0   0\n",
      "    0   0   0   0   0   0   0   0   0   0   0   0   0   0   0   0   0   0\n",
      "    0   0   0   0   0   0   0   0   0   0   0   0   0   0   0   0   0   0\n",
      "    0   0   0   0   0   0   0   0   0   0   0   0   0   0   0   0   0   0\n",
      "    0   0   0   0   0   0   0   0   0   0   0   0   0   0   0   0   0   0\n",
      "    0   0   0   0   0   0   0   0   0   0   0   0   0   0   0   0   0   0\n",
      "    0   0   0   0   0   0   0   0   0   0   0   0   0   0   0   0   0   0\n",
      "    0   0   0   0   0   0   0   0   0   0   0   0   0   0   0   0   0   0\n",
      "    0   0   0   0   0   0   0   0   0   0   0   0   0   0   0   0   0   0\n",
      "    0   0   0   0   0   0   0   0   0   0   0   0   0   0   0   0   0   0\n",
      "    0   0   0   0   0   0   0   0   0   0   0   0   0   0   0   0   0   0\n",
      "    0   0   0   0   0   0   0   0   0   0   0   0   0   0   0   0   0   0\n",
      "    0   0   0   0   0   0   0   0   0   0   0   0   0   0   0   0   0   0\n",
      "    0   0   0   0   0   0   0   0   0   0   0   0   0   0   0   0   0   0\n",
      "    0   0   0   0   0   0   0   0   0   0   0  72 242]\n",
      " [  0   0   0   0   0   0   0   0   0   0   0   0   0   0   0   0   0   0\n",
      "    0   0   0   0   0   0   0   0   0   0   0   0   0   0   0   0   0   0\n",
      "    0   0   0   0   0   0   0   0   0   0   0   0   0   0   0   0   0   0\n",
      "    0   0   0   0   0   0   0   0   0   0   0   0   0   0   0   0   0   0\n",
      "    0   0   0   0   0   0   0   0   0   0   0   0   0   0   0   0   0   0\n",
      "    0   0   0   0   0   0   0   0   0   0   0   0   0   0   0   0   0   0\n",
      "    0   0   0   0   0   0   0   0   0   0   0   0   0   0   0   0   0   0\n",
      "    0   0   0   0   0   0   0   0   0   0   0   0   0   0   0   0   0   0\n",
      "    0   0   0   0   0   0   0   0   0   0   0   0   0   0   0   0   0   0\n",
      "    0   0   0   0   0   0   0   0   0   0   0   0   0   0   0   0   0   0\n",
      "    0   0   0   0   0   0   0   0   0   0   0   0   0   0   0   0   0   0\n",
      "    0   0   0   0   0   0   0   0   0   0   0   0   0   0   0   0   0   0\n",
      "    0   0   0   0   0   0   0   0   0   0   0   0   0   0   0   0   0   0\n",
      "    0   0   0   0   0   0   0   0   0   0   0   0   0   0   0   0   0   0\n",
      "    0   0   0   0   0   0   0   0   0   0   0   0   0   0   0   0   0   0\n",
      "    0   0   0   0   0   0   0   0   0   0   0   0   0   0   0   0   0   0\n",
      "    0   0   0   0   0   0   0   0   0   0   0   0   0   0   0   0   0   0\n",
      "    0   0   0   0   0   0   0   0   0   0  72 242  73]]\n"
     ]
    }
   ],
   "source": [
    "sequences = np.array(sequences)\n",
    "X = sequences[:,:-1]\n",
    "y = sequences[:,-1]\n",
    "\n",
    "print(X[:3])"
   ]
  },
  {
   "cell_type": "code",
   "execution_count": 67,
   "metadata": {},
   "outputs": [
    {
     "name": "stdout",
     "output_type": "stream",
     "text": [
      "[242  73 243]\n"
     ]
    }
   ],
   "source": [
    "print(y[:3])"
   ]
  },
  {
   "cell_type": "code",
   "execution_count": 68,
   "metadata": {},
   "outputs": [],
   "source": [
    "y = to_categorical(y, num_classes=vocab_size)"
   ]
  },
  {
   "cell_type": "markdown",
   "metadata": {},
   "source": [
    "# Make the model"
   ]
  },
  {
   "cell_type": "code",
   "execution_count": 69,
   "metadata": {},
   "outputs": [],
   "source": [
    "from tensorflow.keras.models import Sequential\n",
    "from tensorflow.keras.layers import Embedding, Dense, LSTM"
   ]
  },
  {
   "cell_type": "code",
   "execution_count": 70,
   "metadata": {},
   "outputs": [
    {
     "name": "stdout",
     "output_type": "stream",
     "text": [
      "Epoch 1/200\n"
     ]
    },
    {
     "name": "stdout",
     "output_type": "stream",
     "text": [
      "45/45 - 13s - 287ms/step - accuracy: 0.0272 - loss: 6.3503\n",
      "Epoch 2/200\n",
      "45/45 - 11s - 242ms/step - accuracy: 0.0307 - loss: 6.0247\n",
      "Epoch 3/200\n",
      "45/45 - 10s - 221ms/step - accuracy: 0.0258 - loss: 5.9614\n",
      "Epoch 4/200\n",
      "45/45 - 11s - 236ms/step - accuracy: 0.0321 - loss: 5.9415\n",
      "Epoch 5/200\n",
      "45/45 - 11s - 242ms/step - accuracy: 0.0251 - loss: 5.9177\n",
      "Epoch 6/200\n",
      "45/45 - 11s - 240ms/step - accuracy: 0.0328 - loss: 5.8724\n",
      "Epoch 7/200\n",
      "45/45 - 11s - 240ms/step - accuracy: 0.0272 - loss: 5.8164\n",
      "Epoch 8/200\n",
      "45/45 - 11s - 239ms/step - accuracy: 0.0342 - loss: 5.7053\n",
      "Epoch 9/200\n",
      "45/45 - 11s - 235ms/step - accuracy: 0.0328 - loss: 5.5608\n",
      "Epoch 10/200\n",
      "45/45 - 11s - 238ms/step - accuracy: 0.0293 - loss: 5.4143\n",
      "Epoch 11/200\n",
      "45/45 - 11s - 237ms/step - accuracy: 0.0363 - loss: 5.2752\n",
      "Epoch 12/200\n",
      "45/45 - 11s - 235ms/step - accuracy: 0.0432 - loss: 5.1239\n",
      "Epoch 13/200\n",
      "45/45 - 11s - 236ms/step - accuracy: 0.0579 - loss: 4.9612\n",
      "Epoch 14/200\n",
      "45/45 - 11s - 236ms/step - accuracy: 0.0662 - loss: 4.8029\n",
      "Epoch 15/200\n",
      "45/45 - 11s - 240ms/step - accuracy: 0.0823 - loss: 4.6317\n",
      "Epoch 16/200\n",
      "45/45 - 11s - 239ms/step - accuracy: 0.0900 - loss: 4.4664\n",
      "Epoch 17/200\n",
      "45/45 - 11s - 238ms/step - accuracy: 0.1032 - loss: 4.3030\n",
      "Epoch 18/200\n",
      "45/45 - 11s - 240ms/step - accuracy: 0.1172 - loss: 4.1496\n",
      "Epoch 19/200\n",
      "45/45 - 11s - 238ms/step - accuracy: 0.1276 - loss: 3.9965\n",
      "Epoch 20/200\n",
      "45/45 - 11s - 237ms/step - accuracy: 0.1555 - loss: 3.8623\n",
      "Epoch 21/200\n",
      "45/45 - 11s - 236ms/step - accuracy: 0.1771 - loss: 3.7252\n",
      "Epoch 22/200\n",
      "45/45 - 11s - 235ms/step - accuracy: 0.1883 - loss: 3.5941\n",
      "Epoch 23/200\n",
      "45/45 - 11s - 240ms/step - accuracy: 0.2092 - loss: 3.4794\n",
      "Epoch 24/200\n",
      "45/45 - 11s - 236ms/step - accuracy: 0.2510 - loss: 3.3447\n",
      "Epoch 25/200\n",
      "45/45 - 11s - 239ms/step - accuracy: 0.2678 - loss: 3.2371\n",
      "Epoch 26/200\n",
      "45/45 - 11s - 236ms/step - accuracy: 0.3013 - loss: 3.1236\n",
      "Epoch 27/200\n",
      "45/45 - 11s - 237ms/step - accuracy: 0.3291 - loss: 3.0122\n",
      "Epoch 28/200\n",
      "45/45 - 11s - 240ms/step - accuracy: 0.3626 - loss: 2.9096\n",
      "Epoch 29/200\n",
      "45/45 - 11s - 236ms/step - accuracy: 0.3877 - loss: 2.8150\n",
      "Epoch 30/200\n",
      "45/45 - 11s - 235ms/step - accuracy: 0.4261 - loss: 2.7070\n",
      "Epoch 31/200\n",
      "45/45 - 11s - 236ms/step - accuracy: 0.4554 - loss: 2.6187\n",
      "Epoch 32/200\n",
      "45/45 - 11s - 236ms/step - accuracy: 0.4819 - loss: 2.5228\n",
      "Epoch 33/200\n",
      "45/45 - 11s - 239ms/step - accuracy: 0.5126 - loss: 2.4375\n",
      "Epoch 34/200\n",
      "45/45 - 11s - 238ms/step - accuracy: 0.5300 - loss: 2.3455\n",
      "Epoch 35/200\n",
      "45/45 - 11s - 236ms/step - accuracy: 0.5642 - loss: 2.2631\n",
      "Epoch 36/200\n",
      "45/45 - 11s - 238ms/step - accuracy: 0.5837 - loss: 2.1808\n",
      "Epoch 37/200\n",
      "45/45 - 11s - 235ms/step - accuracy: 0.6088 - loss: 2.1069\n",
      "Epoch 38/200\n",
      "45/45 - 11s - 235ms/step - accuracy: 0.6179 - loss: 2.0330\n",
      "Epoch 39/200\n",
      "45/45 - 11s - 241ms/step - accuracy: 0.6444 - loss: 1.9675\n",
      "Epoch 40/200\n",
      "45/45 - 11s - 238ms/step - accuracy: 0.6492 - loss: 1.8916\n",
      "Epoch 41/200\n",
      "45/45 - 11s - 234ms/step - accuracy: 0.6827 - loss: 1.8211\n",
      "Epoch 42/200\n",
      "45/45 - 10s - 233ms/step - accuracy: 0.6890 - loss: 1.7586\n",
      "Epoch 43/200\n",
      "45/45 - 11s - 235ms/step - accuracy: 0.6967 - loss: 1.6960\n",
      "Epoch 44/200\n",
      "45/45 - 11s - 237ms/step - accuracy: 0.7225 - loss: 1.6431\n",
      "Epoch 45/200\n",
      "45/45 - 11s - 237ms/step - accuracy: 0.7308 - loss: 1.5770\n",
      "Epoch 46/200\n",
      "45/45 - 11s - 238ms/step - accuracy: 0.7357 - loss: 1.5228\n",
      "Epoch 47/200\n",
      "45/45 - 11s - 239ms/step - accuracy: 0.7517 - loss: 1.4769\n",
      "Epoch 48/200\n",
      "45/45 - 11s - 234ms/step - accuracy: 0.7643 - loss: 1.4198\n",
      "Epoch 49/200\n",
      "45/45 - 11s - 238ms/step - accuracy: 0.7615 - loss: 1.3692\n",
      "Epoch 50/200\n",
      "45/45 - 11s - 238ms/step - accuracy: 0.7817 - loss: 1.3228\n",
      "Epoch 51/200\n",
      "45/45 - 11s - 238ms/step - accuracy: 0.7964 - loss: 1.2720\n",
      "Epoch 52/200\n",
      "45/45 - 11s - 238ms/step - accuracy: 0.7985 - loss: 1.2291\n",
      "Epoch 53/200\n",
      "45/45 - 11s - 238ms/step - accuracy: 0.8110 - loss: 1.1836\n",
      "Epoch 54/200\n",
      "45/45 - 11s - 239ms/step - accuracy: 0.8187 - loss: 1.1505\n",
      "Epoch 55/200\n",
      "45/45 - 11s - 239ms/step - accuracy: 0.8361 - loss: 1.1085\n",
      "Epoch 56/200\n",
      "45/45 - 11s - 241ms/step - accuracy: 0.8319 - loss: 1.0712\n",
      "Epoch 57/200\n",
      "45/45 - 11s - 238ms/step - accuracy: 0.8431 - loss: 1.0309\n",
      "Epoch 58/200\n",
      "45/45 - 11s - 241ms/step - accuracy: 0.8480 - loss: 1.0037\n",
      "Epoch 59/200\n",
      "45/45 - 11s - 240ms/step - accuracy: 0.8556 - loss: 0.9617\n",
      "Epoch 60/200\n",
      "45/45 - 11s - 235ms/step - accuracy: 0.8633 - loss: 0.9303\n",
      "Epoch 61/200\n",
      "45/45 - 11s - 236ms/step - accuracy: 0.8724 - loss: 0.8987\n",
      "Epoch 62/200\n",
      "45/45 - 11s - 235ms/step - accuracy: 0.8794 - loss: 0.8724\n",
      "Epoch 63/200\n",
      "45/45 - 11s - 239ms/step - accuracy: 0.8794 - loss: 0.8433\n",
      "Epoch 64/200\n",
      "45/45 - 11s - 237ms/step - accuracy: 0.8870 - loss: 0.8166\n",
      "Epoch 65/200\n",
      "45/45 - 11s - 239ms/step - accuracy: 0.8940 - loss: 0.7861\n",
      "Epoch 66/200\n",
      "45/45 - 11s - 241ms/step - accuracy: 0.9093 - loss: 0.7582\n",
      "Epoch 67/200\n",
      "45/45 - 11s - 240ms/step - accuracy: 0.9038 - loss: 0.7341\n",
      "Epoch 68/200\n",
      "45/45 - 11s - 238ms/step - accuracy: 0.9059 - loss: 0.7135\n",
      "Epoch 69/200\n",
      "45/45 - 11s - 236ms/step - accuracy: 0.9156 - loss: 0.6842\n",
      "Epoch 70/200\n",
      "45/45 - 10s - 232ms/step - accuracy: 0.9170 - loss: 0.6645\n",
      "Epoch 71/200\n",
      "45/45 - 11s - 235ms/step - accuracy: 0.9261 - loss: 0.6414\n",
      "Epoch 72/200\n",
      "45/45 - 11s - 241ms/step - accuracy: 0.9226 - loss: 0.6216\n",
      "Epoch 73/200\n",
      "45/45 - 11s - 235ms/step - accuracy: 0.9226 - loss: 0.6009\n",
      "Epoch 74/200\n",
      "45/45 - 11s - 237ms/step - accuracy: 0.9303 - loss: 0.5838\n",
      "Epoch 75/200\n",
      "45/45 - 11s - 237ms/step - accuracy: 0.9275 - loss: 0.5647\n",
      "Epoch 76/200\n",
      "45/45 - 11s - 237ms/step - accuracy: 0.9317 - loss: 0.5476\n",
      "Epoch 77/200\n",
      "45/45 - 11s - 237ms/step - accuracy: 0.9351 - loss: 0.5308\n",
      "Epoch 78/200\n",
      "45/45 - 10s - 232ms/step - accuracy: 0.9372 - loss: 0.5135\n",
      "Epoch 79/200\n",
      "45/45 - 11s - 236ms/step - accuracy: 0.9393 - loss: 0.4957\n",
      "Epoch 80/200\n",
      "45/45 - 11s - 237ms/step - accuracy: 0.9477 - loss: 0.4785\n",
      "Epoch 81/200\n",
      "45/45 - 11s - 235ms/step - accuracy: 0.9428 - loss: 0.4685\n",
      "Epoch 82/200\n",
      "45/45 - 11s - 236ms/step - accuracy: 0.9456 - loss: 0.4519\n",
      "Epoch 83/200\n",
      "45/45 - 11s - 237ms/step - accuracy: 0.9491 - loss: 0.4381\n",
      "Epoch 84/200\n",
      "45/45 - 11s - 240ms/step - accuracy: 0.9519 - loss: 0.4260\n",
      "Epoch 85/200\n",
      "45/45 - 10s - 232ms/step - accuracy: 0.9491 - loss: 0.4121\n",
      "Epoch 86/200\n",
      "45/45 - 11s - 234ms/step - accuracy: 0.9498 - loss: 0.4007\n",
      "Epoch 87/200\n",
      "45/45 - 11s - 237ms/step - accuracy: 0.9540 - loss: 0.3877\n",
      "Epoch 88/200\n",
      "45/45 - 11s - 235ms/step - accuracy: 0.9540 - loss: 0.3785\n",
      "Epoch 89/200\n",
      "45/45 - 11s - 236ms/step - accuracy: 0.9561 - loss: 0.3650\n",
      "Epoch 90/200\n",
      "45/45 - 10s - 233ms/step - accuracy: 0.9582 - loss: 0.3538\n",
      "Epoch 91/200\n",
      "45/45 - 11s - 240ms/step - accuracy: 0.9582 - loss: 0.3454\n",
      "Epoch 92/200\n",
      "45/45 - 11s - 236ms/step - accuracy: 0.9596 - loss: 0.3316\n",
      "Epoch 93/200\n",
      "45/45 - 11s - 234ms/step - accuracy: 0.9603 - loss: 0.3234\n",
      "Epoch 94/200\n",
      "45/45 - 11s - 243ms/step - accuracy: 0.9582 - loss: 0.3156\n",
      "Epoch 95/200\n",
      "45/45 - 11s - 239ms/step - accuracy: 0.9658 - loss: 0.3070\n",
      "Epoch 96/200\n",
      "45/45 - 11s - 240ms/step - accuracy: 0.9630 - loss: 0.2967\n",
      "Epoch 97/200\n",
      "45/45 - 11s - 236ms/step - accuracy: 0.9644 - loss: 0.2907\n",
      "Epoch 98/200\n",
      "45/45 - 11s - 235ms/step - accuracy: 0.9658 - loss: 0.2837\n",
      "Epoch 99/200\n",
      "45/45 - 11s - 234ms/step - accuracy: 0.9651 - loss: 0.2752\n",
      "Epoch 100/200\n",
      "45/45 - 11s - 238ms/step - accuracy: 0.9679 - loss: 0.2688\n",
      "Epoch 101/200\n",
      "45/45 - 11s - 234ms/step - accuracy: 0.9672 - loss: 0.2601\n",
      "Epoch 102/200\n",
      "45/45 - 11s - 234ms/step - accuracy: 0.9707 - loss: 0.2520\n",
      "Epoch 103/200\n",
      "45/45 - 11s - 234ms/step - accuracy: 0.9707 - loss: 0.2451\n",
      "Epoch 104/200\n",
      "45/45 - 11s - 235ms/step - accuracy: 0.9686 - loss: 0.2397\n",
      "Epoch 105/200\n",
      "45/45 - 11s - 236ms/step - accuracy: 0.9700 - loss: 0.2341\n",
      "Epoch 106/200\n",
      "45/45 - 11s - 237ms/step - accuracy: 0.9707 - loss: 0.2262\n",
      "Epoch 107/200\n",
      "45/45 - 11s - 238ms/step - accuracy: 0.9728 - loss: 0.2224\n",
      "Epoch 108/200\n",
      "45/45 - 11s - 234ms/step - accuracy: 0.9763 - loss: 0.2177\n",
      "Epoch 109/200\n",
      "45/45 - 11s - 235ms/step - accuracy: 0.9749 - loss: 0.2096\n",
      "Epoch 110/200\n",
      "45/45 - 11s - 240ms/step - accuracy: 0.9763 - loss: 0.2036\n",
      "Epoch 111/200\n",
      "45/45 - 11s - 238ms/step - accuracy: 0.9756 - loss: 0.1993\n",
      "Epoch 112/200\n",
      "45/45 - 11s - 238ms/step - accuracy: 0.9756 - loss: 0.1941\n",
      "Epoch 113/200\n",
      "45/45 - 11s - 235ms/step - accuracy: 0.9749 - loss: 0.1896\n",
      "Epoch 114/200\n",
      "45/45 - 11s - 234ms/step - accuracy: 0.9791 - loss: 0.1852\n",
      "Epoch 115/200\n",
      "45/45 - 11s - 235ms/step - accuracy: 0.9777 - loss: 0.1809\n",
      "Epoch 116/200\n",
      "45/45 - 11s - 234ms/step - accuracy: 0.9777 - loss: 0.1779\n",
      "Epoch 117/200\n",
      "45/45 - 11s - 235ms/step - accuracy: 0.9777 - loss: 0.1720\n",
      "Epoch 118/200\n",
      "45/45 - 11s - 238ms/step - accuracy: 0.9784 - loss: 0.1681\n",
      "Epoch 119/200\n",
      "45/45 - 11s - 236ms/step - accuracy: 0.9812 - loss: 0.1647\n",
      "Epoch 120/200\n",
      "45/45 - 11s - 234ms/step - accuracy: 0.9805 - loss: 0.1599\n",
      "Epoch 121/200\n",
      "45/45 - 11s - 238ms/step - accuracy: 0.9777 - loss: 0.1570\n",
      "Epoch 122/200\n",
      "45/45 - 11s - 234ms/step - accuracy: 0.9791 - loss: 0.1545\n",
      "Epoch 123/200\n",
      "45/45 - 11s - 237ms/step - accuracy: 0.9784 - loss: 0.1499\n",
      "Epoch 124/200\n",
      "45/45 - 11s - 236ms/step - accuracy: 0.9777 - loss: 0.1482\n",
      "Epoch 125/200\n",
      "45/45 - 11s - 235ms/step - accuracy: 0.9805 - loss: 0.1472\n",
      "Epoch 126/200\n",
      "45/45 - 11s - 235ms/step - accuracy: 0.9805 - loss: 0.1421\n",
      "Epoch 127/200\n",
      "45/45 - 11s - 234ms/step - accuracy: 0.9812 - loss: 0.1379\n",
      "Epoch 128/200\n",
      "45/45 - 11s - 236ms/step - accuracy: 0.9819 - loss: 0.1340\n",
      "Epoch 129/200\n",
      "45/45 - 11s - 238ms/step - accuracy: 0.9812 - loss: 0.1326\n",
      "Epoch 130/200\n",
      "45/45 - 11s - 234ms/step - accuracy: 0.9819 - loss: 0.1291\n",
      "Epoch 131/200\n",
      "45/45 - 11s - 236ms/step - accuracy: 0.9826 - loss: 0.1261\n",
      "Epoch 132/200\n",
      "45/45 - 11s - 235ms/step - accuracy: 0.9840 - loss: 0.1217\n",
      "Epoch 133/200\n",
      "45/45 - 10s - 231ms/step - accuracy: 0.9833 - loss: 0.1217\n",
      "Epoch 134/200\n",
      "45/45 - 8s - 174ms/step - accuracy: 0.9847 - loss: 0.1170\n",
      "Epoch 135/200\n",
      "45/45 - 7s - 167ms/step - accuracy: 0.9861 - loss: 0.1136\n",
      "Epoch 136/200\n",
      "45/45 - 7s - 164ms/step - accuracy: 0.9847 - loss: 0.1126\n",
      "Epoch 137/200\n",
      "45/45 - 7s - 164ms/step - accuracy: 0.9833 - loss: 0.1101\n",
      "Epoch 138/200\n",
      "45/45 - 7s - 165ms/step - accuracy: 0.9854 - loss: 0.1078\n",
      "Epoch 139/200\n",
      "45/45 - 7s - 163ms/step - accuracy: 0.9840 - loss: 0.1063\n",
      "Epoch 140/200\n",
      "45/45 - 7s - 165ms/step - accuracy: 0.9854 - loss: 0.1026\n",
      "Epoch 141/200\n",
      "45/45 - 7s - 167ms/step - accuracy: 0.9847 - loss: 0.1004\n",
      "Epoch 142/200\n",
      "45/45 - 7s - 166ms/step - accuracy: 0.9881 - loss: 0.0987\n",
      "Epoch 143/200\n",
      "45/45 - 7s - 165ms/step - accuracy: 0.9840 - loss: 0.0975\n",
      "Epoch 144/200\n",
      "45/45 - 7s - 166ms/step - accuracy: 0.9847 - loss: 0.0955\n",
      "Epoch 145/200\n",
      "45/45 - 7s - 166ms/step - accuracy: 0.9847 - loss: 0.0947\n",
      "Epoch 146/200\n",
      "45/45 - 8s - 168ms/step - accuracy: 0.9861 - loss: 0.0916\n",
      "Epoch 147/200\n",
      "45/45 - 8s - 167ms/step - accuracy: 0.9861 - loss: 0.0901\n",
      "Epoch 148/200\n",
      "45/45 - 8s - 167ms/step - accuracy: 0.9861 - loss: 0.0889\n",
      "Epoch 149/200\n",
      "45/45 - 8s - 167ms/step - accuracy: 0.9861 - loss: 0.0865\n",
      "Epoch 150/200\n",
      "45/45 - 8s - 167ms/step - accuracy: 0.9847 - loss: 0.0843\n",
      "Epoch 151/200\n",
      "45/45 - 8s - 168ms/step - accuracy: 0.9861 - loss: 0.0835\n",
      "Epoch 152/200\n",
      "45/45 - 8s - 169ms/step - accuracy: 0.9874 - loss: 0.0816\n",
      "Epoch 153/200\n",
      "45/45 - 8s - 168ms/step - accuracy: 0.9861 - loss: 0.0821\n",
      "Epoch 154/200\n",
      "45/45 - 8s - 168ms/step - accuracy: 0.9833 - loss: 0.0801\n",
      "Epoch 155/200\n",
      "45/45 - 8s - 168ms/step - accuracy: 0.9874 - loss: 0.0788\n",
      "Epoch 156/200\n",
      "45/45 - 8s - 168ms/step - accuracy: 0.9833 - loss: 0.0950\n",
      "Epoch 157/200\n",
      "45/45 - 8s - 168ms/step - accuracy: 0.9554 - loss: 0.2091\n",
      "Epoch 158/200\n",
      "45/45 - 8s - 169ms/step - accuracy: 0.9735 - loss: 0.1391\n",
      "Epoch 159/200\n",
      "45/45 - 8s - 168ms/step - accuracy: 0.9868 - loss: 0.0973\n",
      "Epoch 160/200\n",
      "45/45 - 8s - 170ms/step - accuracy: 0.9854 - loss: 0.0831\n",
      "Epoch 161/200\n",
      "45/45 - 8s - 169ms/step - accuracy: 0.9840 - loss: 0.0777\n",
      "Epoch 162/200\n",
      "45/45 - 8s - 170ms/step - accuracy: 0.9874 - loss: 0.0730\n",
      "Epoch 163/200\n",
      "45/45 - 8s - 169ms/step - accuracy: 0.9847 - loss: 0.0719\n",
      "Epoch 164/200\n",
      "45/45 - 8s - 170ms/step - accuracy: 0.9874 - loss: 0.0701\n",
      "Epoch 165/200\n",
      "45/45 - 8s - 168ms/step - accuracy: 0.9861 - loss: 0.0679\n",
      "Epoch 166/200\n",
      "45/45 - 8s - 169ms/step - accuracy: 0.9868 - loss: 0.0659\n",
      "Epoch 167/200\n",
      "45/45 - 8s - 168ms/step - accuracy: 0.9902 - loss: 0.0651\n",
      "Epoch 168/200\n",
      "45/45 - 8s - 168ms/step - accuracy: 0.9868 - loss: 0.0643\n",
      "Epoch 169/200\n",
      "45/45 - 8s - 171ms/step - accuracy: 0.9888 - loss: 0.0629\n",
      "Epoch 170/200\n",
      "45/45 - 8s - 167ms/step - accuracy: 0.9868 - loss: 0.0624\n",
      "Epoch 171/200\n",
      "45/45 - 7s - 167ms/step - accuracy: 0.9874 - loss: 0.0619\n",
      "Epoch 172/200\n",
      "45/45 - 8s - 167ms/step - accuracy: 0.9874 - loss: 0.0600\n",
      "Epoch 173/200\n",
      "45/45 - 8s - 168ms/step - accuracy: 0.9888 - loss: 0.0590\n",
      "Epoch 174/200\n",
      "45/45 - 8s - 167ms/step - accuracy: 0.9874 - loss: 0.0583\n",
      "Epoch 175/200\n",
      "45/45 - 8s - 167ms/step - accuracy: 0.9888 - loss: 0.0582\n",
      "Epoch 176/200\n",
      "45/45 - 8s - 168ms/step - accuracy: 0.9868 - loss: 0.0620\n",
      "Epoch 177/200\n",
      "45/45 - 8s - 167ms/step - accuracy: 0.9881 - loss: 0.0593\n",
      "Epoch 178/200\n",
      "45/45 - 7s - 167ms/step - accuracy: 0.9874 - loss: 0.0587\n",
      "Epoch 179/200\n",
      "45/45 - 7s - 166ms/step - accuracy: 0.9868 - loss: 0.0603\n",
      "Epoch 180/200\n",
      "45/45 - 8s - 168ms/step - accuracy: 0.9868 - loss: 0.0575\n",
      "Epoch 181/200\n",
      "45/45 - 8s - 167ms/step - accuracy: 0.9881 - loss: 0.0550\n",
      "Epoch 182/200\n",
      "45/45 - 8s - 167ms/step - accuracy: 0.9854 - loss: 0.0545\n",
      "Epoch 183/200\n",
      "45/45 - 8s - 167ms/step - accuracy: 0.9874 - loss: 0.0543\n",
      "Epoch 184/200\n",
      "45/45 - 7s - 167ms/step - accuracy: 0.9874 - loss: 0.0527\n",
      "Epoch 185/200\n",
      "45/45 - 8s - 168ms/step - accuracy: 0.9868 - loss: 0.0510\n",
      "Epoch 186/200\n",
      "45/45 - 8s - 168ms/step - accuracy: 0.9881 - loss: 0.0507\n",
      "Epoch 187/200\n",
      "45/45 - 8s - 167ms/step - accuracy: 0.9881 - loss: 0.0503\n",
      "Epoch 188/200\n",
      "45/45 - 8s - 168ms/step - accuracy: 0.9888 - loss: 0.0502\n",
      "Epoch 189/200\n",
      "45/45 - 8s - 168ms/step - accuracy: 0.9861 - loss: 0.0523\n",
      "Epoch 190/200\n",
      "45/45 - 8s - 168ms/step - accuracy: 0.9868 - loss: 0.0512\n",
      "Epoch 191/200\n",
      "45/45 - 8s - 168ms/step - accuracy: 0.9868 - loss: 0.0498\n",
      "Epoch 192/200\n",
      "45/45 - 8s - 167ms/step - accuracy: 0.9888 - loss: 0.0469\n",
      "Epoch 193/200\n",
      "45/45 - 8s - 168ms/step - accuracy: 0.9881 - loss: 0.0466\n",
      "Epoch 194/200\n",
      "45/45 - 8s - 168ms/step - accuracy: 0.9895 - loss: 0.0463\n",
      "Epoch 195/200\n",
      "45/45 - 8s - 168ms/step - accuracy: 0.9895 - loss: 0.0459\n",
      "Epoch 196/200\n",
      "45/45 - 8s - 169ms/step - accuracy: 0.9874 - loss: 0.0456\n",
      "Epoch 197/200\n",
      "45/45 - 8s - 167ms/step - accuracy: 0.9868 - loss: 0.0450\n",
      "Epoch 198/200\n",
      "45/45 - 8s - 167ms/step - accuracy: 0.9888 - loss: 0.0441\n",
      "Epoch 199/200\n",
      "45/45 - 8s - 168ms/step - accuracy: 0.9881 - loss: 0.0461\n",
      "Epoch 200/200\n",
      "45/45 - 8s - 171ms/step - accuracy: 0.9861 - loss: 0.0478\n"
     ]
    },
    {
     "data": {
      "text/plain": [
       "<keras.src.callbacks.history.History at 0x7f95735731f0>"
      ]
     },
     "execution_count": 70,
     "metadata": {},
     "output_type": "execute_result"
    }
   ],
   "source": [
    "embedding_dim = 10\n",
    "hidden_units = 128\n",
    "\n",
    "model = Sequential()\n",
    "model.add(Embedding(vocab_size, embedding_dim))\n",
    "model.add(LSTM(hidden_units))\n",
    "model.add(Dense(vocab_size, activation='softmax'))\n",
    "model.compile(loss='categorical_crossentropy', optimizer='adam', metrics=['accuracy'])\n",
    "model.fit(X, y, epochs=200, verbose=2)"
   ]
  },
  {
   "cell_type": "code",
   "execution_count": 71,
   "metadata": {},
   "outputs": [],
   "source": [
    "def sentence_generation(model, tokenizer, current_word, n): # 모델, 토크나이저, 현재 단어, 반복할 횟수\n",
    "    init_word = current_word\n",
    "    sentence = ''\n",
    "\n",
    "    # n번 반복\n",
    "    for _ in range(n):\n",
    "        encoded = tokenizer.texts_to_sequences([current_word])[0]\n",
    "        encoded = pad_sequences([encoded], maxlen=max_len-1, padding=\"pre\")\n",
    "\n",
    "        # 입력한 X(현재 단어)에 대해서 y를 예측하고 y(예측한 단어)를 result에 저장.\n",
    "        result = model.predict(encoded, verbose=0)\n",
    "        result = np.argmax(result, axis=1)\n",
    "\n",
    "        for word, index in tokenizer.word_index.items(): \n",
    "            # 만약 예측한 단어와 인덱스와 동일한 단어가 있다면\n",
    "            if index == result:\n",
    "                break\n",
    "\n",
    "        # 현재 단어 + ' ' + 예측 단어를 현재 단어로 변경\n",
    "        current_word = current_word + ' '  + word\n",
    "\n",
    "        # 예측 단어를 문장에 저장\n",
    "        sentence = sentence + ' ' + word\n",
    "\n",
    "    sentence = init_word + sentence\n",
    "    return sentence"
   ]
  },
  {
   "cell_type": "code",
   "execution_count": 1,
   "metadata": {},
   "outputs": [
    {
     "ename": "NameError",
     "evalue": "name 'sentence_generation' is not defined",
     "output_type": "error",
     "traceback": [
      "\u001b[0;31m---------------------------------------------------------------------------\u001b[0m",
      "\u001b[0;31mNameError\u001b[0m                                 Traceback (most recent call last)",
      "Cell \u001b[0;32mIn[1], line 1\u001b[0m\n\u001b[0;32m----> 1\u001b[0m \u001b[38;5;28mprint\u001b[39m(\u001b[43msentence_generation\u001b[49m(model, tokenizer, \u001b[38;5;124m\"\u001b[39m\u001b[38;5;124mWe need to save our environment\u001b[39m\u001b[38;5;124m\"\u001b[39m, \u001b[38;5;241m35\u001b[39m))\n",
      "\u001b[0;31mNameError\u001b[0m: name 'sentence_generation' is not defined"
     ]
    }
   ],
   "source": [
    "print(sentence_generation(model, tokenizer, \"We need to save our environment\", 35))"
   ]
  },
  {
   "cell_type": "code",
   "execution_count": 73,
   "metadata": {},
   "outputs": [
    {
     "name": "stdout",
     "output_type": "stream",
     "text": [
      "Trump, Donald J the epa banned asbestos in 1989 but the rule was largely overturned by a 1991 court of appeals decision that weakened the epas authority under tsca to address risks to\n"
     ]
    }
   ],
   "source": [
    "print(sentence_generation(model, tokenizer, \"Trump, Donald J\", 30))"
   ]
  }
 ],
 "metadata": {
  "kernelspec": {
   "display_name": "venv",
   "language": "python",
   "name": "python3"
  },
  "language_info": {
   "codemirror_mode": {
    "name": "ipython",
    "version": 3
   },
   "file_extension": ".py",
   "mimetype": "text/x-python",
   "name": "python",
   "nbconvert_exporter": "python",
   "pygments_lexer": "ipython3",
   "version": "3.10.12"
  }
 },
 "nbformat": 4,
 "nbformat_minor": 2
}
