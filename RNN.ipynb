{
 "cells": [
  {
   "cell_type": "code",
   "execution_count": 1,
   "metadata": {},
   "outputs": [
    {
     "name": "stderr",
     "output_type": "stream",
     "text": [
      "2024-03-12 01:25:56.807131: I external/local_tsl/tsl/cuda/cudart_stub.cc:32] Could not find cuda drivers on your machine, GPU will not be used.\n",
      "2024-03-12 01:25:56.887913: I external/local_tsl/tsl/cuda/cudart_stub.cc:32] Could not find cuda drivers on your machine, GPU will not be used.\n",
      "2024-03-12 01:25:57.199413: I tensorflow/core/platform/cpu_feature_guard.cc:210] This TensorFlow binary is optimized to use available CPU instructions in performance-critical operations.\n",
      "To enable the following instructions: AVX2 FMA, in other operations, rebuild TensorFlow with the appropriate compiler flags.\n",
      "2024-03-12 01:25:58.118737: W tensorflow/compiler/tf2tensorrt/utils/py_utils.cc:38] TF-TRT Warning: Could not find TensorRT\n"
     ]
    }
   ],
   "source": [
    "import numpy as np\n",
    "from tensorflow.keras.preprocessing.text import Tokenizer\n",
    "from tensorflow.keras.preprocessing.sequence import pad_sequences\n",
    "from tensorflow.keras.utils import to_categorical"
   ]
  },
  {
   "cell_type": "code",
   "execution_count": 2,
   "metadata": {},
   "outputs": [],
   "source": [
    "text = \"\"\"경마장에 있는 말이 뛰고 있다\\n\n",
    "그의 말이 법이다\\n\n",
    "가는 말이 고와야 오는 말이 곱다\\n\"\"\""
   ]
  },
  {
   "cell_type": "code",
   "execution_count": 3,
   "metadata": {},
   "outputs": [
    {
     "name": "stdout",
     "output_type": "stream",
     "text": [
      "단어 집합의 크기 : 12\n"
     ]
    }
   ],
   "source": [
    "tokenizer = Tokenizer()\n",
    "tokenizer.fit_on_texts([text])\n",
    "vocab_size = len(tokenizer.word_index) + 1\n",
    "print('단어 집합의 크기 : %d' % vocab_size)"
   ]
  },
  {
   "cell_type": "code",
   "execution_count": 4,
   "metadata": {},
   "outputs": [
    {
     "name": "stdout",
     "output_type": "stream",
     "text": [
      "{'말이': 1, '경마장에': 2, '있는': 3, '뛰고': 4, '있다': 5, '그의': 6, '법이다': 7, '가는': 8, '고와야': 9, '오는': 10, '곱다': 11}\n"
     ]
    }
   ],
   "source": [
    "print(tokenizer.word_index)"
   ]
  },
  {
   "cell_type": "code",
   "execution_count": 20,
   "metadata": {},
   "outputs": [
    {
     "name": "stdout",
     "output_type": "stream",
     "text": [
      "경마장에 있는 말이 뛰고 있다\n",
      "\n",
      "그의 말이 법이다\n",
      "\n",
      "가는 말이 고와야 오는 말이 곱다\n",
      "\n",
      "[[2, 3], [2, 3, 1], [2, 3, 1, 4], [2, 3, 1, 4, 5], [6, 1], [6, 1, 7], [8, 1], [8, 1, 9], [8, 1, 9, 10], [8, 1, 9, 10, 1], [8, 1, 9, 10, 1, 11]]\n",
      "학습에 사용할 샘플의 개수: 11\n"
     ]
    }
   ],
   "source": [
    "sequences = list()\n",
    "for line in text.split('\\n'): # 줄바꿈 문자를 기준으로 문장 토큰화\n",
    "    encoded = tokenizer.texts_to_sequences([line])[0]\n",
    "    for i in range(1, len(encoded)):\n",
    "        sequence = encoded[:i+1]\n",
    "        sequences.append(sequence)\n",
    "\n",
    "print(sequences[:11])\n",
    "print('학습에 사용할 샘플의 개수: %d' % len(sequences))"
   ]
  },
  {
   "cell_type": "code",
   "execution_count": 6,
   "metadata": {},
   "outputs": [
    {
     "name": "stdout",
     "output_type": "stream",
     "text": [
      "[[2, 3], [2, 3, 1], [2, 3, 1, 4], [2, 3, 1, 4, 5], [6, 1], [6, 1, 7], [8, 1], [8, 1, 9], [8, 1, 9, 10], [8, 1, 9, 10, 1], [8, 1, 9, 10, 1, 11]]\n"
     ]
    }
   ],
   "source": [
    "print(sequences)"
   ]
  },
  {
   "cell_type": "code",
   "execution_count": 7,
   "metadata": {},
   "outputs": [
    {
     "name": "stdout",
     "output_type": "stream",
     "text": [
      "샘플의 최대 길이 : 6\n"
     ]
    }
   ],
   "source": [
    "max_len = max(len(l) for l in sequences) # 모든 샘플에서 길이가 가장 긴 샘플의 길이 출력\n",
    "print('샘플의 최대 길이 : {}'.format(max_len))"
   ]
  },
  {
   "cell_type": "code",
   "execution_count": 8,
   "metadata": {},
   "outputs": [],
   "source": [
    "sequences = pad_sequences(sequences, maxlen=max_len, padding='pre')"
   ]
  },
  {
   "cell_type": "code",
   "execution_count": 9,
   "metadata": {},
   "outputs": [
    {
     "name": "stdout",
     "output_type": "stream",
     "text": [
      "[[ 0  0  0  0  2  3]\n",
      " [ 0  0  0  2  3  1]\n",
      " [ 0  0  2  3  1  4]\n",
      " [ 0  2  3  1  4  5]\n",
      " [ 0  0  0  0  6  1]\n",
      " [ 0  0  0  6  1  7]\n",
      " [ 0  0  0  0  8  1]\n",
      " [ 0  0  0  8  1  9]\n",
      " [ 0  0  8  1  9 10]\n",
      " [ 0  8  1  9 10  1]\n",
      " [ 8  1  9 10  1 11]]\n"
     ]
    }
   ],
   "source": [
    "print(sequences)"
   ]
  },
  {
   "cell_type": "code",
   "execution_count": 10,
   "metadata": {},
   "outputs": [],
   "source": [
    "sequences = np.array(sequences)\n",
    "X = sequences[:,:-1]\n",
    "y = sequences[:,-1]"
   ]
  },
  {
   "cell_type": "code",
   "execution_count": 11,
   "metadata": {},
   "outputs": [
    {
     "name": "stdout",
     "output_type": "stream",
     "text": [
      "[[ 0  0  0  0  2]\n",
      " [ 0  0  0  2  3]\n",
      " [ 0  0  2  3  1]\n",
      " [ 0  2  3  1  4]\n",
      " [ 0  0  0  0  6]\n",
      " [ 0  0  0  6  1]\n",
      " [ 0  0  0  0  8]\n",
      " [ 0  0  0  8  1]\n",
      " [ 0  0  8  1  9]\n",
      " [ 0  8  1  9 10]\n",
      " [ 8  1  9 10  1]]\n"
     ]
    }
   ],
   "source": [
    "print(X)"
   ]
  },
  {
   "cell_type": "code",
   "execution_count": 12,
   "metadata": {},
   "outputs": [
    {
     "name": "stdout",
     "output_type": "stream",
     "text": [
      "[ 3  1  4  5  1  7  1  9 10  1 11]\n"
     ]
    }
   ],
   "source": [
    "print(y)"
   ]
  },
  {
   "cell_type": "code",
   "execution_count": 13,
   "metadata": {},
   "outputs": [],
   "source": [
    "y = to_categorical(y, num_classes=vocab_size)"
   ]
  },
  {
   "cell_type": "code",
   "execution_count": 14,
   "metadata": {},
   "outputs": [
    {
     "name": "stdout",
     "output_type": "stream",
     "text": [
      "[[0. 0. 0. 1. 0. 0. 0. 0. 0. 0. 0. 0.]\n",
      " [0. 1. 0. 0. 0. 0. 0. 0. 0. 0. 0. 0.]\n",
      " [0. 0. 0. 0. 1. 0. 0. 0. 0. 0. 0. 0.]\n",
      " [0. 0. 0. 0. 0. 1. 0. 0. 0. 0. 0. 0.]\n",
      " [0. 1. 0. 0. 0. 0. 0. 0. 0. 0. 0. 0.]\n",
      " [0. 0. 0. 0. 0. 0. 0. 1. 0. 0. 0. 0.]\n",
      " [0. 1. 0. 0. 0. 0. 0. 0. 0. 0. 0. 0.]\n",
      " [0. 0. 0. 0. 0. 0. 0. 0. 0. 1. 0. 0.]\n",
      " [0. 0. 0. 0. 0. 0. 0. 0. 0. 0. 1. 0.]\n",
      " [0. 1. 0. 0. 0. 0. 0. 0. 0. 0. 0. 0.]\n",
      " [0. 0. 0. 0. 0. 0. 0. 0. 0. 0. 0. 1.]]\n"
     ]
    }
   ],
   "source": [
    "print(y)"
   ]
  },
  {
   "cell_type": "markdown",
   "metadata": {},
   "source": [
    "# Make the model"
   ]
  },
  {
   "cell_type": "code",
   "execution_count": 15,
   "metadata": {},
   "outputs": [],
   "source": [
    "from tensorflow.keras.models import Sequential\n",
    "from tensorflow.keras.layers import Embedding, Dense, SimpleRNN"
   ]
  },
  {
   "cell_type": "code",
   "execution_count": 16,
   "metadata": {},
   "outputs": [
    {
     "name": "stdout",
     "output_type": "stream",
     "text": [
      "Epoch 1/200\n"
     ]
    },
    {
     "name": "stdout",
     "output_type": "stream",
     "text": [
      "1/1 - 1s - 1s/step - accuracy: 0.0000e+00 - loss: 2.4789\n",
      "Epoch 2/200\n",
      "1/1 - 0s - 15ms/step - accuracy: 0.0909 - loss: 2.4626\n",
      "Epoch 3/200\n",
      "1/1 - 0s - 15ms/step - accuracy: 0.0909 - loss: 2.4467\n",
      "Epoch 4/200\n",
      "1/1 - 0s - 14ms/step - accuracy: 0.1818 - loss: 2.4310\n",
      "Epoch 5/200\n",
      "1/1 - 0s - 15ms/step - accuracy: 0.1818 - loss: 2.4154\n",
      "Epoch 6/200\n",
      "1/1 - 0s - 16ms/step - accuracy: 0.1818 - loss: 2.3996\n",
      "Epoch 7/200\n",
      "1/1 - 0s - 15ms/step - accuracy: 0.3636 - loss: 2.3836\n",
      "Epoch 8/200\n",
      "1/1 - 0s - 15ms/step - accuracy: 0.3636 - loss: 2.3672\n",
      "Epoch 9/200\n",
      "1/1 - 0s - 15ms/step - accuracy: 0.3636 - loss: 2.3503\n",
      "Epoch 10/200\n",
      "1/1 - 0s - 15ms/step - accuracy: 0.3636 - loss: 2.3328\n",
      "Epoch 11/200\n",
      "1/1 - 0s - 17ms/step - accuracy: 0.3636 - loss: 2.3146\n",
      "Epoch 12/200\n",
      "1/1 - 0s - 15ms/step - accuracy: 0.3636 - loss: 2.2955\n",
      "Epoch 13/200\n",
      "1/1 - 0s - 15ms/step - accuracy: 0.3636 - loss: 2.2756\n",
      "Epoch 14/200\n",
      "1/1 - 0s - 15ms/step - accuracy: 0.3636 - loss: 2.2547\n",
      "Epoch 15/200\n",
      "1/1 - 0s - 15ms/step - accuracy: 0.3636 - loss: 2.2328\n",
      "Epoch 16/200\n",
      "1/1 - 0s - 16ms/step - accuracy: 0.3636 - loss: 2.2098\n",
      "Epoch 17/200\n",
      "1/1 - 0s - 16ms/step - accuracy: 0.3636 - loss: 2.1859\n",
      "Epoch 18/200\n",
      "1/1 - 0s - 16ms/step - accuracy: 0.3636 - loss: 2.1611\n",
      "Epoch 19/200\n",
      "1/1 - 0s - 16ms/step - accuracy: 0.3636 - loss: 2.1354\n",
      "Epoch 20/200\n",
      "1/1 - 0s - 17ms/step - accuracy: 0.3636 - loss: 2.1092\n",
      "Epoch 21/200\n",
      "1/1 - 0s - 18ms/step - accuracy: 0.3636 - loss: 2.0825\n",
      "Epoch 22/200\n",
      "1/1 - 0s - 17ms/step - accuracy: 0.3636 - loss: 2.0558\n",
      "Epoch 23/200\n",
      "1/1 - 0s - 16ms/step - accuracy: 0.3636 - loss: 2.0293\n",
      "Epoch 24/200\n",
      "1/1 - 0s - 16ms/step - accuracy: 0.3636 - loss: 2.0033\n",
      "Epoch 25/200\n",
      "1/1 - 0s - 16ms/step - accuracy: 0.3636 - loss: 1.9783\n",
      "Epoch 26/200\n",
      "1/1 - 0s - 16ms/step - accuracy: 0.3636 - loss: 1.9545\n",
      "Epoch 27/200\n",
      "1/1 - 0s - 16ms/step - accuracy: 0.3636 - loss: 1.9320\n",
      "Epoch 28/200\n",
      "1/1 - 0s - 15ms/step - accuracy: 0.3636 - loss: 1.9109\n",
      "Epoch 29/200\n",
      "1/1 - 0s - 16ms/step - accuracy: 0.3636 - loss: 1.8910\n",
      "Epoch 30/200\n",
      "1/1 - 0s - 15ms/step - accuracy: 0.3636 - loss: 1.8722\n",
      "Epoch 31/200\n",
      "1/1 - 0s - 15ms/step - accuracy: 0.3636 - loss: 1.8539\n",
      "Epoch 32/200\n",
      "1/1 - 0s - 15ms/step - accuracy: 0.3636 - loss: 1.8358\n",
      "Epoch 33/200\n",
      "1/1 - 0s - 16ms/step - accuracy: 0.3636 - loss: 1.8176\n",
      "Epoch 34/200\n",
      "1/1 - 0s - 16ms/step - accuracy: 0.3636 - loss: 1.7989\n",
      "Epoch 35/200\n",
      "1/1 - 0s - 15ms/step - accuracy: 0.3636 - loss: 1.7796\n",
      "Epoch 36/200\n",
      "1/1 - 0s - 15ms/step - accuracy: 0.4545 - loss: 1.7597\n",
      "Epoch 37/200\n",
      "1/1 - 0s - 15ms/step - accuracy: 0.4545 - loss: 1.7392\n",
      "Epoch 38/200\n",
      "1/1 - 0s - 16ms/step - accuracy: 0.4545 - loss: 1.7183\n",
      "Epoch 39/200\n",
      "1/1 - 0s - 15ms/step - accuracy: 0.4545 - loss: 1.6970\n",
      "Epoch 40/200\n",
      "1/1 - 0s - 17ms/step - accuracy: 0.4545 - loss: 1.6757\n",
      "Epoch 41/200\n",
      "1/1 - 0s - 16ms/step - accuracy: 0.4545 - loss: 1.6543\n",
      "Epoch 42/200\n",
      "1/1 - 0s - 17ms/step - accuracy: 0.4545 - loss: 1.6330\n",
      "Epoch 43/200\n",
      "1/1 - 0s - 17ms/step - accuracy: 0.4545 - loss: 1.6118\n",
      "Epoch 44/200\n",
      "1/1 - 0s - 16ms/step - accuracy: 0.5455 - loss: 1.5907\n",
      "Epoch 45/200\n",
      "1/1 - 0s - 15ms/step - accuracy: 0.5455 - loss: 1.5696\n",
      "Epoch 46/200\n",
      "1/1 - 0s - 15ms/step - accuracy: 0.5455 - loss: 1.5483\n",
      "Epoch 47/200\n",
      "1/1 - 0s - 15ms/step - accuracy: 0.5455 - loss: 1.5269\n",
      "Epoch 48/200\n",
      "1/1 - 0s - 15ms/step - accuracy: 0.5455 - loss: 1.5052\n",
      "Epoch 49/200\n",
      "1/1 - 0s - 15ms/step - accuracy: 0.5455 - loss: 1.4833\n",
      "Epoch 50/200\n",
      "1/1 - 0s - 16ms/step - accuracy: 0.5455 - loss: 1.4611\n",
      "Epoch 51/200\n",
      "1/1 - 0s - 15ms/step - accuracy: 0.5455 - loss: 1.4386\n",
      "Epoch 52/200\n",
      "1/1 - 0s - 15ms/step - accuracy: 0.5455 - loss: 1.4159\n",
      "Epoch 53/200\n",
      "1/1 - 0s - 15ms/step - accuracy: 0.5455 - loss: 1.3931\n",
      "Epoch 54/200\n",
      "1/1 - 0s - 17ms/step - accuracy: 0.5455 - loss: 1.3704\n",
      "Epoch 55/200\n",
      "1/1 - 0s - 16ms/step - accuracy: 0.5455 - loss: 1.3477\n",
      "Epoch 56/200\n",
      "1/1 - 0s - 16ms/step - accuracy: 0.5455 - loss: 1.3252\n",
      "Epoch 57/200\n",
      "1/1 - 0s - 16ms/step - accuracy: 0.5455 - loss: 1.3029\n",
      "Epoch 58/200\n",
      "1/1 - 0s - 19ms/step - accuracy: 0.5455 - loss: 1.2808\n",
      "Epoch 59/200\n",
      "1/1 - 0s - 16ms/step - accuracy: 0.5455 - loss: 1.2590\n",
      "Epoch 60/200\n",
      "1/1 - 0s - 16ms/step - accuracy: 0.5455 - loss: 1.2374\n",
      "Epoch 61/200\n",
      "1/1 - 0s - 15ms/step - accuracy: 0.5455 - loss: 1.2161\n",
      "Epoch 62/200\n",
      "1/1 - 0s - 15ms/step - accuracy: 0.5455 - loss: 1.1951\n",
      "Epoch 63/200\n",
      "1/1 - 0s - 15ms/step - accuracy: 0.6364 - loss: 1.1744\n",
      "Epoch 64/200\n",
      "1/1 - 0s - 15ms/step - accuracy: 0.6364 - loss: 1.1540\n",
      "Epoch 65/200\n",
      "1/1 - 0s - 15ms/step - accuracy: 0.6364 - loss: 1.1339\n",
      "Epoch 66/200\n",
      "1/1 - 0s - 15ms/step - accuracy: 0.6364 - loss: 1.1141\n",
      "Epoch 67/200\n",
      "1/1 - 0s - 16ms/step - accuracy: 0.6364 - loss: 1.0947\n",
      "Epoch 68/200\n",
      "1/1 - 0s - 15ms/step - accuracy: 0.6364 - loss: 1.0757\n",
      "Epoch 69/200\n",
      "1/1 - 0s - 15ms/step - accuracy: 0.6364 - loss: 1.0571\n",
      "Epoch 70/200\n",
      "1/1 - 0s - 15ms/step - accuracy: 0.6364 - loss: 1.0388\n",
      "Epoch 71/200\n",
      "1/1 - 0s - 15ms/step - accuracy: 0.6364 - loss: 1.0208\n",
      "Epoch 72/200\n",
      "1/1 - 0s - 15ms/step - accuracy: 0.6364 - loss: 1.0032\n",
      "Epoch 73/200\n",
      "1/1 - 0s - 15ms/step - accuracy: 0.6364 - loss: 0.9859\n",
      "Epoch 74/200\n",
      "1/1 - 0s - 15ms/step - accuracy: 0.7273 - loss: 0.9689\n",
      "Epoch 75/200\n",
      "1/1 - 0s - 15ms/step - accuracy: 0.7273 - loss: 0.9522\n",
      "Epoch 76/200\n",
      "1/1 - 0s - 15ms/step - accuracy: 0.7273 - loss: 0.9358\n",
      "Epoch 77/200\n",
      "1/1 - 0s - 15ms/step - accuracy: 0.7273 - loss: 0.9196\n",
      "Epoch 78/200\n",
      "1/1 - 0s - 17ms/step - accuracy: 0.8182 - loss: 0.9038\n",
      "Epoch 79/200\n",
      "1/1 - 0s - 15ms/step - accuracy: 0.8182 - loss: 0.8882\n",
      "Epoch 80/200\n",
      "1/1 - 0s - 15ms/step - accuracy: 0.9091 - loss: 0.8729\n",
      "Epoch 81/200\n",
      "1/1 - 0s - 15ms/step - accuracy: 0.9091 - loss: 0.8579\n",
      "Epoch 82/200\n",
      "1/1 - 0s - 15ms/step - accuracy: 0.9091 - loss: 0.8431\n",
      "Epoch 83/200\n",
      "1/1 - 0s - 15ms/step - accuracy: 0.9091 - loss: 0.8287\n",
      "Epoch 84/200\n",
      "1/1 - 0s - 15ms/step - accuracy: 0.9091 - loss: 0.8145\n",
      "Epoch 85/200\n",
      "1/1 - 0s - 15ms/step - accuracy: 0.9091 - loss: 0.8005\n",
      "Epoch 86/200\n",
      "1/1 - 0s - 15ms/step - accuracy: 0.9091 - loss: 0.7869\n",
      "Epoch 87/200\n",
      "1/1 - 0s - 15ms/step - accuracy: 0.9091 - loss: 0.7735\n",
      "Epoch 88/200\n",
      "1/1 - 0s - 15ms/step - accuracy: 0.9091 - loss: 0.7604\n",
      "Epoch 89/200\n",
      "1/1 - 0s - 15ms/step - accuracy: 0.9091 - loss: 0.7475\n",
      "Epoch 90/200\n",
      "1/1 - 0s - 15ms/step - accuracy: 0.9091 - loss: 0.7349\n",
      "Epoch 91/200\n",
      "1/1 - 0s - 15ms/step - accuracy: 0.9091 - loss: 0.7226\n",
      "Epoch 92/200\n",
      "1/1 - 0s - 16ms/step - accuracy: 0.9091 - loss: 0.7105\n",
      "Epoch 93/200\n",
      "1/1 - 0s - 15ms/step - accuracy: 0.9091 - loss: 0.6987\n",
      "Epoch 94/200\n",
      "1/1 - 0s - 15ms/step - accuracy: 0.9091 - loss: 0.6871\n",
      "Epoch 95/200\n",
      "1/1 - 0s - 15ms/step - accuracy: 0.9091 - loss: 0.6758\n",
      "Epoch 96/200\n",
      "1/1 - 0s - 15ms/step - accuracy: 0.9091 - loss: 0.6647\n",
      "Epoch 97/200\n",
      "1/1 - 0s - 15ms/step - accuracy: 0.9091 - loss: 0.6538\n",
      "Epoch 98/200\n",
      "1/1 - 0s - 15ms/step - accuracy: 0.9091 - loss: 0.6431\n",
      "Epoch 99/200\n",
      "1/1 - 0s - 15ms/step - accuracy: 0.9091 - loss: 0.6327\n",
      "Epoch 100/200\n",
      "1/1 - 0s - 15ms/step - accuracy: 0.9091 - loss: 0.6224\n",
      "Epoch 101/200\n",
      "1/1 - 0s - 15ms/step - accuracy: 0.9091 - loss: 0.6124\n",
      "Epoch 102/200\n",
      "1/1 - 0s - 15ms/step - accuracy: 0.9091 - loss: 0.6026\n",
      "Epoch 103/200\n",
      "1/1 - 0s - 15ms/step - accuracy: 0.9091 - loss: 0.5930\n",
      "Epoch 104/200\n",
      "1/1 - 0s - 15ms/step - accuracy: 0.9091 - loss: 0.5835\n",
      "Epoch 105/200\n",
      "1/1 - 0s - 15ms/step - accuracy: 0.9091 - loss: 0.5743\n",
      "Epoch 106/200\n",
      "1/1 - 0s - 15ms/step - accuracy: 0.9091 - loss: 0.5652\n",
      "Epoch 107/200\n",
      "1/1 - 0s - 15ms/step - accuracy: 0.9091 - loss: 0.5564\n",
      "Epoch 108/200\n",
      "1/1 - 0s - 15ms/step - accuracy: 0.9091 - loss: 0.5477\n",
      "Epoch 109/200\n",
      "1/1 - 0s - 15ms/step - accuracy: 0.9091 - loss: 0.5392\n",
      "Epoch 110/200\n",
      "1/1 - 0s - 15ms/step - accuracy: 0.9091 - loss: 0.5308\n",
      "Epoch 111/200\n",
      "1/1 - 0s - 15ms/step - accuracy: 0.9091 - loss: 0.5226\n",
      "Epoch 112/200\n",
      "1/1 - 0s - 15ms/step - accuracy: 0.9091 - loss: 0.5146\n",
      "Epoch 113/200\n",
      "1/1 - 0s - 15ms/step - accuracy: 0.9091 - loss: 0.5067\n",
      "Epoch 114/200\n",
      "1/1 - 0s - 15ms/step - accuracy: 0.9091 - loss: 0.4990\n",
      "Epoch 115/200\n",
      "1/1 - 0s - 15ms/step - accuracy: 0.9091 - loss: 0.4914\n",
      "Epoch 116/200\n",
      "1/1 - 0s - 14ms/step - accuracy: 0.9091 - loss: 0.4840\n",
      "Epoch 117/200\n",
      "1/1 - 0s - 15ms/step - accuracy: 0.9091 - loss: 0.4768\n",
      "Epoch 118/200\n",
      "1/1 - 0s - 15ms/step - accuracy: 0.9091 - loss: 0.4696\n",
      "Epoch 119/200\n",
      "1/1 - 0s - 15ms/step - accuracy: 0.9091 - loss: 0.4626\n",
      "Epoch 120/200\n",
      "1/1 - 0s - 15ms/step - accuracy: 0.9091 - loss: 0.4558\n",
      "Epoch 121/200\n",
      "1/1 - 0s - 16ms/step - accuracy: 0.9091 - loss: 0.4490\n",
      "Epoch 122/200\n",
      "1/1 - 0s - 24ms/step - accuracy: 0.9091 - loss: 0.4424\n",
      "Epoch 123/200\n",
      "1/1 - 0s - 18ms/step - accuracy: 0.9091 - loss: 0.4359\n",
      "Epoch 124/200\n",
      "1/1 - 0s - 16ms/step - accuracy: 0.9091 - loss: 0.4295\n",
      "Epoch 125/200\n",
      "1/1 - 0s - 16ms/step - accuracy: 0.9091 - loss: 0.4233\n",
      "Epoch 126/200\n",
      "1/1 - 0s - 15ms/step - accuracy: 0.9091 - loss: 0.4171\n",
      "Epoch 127/200\n",
      "1/1 - 0s - 15ms/step - accuracy: 0.9091 - loss: 0.4111\n",
      "Epoch 128/200\n",
      "1/1 - 0s - 15ms/step - accuracy: 0.9091 - loss: 0.4051\n",
      "Epoch 129/200\n",
      "1/1 - 0s - 18ms/step - accuracy: 0.9091 - loss: 0.3993\n",
      "Epoch 130/200\n",
      "1/1 - 0s - 15ms/step - accuracy: 0.9091 - loss: 0.3935\n",
      "Epoch 131/200\n",
      "1/1 - 0s - 15ms/step - accuracy: 0.9091 - loss: 0.3879\n",
      "Epoch 132/200\n",
      "1/1 - 0s - 15ms/step - accuracy: 0.9091 - loss: 0.3823\n",
      "Epoch 133/200\n",
      "1/1 - 0s - 15ms/step - accuracy: 0.9091 - loss: 0.3769\n",
      "Epoch 134/200\n",
      "1/1 - 0s - 15ms/step - accuracy: 0.9091 - loss: 0.3715\n",
      "Epoch 135/200\n",
      "1/1 - 0s - 15ms/step - accuracy: 0.9091 - loss: 0.3662\n",
      "Epoch 136/200\n",
      "1/1 - 0s - 15ms/step - accuracy: 0.9091 - loss: 0.3610\n",
      "Epoch 137/200\n",
      "1/1 - 0s - 15ms/step - accuracy: 0.9091 - loss: 0.3559\n",
      "Epoch 138/200\n",
      "1/1 - 0s - 14ms/step - accuracy: 0.9091 - loss: 0.3509\n",
      "Epoch 139/200\n",
      "1/1 - 0s - 16ms/step - accuracy: 0.9091 - loss: 0.3460\n",
      "Epoch 140/200\n",
      "1/1 - 0s - 15ms/step - accuracy: 0.9091 - loss: 0.3411\n",
      "Epoch 141/200\n",
      "1/1 - 0s - 14ms/step - accuracy: 0.9091 - loss: 0.3363\n",
      "Epoch 142/200\n",
      "1/1 - 0s - 14ms/step - accuracy: 0.9091 - loss: 0.3316\n",
      "Epoch 143/200\n",
      "1/1 - 0s - 14ms/step - accuracy: 0.9091 - loss: 0.3270\n",
      "Epoch 144/200\n",
      "1/1 - 0s - 14ms/step - accuracy: 0.9091 - loss: 0.3225\n",
      "Epoch 145/200\n",
      "1/1 - 0s - 14ms/step - accuracy: 0.9091 - loss: 0.3180\n",
      "Epoch 146/200\n",
      "1/1 - 0s - 15ms/step - accuracy: 0.9091 - loss: 0.3136\n",
      "Epoch 147/200\n",
      "1/1 - 0s - 14ms/step - accuracy: 0.9091 - loss: 0.3093\n",
      "Epoch 148/200\n",
      "1/1 - 0s - 14ms/step - accuracy: 0.9091 - loss: 0.3050\n",
      "Epoch 149/200\n",
      "1/1 - 0s - 14ms/step - accuracy: 0.9091 - loss: 0.3008\n",
      "Epoch 150/200\n",
      "1/1 - 0s - 14ms/step - accuracy: 0.9091 - loss: 0.2967\n",
      "Epoch 151/200\n",
      "1/1 - 0s - 14ms/step - accuracy: 0.9091 - loss: 0.2927\n",
      "Epoch 152/200\n",
      "1/1 - 0s - 14ms/step - accuracy: 0.9091 - loss: 0.2887\n",
      "Epoch 153/200\n",
      "1/1 - 0s - 15ms/step - accuracy: 0.9091 - loss: 0.2847\n",
      "Epoch 154/200\n",
      "1/1 - 0s - 15ms/step - accuracy: 0.9091 - loss: 0.2809\n",
      "Epoch 155/200\n",
      "1/1 - 0s - 14ms/step - accuracy: 0.9091 - loss: 0.2771\n",
      "Epoch 156/200\n",
      "1/1 - 0s - 14ms/step - accuracy: 0.9091 - loss: 0.2734\n",
      "Epoch 157/200\n",
      "1/1 - 0s - 14ms/step - accuracy: 0.9091 - loss: 0.2697\n",
      "Epoch 158/200\n",
      "1/1 - 0s - 15ms/step - accuracy: 0.9091 - loss: 0.2661\n",
      "Epoch 159/200\n",
      "1/1 - 0s - 14ms/step - accuracy: 0.9091 - loss: 0.2625\n",
      "Epoch 160/200\n",
      "1/1 - 0s - 16ms/step - accuracy: 0.9091 - loss: 0.2590\n",
      "Epoch 161/200\n",
      "1/1 - 0s - 15ms/step - accuracy: 0.9091 - loss: 0.2556\n",
      "Epoch 162/200\n",
      "1/1 - 0s - 15ms/step - accuracy: 0.9091 - loss: 0.2522\n",
      "Epoch 163/200\n",
      "1/1 - 0s - 15ms/step - accuracy: 0.9091 - loss: 0.2488\n",
      "Epoch 164/200\n",
      "1/1 - 0s - 15ms/step - accuracy: 0.9091 - loss: 0.2455\n",
      "Epoch 165/200\n",
      "1/1 - 0s - 15ms/step - accuracy: 0.9091 - loss: 0.2423\n",
      "Epoch 166/200\n",
      "1/1 - 0s - 14ms/step - accuracy: 0.9091 - loss: 0.2391\n",
      "Epoch 167/200\n",
      "1/1 - 0s - 15ms/step - accuracy: 0.9091 - loss: 0.2360\n",
      "Epoch 168/200\n",
      "1/1 - 0s - 15ms/step - accuracy: 0.9091 - loss: 0.2329\n",
      "Epoch 169/200\n",
      "1/1 - 0s - 15ms/step - accuracy: 0.9091 - loss: 0.2298\n",
      "Epoch 170/200\n",
      "1/1 - 0s - 16ms/step - accuracy: 0.9091 - loss: 0.2268\n",
      "Epoch 171/200\n",
      "1/1 - 0s - 15ms/step - accuracy: 0.9091 - loss: 0.2239\n",
      "Epoch 172/200\n",
      "1/1 - 0s - 15ms/step - accuracy: 0.9091 - loss: 0.2210\n",
      "Epoch 173/200\n",
      "1/1 - 0s - 15ms/step - accuracy: 0.9091 - loss: 0.2181\n",
      "Epoch 174/200\n",
      "1/1 - 0s - 15ms/step - accuracy: 0.9091 - loss: 0.2153\n",
      "Epoch 175/200\n",
      "1/1 - 0s - 15ms/step - accuracy: 0.9091 - loss: 0.2125\n",
      "Epoch 176/200\n",
      "1/1 - 0s - 15ms/step - accuracy: 0.9091 - loss: 0.2097\n",
      "Epoch 177/200\n",
      "1/1 - 0s - 14ms/step - accuracy: 0.9091 - loss: 0.2070\n",
      "Epoch 178/200\n",
      "1/1 - 0s - 15ms/step - accuracy: 0.9091 - loss: 0.2043\n",
      "Epoch 179/200\n",
      "1/1 - 0s - 14ms/step - accuracy: 0.9091 - loss: 0.2017\n",
      "Epoch 180/200\n",
      "1/1 - 0s - 15ms/step - accuracy: 0.9091 - loss: 0.1991\n",
      "Epoch 181/200\n",
      "1/1 - 0s - 15ms/step - accuracy: 0.9091 - loss: 0.1965\n",
      "Epoch 182/200\n",
      "1/1 - 0s - 15ms/step - accuracy: 0.9091 - loss: 0.1940\n",
      "Epoch 183/200\n",
      "1/1 - 0s - 15ms/step - accuracy: 0.9091 - loss: 0.1915\n",
      "Epoch 184/200\n",
      "1/1 - 0s - 15ms/step - accuracy: 0.9091 - loss: 0.1890\n",
      "Epoch 185/200\n",
      "1/1 - 0s - 15ms/step - accuracy: 0.9091 - loss: 0.1866\n",
      "Epoch 186/200\n",
      "1/1 - 0s - 14ms/step - accuracy: 1.0000 - loss: 0.1842\n",
      "Epoch 187/200\n",
      "1/1 - 0s - 14ms/step - accuracy: 1.0000 - loss: 0.1818\n",
      "Epoch 188/200\n",
      "1/1 - 0s - 15ms/step - accuracy: 1.0000 - loss: 0.1794\n",
      "Epoch 189/200\n",
      "1/1 - 0s - 15ms/step - accuracy: 1.0000 - loss: 0.1771\n",
      "Epoch 190/200\n",
      "1/1 - 0s - 15ms/step - accuracy: 1.0000 - loss: 0.1748\n",
      "Epoch 191/200\n",
      "1/1 - 0s - 15ms/step - accuracy: 1.0000 - loss: 0.1726\n",
      "Epoch 192/200\n",
      "1/1 - 0s - 15ms/step - accuracy: 1.0000 - loss: 0.1703\n",
      "Epoch 193/200\n",
      "1/1 - 0s - 15ms/step - accuracy: 1.0000 - loss: 0.1681\n",
      "Epoch 194/200\n",
      "1/1 - 0s - 15ms/step - accuracy: 1.0000 - loss: 0.1659\n",
      "Epoch 195/200\n",
      "1/1 - 0s - 15ms/step - accuracy: 1.0000 - loss: 0.1638\n",
      "Epoch 196/200\n",
      "1/1 - 0s - 14ms/step - accuracy: 1.0000 - loss: 0.1617\n",
      "Epoch 197/200\n",
      "1/1 - 0s - 15ms/step - accuracy: 1.0000 - loss: 0.1595\n",
      "Epoch 198/200\n",
      "1/1 - 0s - 14ms/step - accuracy: 1.0000 - loss: 0.1575\n",
      "Epoch 199/200\n",
      "1/1 - 0s - 15ms/step - accuracy: 1.0000 - loss: 0.1554\n",
      "Epoch 200/200\n",
      "1/1 - 0s - 14ms/step - accuracy: 1.0000 - loss: 0.1534\n"
     ]
    },
    {
     "data": {
      "text/plain": [
       "<keras.src.callbacks.history.History at 0x7fae7c7590f0>"
      ]
     },
     "execution_count": 16,
     "metadata": {},
     "output_type": "execute_result"
    }
   ],
   "source": [
    "embedding_dim = 10\n",
    "hidden_units = 32\n",
    "\n",
    "model = Sequential()\n",
    "model.add(Embedding(vocab_size, embedding_dim))\n",
    "model.add(SimpleRNN(hidden_units))\n",
    "model.add(Dense(vocab_size, activation='softmax'))\n",
    "model.compile(loss='categorical_crossentropy', optimizer='adam', metrics=['accuracy'])\n",
    "model.fit(X, y, epochs=200, verbose=2)"
   ]
  },
  {
   "cell_type": "code",
   "execution_count": 17,
   "metadata": {},
   "outputs": [],
   "source": [
    "def sentence_generation(model, tokenizer, current_word, n): # 모델, 토크나이저, 현재 단어, 반복할 횟수\n",
    "    init_word = current_word\n",
    "    sentence = ''\n",
    "\n",
    "    # n번 반복\n",
    "    for _ in range(n):\n",
    "        # 현재 단어에 대한 정수 인코딩과 패딩\n",
    "        encoded = tokenizer.texts_to_sequences([current_word])[0]\n",
    "        encoded = pad_sequences([encoded], maxlen=5, padding='pre')\n",
    "        # 입력한 X(현재 단어)에 대해서 Y를 예측하고 Y(예측한 단어)를 result에 저장.\n",
    "        result = model.predict(encoded, verbose=0)\n",
    "        result = np.argmax(result, axis=1)\n",
    "\n",
    "        for word, index in tokenizer.word_index.items(): \n",
    "            # 만약 예측한 단어와 인덱스와 동일한 단어가 있다면 break\n",
    "            if index == result:\n",
    "                break\n",
    "\n",
    "        # 현재 단어 + ' ' + 예측 단어를 현재 단어로 변경\n",
    "        current_word = current_word + ' '  + word\n",
    "\n",
    "        # 예측 단어를 문장에 저장\n",
    "        sentence = sentence + ' ' + word\n",
    "\n",
    "    sentence = init_word + sentence\n",
    "    return sentence"
   ]
  },
  {
   "cell_type": "code",
   "execution_count": 18,
   "metadata": {},
   "outputs": [
    {
     "name": "stdout",
     "output_type": "stream",
     "text": [
      "경마장에 있는 말이 뛰고 있다\n"
     ]
    }
   ],
   "source": [
    "print(sentence_generation(model, tokenizer, '경마장에', 4))"
   ]
  },
  {
   "cell_type": "code",
   "execution_count": 19,
   "metadata": {},
   "outputs": [
    {
     "name": "stdout",
     "output_type": "stream",
     "text": [
      "그의 말이 법이다\n"
     ]
    }
   ],
   "source": [
    "print(sentence_generation(model, tokenizer, '그의', 2))"
   ]
  }
 ],
 "metadata": {
  "kernelspec": {
   "display_name": "venv",
   "language": "python",
   "name": "python3"
  },
  "language_info": {
   "codemirror_mode": {
    "name": "ipython",
    "version": 3
   },
   "file_extension": ".py",
   "mimetype": "text/x-python",
   "name": "python",
   "nbconvert_exporter": "python",
   "pygments_lexer": "ipython3",
   "version": "3.10.12"
  }
 },
 "nbformat": 4,
 "nbformat_minor": 2
}
