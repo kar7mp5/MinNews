{
 "cells": [
  {
   "cell_type": "code",
   "execution_count": 25,
   "metadata": {},
   "outputs": [],
   "source": [
    "import pandas as pd\n",
    "import numpy as np\n",
    "from string import punctuation\n",
    "\n",
    "from tensorflow.keras.preprocessing.text import Tokenizer\n",
    "from tensorflow.keras.preprocessing.sequence import pad_sequences\n",
    "from tensorflow.keras.utils import to_categorical\n",
    "\n",
    "import os"
   ]
  },
  {
   "cell_type": "markdown",
   "metadata": {},
   "source": [
    "### Check GPU working"
   ]
  },
  {
   "cell_type": "code",
   "execution_count": 26,
   "metadata": {},
   "outputs": [
    {
     "name": "stderr",
     "output_type": "stream",
     "text": [
      "2024-05-09 06:39:18.243238: I external/local_xla/xla/stream_executor/cuda/cuda_executor.cc:984] could not open file to read NUMA node: /sys/bus/pci/devices/0000:2b:00.0/numa_node\n",
      "Your kernel may have been built without NUMA support.\n",
      "2024-05-09 06:39:18.243286: W tensorflow/core/common_runtime/gpu/gpu_device.cc:2251] Cannot dlopen some GPU libraries. Please make sure the missing libraries mentioned above are installed properly if you would like to use GPU. Follow the guide at https://www.tensorflow.org/install/gpu for how to download and setup the required libraries for your platform.\n",
      "Skipping registering GPU devices...\n"
     ]
    },
    {
     "data": {
      "text/plain": [
       "[name: \"/device:CPU:0\"\n",
       " device_type: \"CPU\"\n",
       " memory_limit: 268435456\n",
       " locality {\n",
       " }\n",
       " incarnation: 17753491478140827450\n",
       " xla_global_id: -1]"
      ]
     },
     "execution_count": 26,
     "metadata": {},
     "output_type": "execute_result"
    }
   ],
   "source": [
    "from tensorflow.python.client import device_lib\n",
    "device_lib.list_local_devices()"
   ]
  },
  {
   "cell_type": "markdown",
   "metadata": {},
   "source": [
    "### Read data from csv file"
   ]
  },
  {
   "cell_type": "code",
   "execution_count": 27,
   "metadata": {},
   "outputs": [
    {
     "data": {
      "text/html": [
       "<div>\n",
       "<style scoped>\n",
       "    .dataframe tbody tr th:only-of-type {\n",
       "        vertical-align: middle;\n",
       "    }\n",
       "\n",
       "    .dataframe tbody tr th {\n",
       "        vertical-align: top;\n",
       "    }\n",
       "\n",
       "    .dataframe thead th {\n",
       "        text-align: right;\n",
       "    }\n",
       "</style>\n",
       "<table border=\"1\" class=\"dataframe\">\n",
       "  <thead>\n",
       "    <tr style=\"text-align: right;\">\n",
       "      <th></th>\n",
       "      <th>Unnamed: 0</th>\n",
       "      <th>0</th>\n",
       "    </tr>\n",
       "  </thead>\n",
       "  <tbody>\n",
       "    <tr>\n",
       "      <th>0</th>\n",
       "      <td>0</td>\n",
       "      <td>Skip to contentHI Now DailyContestsJoin Our Te...</td>\n",
       "    </tr>\n",
       "    <tr>\n",
       "      <th>1</th>\n",
       "      <td>1</td>\n",
       "      <td>Just ListenCalendarEventsHonolulu PrideActivi...</td>\n",
       "    </tr>\n",
       "    <tr>\n",
       "      <th>2</th>\n",
       "      <td>2</td>\n",
       "      <td>7, 2024 at 5:40 PM HST|Updated: 14 hours agoE...</td>\n",
       "    </tr>\n",
       "    <tr>\n",
       "      <th>3</th>\n",
       "      <td>3</td>\n",
       "      <td>Environmentalists hope it will force the state...</td>\n",
       "    </tr>\n",
       "    <tr>\n",
       "      <th>4</th>\n",
       "      <td>4</td>\n",
       "      <td>Syngenta is one of several companies taking ad...</td>\n",
       "    </tr>\n",
       "  </tbody>\n",
       "</table>\n",
       "</div>"
      ],
      "text/plain": [
       "   Unnamed: 0                                                  0\n",
       "0           0  Skip to contentHI Now DailyContestsJoin Our Te...\n",
       "1           1   Just ListenCalendarEventsHonolulu PrideActivi...\n",
       "2           2   7, 2024 at 5:40 PM HST|Updated: 14 hours agoE...\n",
       "3           3  Environmentalists hope it will force the state...\n",
       "4           4  Syngenta is one of several companies taking ad..."
      ]
     },
     "execution_count": 27,
     "metadata": {},
     "output_type": "execute_result"
    }
   ],
   "source": [
    "df = pd.read_csv(f'{os.getcwd()}/data/article_contents/environment_3.csv')\n",
    "df.head()"
   ]
  },
  {
   "cell_type": "markdown",
   "metadata": {},
   "source": [
    "### Print news headline"
   ]
  },
  {
   "cell_type": "code",
   "execution_count": 30,
   "metadata": {},
   "outputs": [
    {
     "data": {
      "text/plain": [
       "['Skip to contentHI Now DailyContestsJoin Our TeamAdvertise with UsLiveNewsMaui WildfiresWeatherSunriseSportsPodcastsHI Now DailyEntertainmentActivitiesAbout UsHomeWatch LiveNewsLocal HeadlinesNational NewsHNN InvestigatesThis Is NowSubmit Your Photos!Latest NewscastsWeatherLatest ForecastsHNN Hurricane CenterSurf ReportTsunami CenterTrafficSunriseAs Seen On SunriseHealthier HawaiiWhats TrendingHowards Business ReportSmart Money MondayCelebrating Fil-Am HistoryHawaiian Word Of The DaySpecial ReportsSpotlight NowPodcastsHawaii News NowIsland BeatMuthaship with Stephanie LumThe Other Side of Paradise with Lynn KawanoHNN OvertimeHNN Off-AirTell Me A Story with Jim MendozaSportsSuper Bowl LVIIIBracket BustersWarrior NationScoringLiveStats & PredictionsHow to WatchEntertainmentNa Hoku Hanohano AwardsKeiki HulaCheap EatsPacific PulseKupuna PowerK5 MeleTeen TalkContestsHI Now DailyHI Now JapanTalk StoryCommunityMy Life',\n",
       " ' Just ListenCalendarEventsHonolulu PrideActivitiesAbout UsAnchors & ReportersNews DepartmentSales DepartmentJoin Our TeamEEO Public File ReportsTV GuideTV ListingsKHNL Antenna TVTerrys TakeTelemundo HawaiiZeam - News StreamsPowerNationCircle CountyGray DC BureauInvestigateTVDigital MarketingCourt ruling could trigger environmental assessment for Kauai seed production projectEnvironmentalists hope it will force the state to finally review the impact of herbicides and pesticides there',\n",
       " ' 7, 2024 at 5:40 PM HST|Updated: 14 hours agoEmail This LinkShare on FacebookShare on X formerly TwitterShare on PinterestShare on LinkedInHONOLULU HawaiiNewsNow - A Kauai seed production company may be forced to do an environmental assessment because of a ruling from the state Intermediate Court of Appeals',\n",
       " 'Environmentalists hope it will force the state to finally review the impact of herbicide and pesticides there',\n",
       " 'Syngenta is one of several companies taking advantage of Hawaii’s climate to test and grow herbicide-resistant corn seed',\n",
       " 'The issue is whether there should have been an environmental assessment when it was issued its permits',\n",
       " 'Kauai resident Anne Frederick, executive director of the Hawaii Alliance for Progressive Action, said they welcome the ruling',\n",
       " '“The environmental impact, potential public health impacts have really never been well studied in this area',\n",
       " 'The 61-acre parcel of state land in Kekaha, between a shoreline drag strip and the highway, is sliver of Syngenta’s 4,000 acres in Hawaii',\n",
       " 'When it was converted from sugar to herbicide-resistant seed production, the Hawaii Board of Land and Natural Resources didn’t consider it a significant enough change to require an environmental study',\n",
       " '“For a long time that parcel been used to propagate basically the sugarcane saplings',\n",
       " ' And it was shifted to this experimental seed operation, which heavily relies on restricted use pesticides,” Collins said',\n",
       " 'In court filings the state Attorney General argued, “the boards’ action here merely preserved the status quo, and had no effect on the environment',\n",
       " '”But in its ruling, the Intermediate Court of Appeals said:“There were genuine issues of material fact on whether Syngenta Hawaii’s proposed activity was exempt from the preparation of an EA Environment Assessment',\n",
       " '” Frederick said, “We thought that the board should have never granted Syngenta exemption from environmental review and we’re grateful that the courts are now have agreed with us',\n",
       " '”The appeals court vacated a decision of a Circuit Court judge who sided with the state Attorney General’s Office',\n",
       " 'Collins is hopeful',\n",
       " '“There will be hopefully environmental review of the activities that are on these parcels that basically affect beach users affect the people who use the drag strip, and the nearby residences, particularly the restricted use pesticides,” he said',\n",
       " 'Collins said the state has lost the same argument before when renewing permits over things like water uses, harvesting fish for aquariums and other commercial uses',\n",
       " '“Apparently environmental protection, which is a constitutional right that everybody in Hawaii has, is not a top priority, you know, for the attorney general,” Collins said',\n",
       " ' Syngenta did not respond by deadline to Hawaii News Now’s request for comment',\n",
       " ' All rights reserved',\n",
       " '5M settlement from HPD arrested for gun crimes Loved ones plead with hit-and-run driver to come forward as mom of 4 remains hospitalizedMan at center of medical malpractice suit against Tripler hospital dies at 66 New drone video shows devastating impact of giant beetles on Oahu Miss Hawaii 2023 could assume role of Miss USA after current titleholder resignsLatest NewsAdaptive Surf Championships return to Waikiki welcoming athletes from 18 countries1 dead, another hospitalized following single-vehicle crash in North KonaAs Seen on Sunrise Proposed housing project in Leeward Oahu for at-risk youth stirs mixed feelingsFirst Alert Forecast: Juicy disturbance approaching the state, heavy rain possible on Friday and SaturdayNewsWeatherWatch LiveAbout HNNKHNLKGMB420 Waiakamilo RoadSuite 205Honolulu, HI 96817808 847-3246Terms of ServicePrivacy PolicyAdvertisingDigital MarketingClosed CaptioningAudio DescriptionKHNL Public Inspection FileKHNLPUBLICFILE@HAWAIINEWSNOW',\n",
       " 'COM 808 847-3246KGMB EEO StatementKFVE FCC Public Inspection FileKFVEPUBLICFILE@HAWAIINEWSNOW',\n",
       " 'COM 808 847-3246KFVE EEO StatementKSIX EEO StatementKSIX Public Inspection FileKSIXPUBLICFILE@HAWAIINEWSNOW',\n",
       " 'COM 808 847-3246KOGG EEO StatementFCC ApplicationsAt Gray, our journalists report, write, edit and produce the news content that informs the communities we serve',\n",
       " 'A Gray Media Group, Inc',\n",
       " nan]"
      ]
     },
     "execution_count": 30,
     "metadata": {},
     "output_type": "execute_result"
    }
   ],
   "source": [
    "headline = []\n",
    "# 헤드라인의 값들을 리스트로 저장\n",
    "headline.extend(list(df['0']))\n",
    "headline[:]"
   ]
  },
  {
   "cell_type": "code",
   "execution_count": 31,
   "metadata": {},
   "outputs": [
    {
     "name": "stdout",
     "output_type": "stream",
     "text": [
      "총 샘플의 개수 : 28\n"
     ]
    }
   ],
   "source": [
    "print('총 샘플의 개수 : {}'.format(len(headline)))"
   ]
  },
  {
   "cell_type": "code",
   "execution_count": 32,
   "metadata": {},
   "outputs": [
    {
     "name": "stdout",
     "output_type": "stream",
     "text": [
      "노이즈값 제거 후 샘플의 개수 : 28\n"
     ]
    }
   ],
   "source": [
    "headline = [word for word in headline if word != \"Unknown\"]\n",
    "print(\"노이즈값 제거 후 샘플의 개수 : {}\".format(len(headline)))"
   ]
  },
  {
   "cell_type": "code",
   "execution_count": 33,
   "metadata": {},
   "outputs": [
    {
     "data": {
      "text/plain": [
       "['Skip to contentHI Now DailyContestsJoin Our TeamAdvertise with UsLiveNewsMaui WildfiresWeatherSunriseSportsPodcastsHI Now DailyEntertainmentActivitiesAbout UsHomeWatch LiveNewsLocal HeadlinesNational NewsHNN InvestigatesThis Is NowSubmit Your Photos!Latest NewscastsWeatherLatest ForecastsHNN Hurricane CenterSurf ReportTsunami CenterTrafficSunriseAs Seen On SunriseHealthier HawaiiWhats TrendingHowards Business ReportSmart Money MondayCelebrating Fil-Am HistoryHawaiian Word Of The DaySpecial ReportsSpotlight NowPodcastsHawaii News NowIsland BeatMuthaship with Stephanie LumThe Other Side of Paradise with Lynn KawanoHNN OvertimeHNN Off-AirTell Me A Story with Jim MendozaSportsSuper Bowl LVIIIBracket BustersWarrior NationScoringLiveStats & PredictionsHow to WatchEntertainmentNa Hoku Hanohano AwardsKeiki HulaCheap EatsPacific PulseKupuna PowerK5 MeleTeen TalkContestsHI Now DailyHI Now JapanTalk StoryCommunityMy Life',\n",
       " ' Just ListenCalendarEventsHonolulu PrideActivitiesAbout UsAnchors & ReportersNews DepartmentSales DepartmentJoin Our TeamEEO Public File ReportsTV GuideTV ListingsKHNL Antenna TVTerrys TakeTelemundo HawaiiZeam - News StreamsPowerNationCircle CountyGray DC BureauInvestigateTVDigital MarketingCourt ruling could trigger environmental assessment for Kauai seed production projectEnvironmentalists hope it will force the state to finally review the impact of herbicides and pesticides there',\n",
       " ' 7, 2024 at 5:40 PM HST|Updated: 14 hours agoEmail This LinkShare on FacebookShare on X formerly TwitterShare on PinterestShare on LinkedInHONOLULU HawaiiNewsNow - A Kauai seed production company may be forced to do an environmental assessment because of a ruling from the state Intermediate Court of Appeals',\n",
       " 'Environmentalists hope it will force the state to finally review the impact of herbicide and pesticides there',\n",
       " 'Syngenta is one of several companies taking advantage of Hawaii’s climate to test and grow herbicide-resistant corn seed']"
      ]
     },
     "execution_count": 33,
     "metadata": {},
     "output_type": "execute_result"
    }
   ],
   "source": [
    "headline[:5]"
   ]
  },
  {
   "cell_type": "code",
   "execution_count": 34,
   "metadata": {},
   "outputs": [
    {
     "data": {
      "text/plain": [
       "['skip to contenthi now dailycontestsjoin our teamadvertise with uslivenewsmaui wildfiresweathersunrisesportspodcastshi now dailyentertainmentactivitiesabout ushomewatch livenewslocal headlinesnational newshnn investigatesthis is nowsubmit your photoslatest newscastsweatherlatest forecastshnn hurricane centersurf reporttsunami centertrafficsunriseas seen on sunrisehealthier hawaiiwhats trendinghowards business reportsmart money mondaycelebrating filam historyhawaiian word of the dayspecial reportsspotlight nowpodcastshawaii news nowisland beatmuthaship with stephanie lumthe other side of paradise with lynn kawanohnn overtimehnn offairtell me a story with jim mendozasportssuper bowl lviiibracket busterswarrior nationscoringlivestats  predictionshow to watchentertainmentna hoku hanohano awardskeiki hulacheap eatspacific pulsekupuna powerk5 meleteen talkcontestshi now dailyhi now japantalk storycommunitymy life',\n",
       " ' just listencalendareventshonolulu prideactivitiesabout usanchors  reportersnews departmentsales departmentjoin our teameeo public file reportstv guidetv listingskhnl antenna tvterrys taketelemundo hawaiizeam  news streamspowernationcircle countygray dc bureauinvestigatetvdigital marketingcourt ruling could trigger environmental assessment for kauai seed production projectenvironmentalists hope it will force the state to finally review the impact of herbicides and pesticides there',\n",
       " ' 7 2024 at 540 pm hstupdated 14 hours agoemail this linkshare on facebookshare on x formerly twittershare on pinterestshare on linkedinhonolulu hawaiinewsnow  a kauai seed production company may be forced to do an environmental assessment because of a ruling from the state intermediate court of appeals',\n",
       " 'environmentalists hope it will force the state to finally review the impact of herbicide and pesticides there',\n",
       " 'syngenta is one of several companies taking advantage of hawaiis climate to test and grow herbicideresistant corn seed']"
      ]
     },
     "execution_count": 34,
     "metadata": {},
     "output_type": "execute_result"
    }
   ],
   "source": [
    "import re\n",
    "from string import punctuation\n",
    "\n",
    "def repreprocessing(raw_sentence):\n",
    "    if isinstance(raw_sentence, float):\n",
    "        # 부동 소수점일 경우 처리할 내용 추가\n",
    "        return \"\"\n",
    "\n",
    "    preproceseed_sentence = raw_sentence.encode(\"utf8\").decode(\"ascii\", \"ignore\")\n",
    "    # 구두점 제거와 동시에 소문자화\n",
    "    return \"\".join(word for word in preproceseed_sentence if word not in punctuation).lower()\n",
    "\n",
    "preprocessed_headline = [repreprocessing(x) for x in headline if not isinstance(x, float)]\n",
    "preprocessed_headline[:5]"
   ]
  },
  {
   "cell_type": "code",
   "execution_count": 35,
   "metadata": {},
   "outputs": [
    {
     "name": "stdout",
     "output_type": "stream",
     "text": [
      "단어 집합의 크기 : 452\n"
     ]
    }
   ],
   "source": [
    "tokenizer = Tokenizer()\n",
    "tokenizer.fit_on_texts(preprocessed_headline)\n",
    "vocab_size = len(tokenizer.word_index) + 1\n",
    "print(\"단어 집합의 크기 : %d\" % vocab_size)"
   ]
  },
  {
   "cell_type": "code",
   "execution_count": 36,
   "metadata": {},
   "outputs": [
    {
     "name": "stdout",
     "output_type": "stream",
     "text": [
      "skip to contenthi now dailycontestsjoin our teamadvertise with uslivenewsmaui wildfiresweathersunrisesportspodcastshi now dailyentertainmentactivitiesabout ushomewatch livenewslocal headlinesnational newshnn investigatesthis is nowsubmit your photoslatest newscastsweatherlatest forecastshnn hurricane centersurf reporttsunami centertrafficsunriseas seen on sunrisehealthier hawaiiwhats trendinghowards business reportsmart money mondaycelebrating filam historyhawaiian word of the dayspecial reportsspotlight nowpodcastshawaii news nowisland beatmuthaship with stephanie lumthe other side of paradise with lynn kawanohnn overtimehnn offairtell me a story with jim mendozasportssuper bowl lviiibracket busterswarrior nationscoringlivestats  predictionshow to watchentertainmentna hoku hanohano awardskeiki hulacheap eatspacific pulsekupuna powerk5 meleteen talkcontestshi now dailyhi now japantalk storycommunitymy life\n",
      " just listencalendareventshonolulu prideactivitiesabout usanchors  reportersnews departmentsales departmentjoin our teameeo public file reportstv guidetv listingskhnl antenna tvterrys taketelemundo hawaiizeam  news streamspowernationcircle countygray dc bureauinvestigatetvdigital marketingcourt ruling could trigger environmental assessment for kauai seed production projectenvironmentalists hope it will force the state to finally review the impact of herbicides and pesticides there\n",
      " 7 2024 at 540 pm hstupdated 14 hours agoemail this linkshare on facebookshare on x formerly twittershare on pinterestshare on linkedinhonolulu hawaiinewsnow  a kauai seed production company may be forced to do an environmental assessment because of a ruling from the state intermediate court of appeals\n",
      "environmentalists hope it will force the state to finally review the impact of herbicide and pesticides there\n",
      "syngenta is one of several companies taking advantage of hawaiis climate to test and grow herbicideresistant corn seed\n",
      "the issue is whether there should have been an environmental assessment when it was issued its permits\n",
      "kauai resident anne frederick executive director of the hawaii alliance for progressive action said they welcome the ruling\n",
      "the environmental impact potential public health impacts have really never been well studied in this area\n",
      "the 61acre parcel of state land in kekaha between a shoreline drag strip and the highway is sliver of syngentas 4000 acres in hawaii\n",
      "when it was converted from sugar to herbicideresistant seed production the hawaii board of land and natural resources didnt consider it a significant enough change to require an environmental study\n",
      "for a long time that parcel been used to propagate basically the sugarcane saplings\n",
      " and it was shifted to this experimental seed operation which heavily relies on restricted use pesticides collins said\n",
      "in court filings the state attorney general argued the boards action here merely preserved the status quo and had no effect on the environment\n",
      "but in its ruling the intermediate court of appeals saidthere were genuine issues of material fact on whether syngenta hawaiis proposed activity was exempt from the preparation of an ea environment assessment\n",
      " frederick said we thought that the board should have never granted syngenta exemption from environmental review and were grateful that the courts are now have agreed with us\n",
      "the appeals court vacated a decision of a circuit court judge who sided with the state attorney generals office\n",
      "collins is hopeful\n",
      "there will be hopefully environmental review of the activities that are on these parcels that basically affect beach users affect the people who use the drag strip and the nearby residences particularly the restricted use pesticides he said\n",
      "collins said the state has lost the same argument before when renewing permits over things like water uses harvesting fish for aquariums and other commercial uses\n",
      "apparently environmental protection which is a constitutional right that everybody in hawaii has is not a top priority you know for the attorney general collins said\n",
      " syngenta did not respond by deadline to hawaii news nows request for comment\n",
      " all rights reserved\n",
      "5m settlement from hpd arrested for gun crimes loved ones plead with hitandrun driver to come forward as mom of 4 remains hospitalizedman at center of medical malpractice suit against tripler hospital dies at 66 new drone video shows devastating impact of giant beetles on oahu miss hawaii 2023 could assume role of miss usa after current titleholder resignslatest newsadaptive surf championships return to waikiki welcoming athletes from 18 countries1 dead another hospitalized following singlevehicle crash in north konaas seen on sunrise proposed housing project in leeward oahu for atrisk youth stirs mixed feelingsfirst alert forecast juicy disturbance approaching the state heavy rain possible on friday and saturdaynewsweatherwatch liveabout hnnkhnlkgmb420 waiakamilo roadsuite 205honolulu hi 96817808 8473246terms of serviceprivacy policyadvertisingdigital marketingclosed captioningaudio descriptionkhnl public inspection filekhnlpublicfilehawaiinewsnow\n",
      "com 808 8473246kgmb eeo statementkfve fcc public inspection filekfvepublicfilehawaiinewsnow\n",
      "com 808 8473246kfve eeo statementksix eeo statementksix public inspection fileksixpublicfilehawaiinewsnow\n",
      "com 808 8473246kogg eeo statementfcc applicationsat gray our journalists report write edit and produce the news content that informs the communities we serve\n",
      "a gray media group inc\n"
     ]
    },
    {
     "data": {
      "text/plain": [
       "[[89, 3],\n",
       " [89, 3, 90],\n",
       " [89, 3, 90, 18],\n",
       " [89, 3, 90, 18, 91],\n",
       " [89, 3, 90, 18, 91, 35],\n",
       " [89, 3, 90, 18, 91, 35, 92],\n",
       " [89, 3, 90, 18, 91, 35, 92, 11],\n",
       " [89, 3, 90, 18, 91, 35, 92, 11, 93],\n",
       " [89, 3, 90, 18, 91, 35, 92, 11, 93, 94],\n",
       " [89, 3, 90, 18, 91, 35, 92, 11, 93, 94, 18],\n",
       " [89, 3, 90, 18, 91, 35, 92, 11, 93, 94, 18, 95]]"
      ]
     },
     "execution_count": 36,
     "metadata": {},
     "output_type": "execute_result"
    }
   ],
   "source": [
    "sequences = list()\n",
    "\n",
    "for sentence in preprocessed_headline:\n",
    "    print(sentence)\n",
    "    # 각 샘플에 대한 정수 인코딩\n",
    "    encoded = tokenizer.texts_to_sequences([sentence])[0] \n",
    "    for i in range(1, len(encoded)):\n",
    "        sequence = encoded[:i+1]\n",
    "        sequences.append(sequence)\n",
    "\n",
    "sequences[:11]"
   ]
  },
  {
   "cell_type": "code",
   "execution_count": 37,
   "metadata": {},
   "outputs": [
    {
     "name": "stdout",
     "output_type": "stream",
     "text": [
      "빈도수 상위 582번 단어 : and\n"
     ]
    }
   ],
   "source": [
    "index_to_word = {}\n",
    "for key, value in tokenizer.word_index.items(): # 인덱스를 단어로 바꾸기 위해 index_to_word를 생성\n",
    "    index_to_word[value] = key\n",
    "\n",
    "print(\"빈도수 상위 582번 단어 : {}\".format(index_to_word[5]))"
   ]
  },
  {
   "cell_type": "code",
   "execution_count": 38,
   "metadata": {},
   "outputs": [
    {
     "name": "stdout",
     "output_type": "stream",
     "text": [
      "샘플의 최대 길이 : 125\n"
     ]
    }
   ],
   "source": [
    "max_len = max(len(l) for l in sequences)\n",
    "print(\"샘플의 최대 길이 : {}\".format(max_len))"
   ]
  },
  {
   "cell_type": "code",
   "execution_count": 39,
   "metadata": {},
   "outputs": [
    {
     "name": "stdout",
     "output_type": "stream",
     "text": [
      "[[ 0  0  0  0  0  0  0  0  0  0  0  0  0  0  0  0  0  0  0  0  0  0  0  0\n",
      "   0  0  0  0  0  0  0  0  0  0  0  0  0  0  0  0  0  0  0  0  0  0  0  0\n",
      "   0  0  0  0  0  0  0  0  0  0  0  0  0  0  0  0  0  0  0  0  0  0  0  0\n",
      "   0  0  0  0  0  0  0  0  0  0  0  0  0  0  0  0  0  0  0  0  0  0  0  0\n",
      "   0  0  0  0  0  0  0  0  0  0  0  0  0  0  0  0  0  0  0  0  0  0  0  0\n",
      "   0  0  0 89  3]\n",
      " [ 0  0  0  0  0  0  0  0  0  0  0  0  0  0  0  0  0  0  0  0  0  0  0  0\n",
      "   0  0  0  0  0  0  0  0  0  0  0  0  0  0  0  0  0  0  0  0  0  0  0  0\n",
      "   0  0  0  0  0  0  0  0  0  0  0  0  0  0  0  0  0  0  0  0  0  0  0  0\n",
      "   0  0  0  0  0  0  0  0  0  0  0  0  0  0  0  0  0  0  0  0  0  0  0  0\n",
      "   0  0  0  0  0  0  0  0  0  0  0  0  0  0  0  0  0  0  0  0  0  0  0  0\n",
      "   0  0 89  3 90]\n",
      " [ 0  0  0  0  0  0  0  0  0  0  0  0  0  0  0  0  0  0  0  0  0  0  0  0\n",
      "   0  0  0  0  0  0  0  0  0  0  0  0  0  0  0  0  0  0  0  0  0  0  0  0\n",
      "   0  0  0  0  0  0  0  0  0  0  0  0  0  0  0  0  0  0  0  0  0  0  0  0\n",
      "   0  0  0  0  0  0  0  0  0  0  0  0  0  0  0  0  0  0  0  0  0  0  0  0\n",
      "   0  0  0  0  0  0  0  0  0  0  0  0  0  0  0  0  0  0  0  0  0  0  0  0\n",
      "   0 89  3 90 18]]\n"
     ]
    }
   ],
   "source": [
    "sequences = pad_sequences(sequences, maxlen=max_len, padding=\"pre\")\n",
    "print(sequences[:3])"
   ]
  },
  {
   "cell_type": "code",
   "execution_count": 40,
   "metadata": {},
   "outputs": [
    {
     "name": "stdout",
     "output_type": "stream",
     "text": [
      "[[ 0  0  0  0  0  0  0  0  0  0  0  0  0  0  0  0  0  0  0  0  0  0  0  0\n",
      "   0  0  0  0  0  0  0  0  0  0  0  0  0  0  0  0  0  0  0  0  0  0  0  0\n",
      "   0  0  0  0  0  0  0  0  0  0  0  0  0  0  0  0  0  0  0  0  0  0  0  0\n",
      "   0  0  0  0  0  0  0  0  0  0  0  0  0  0  0  0  0  0  0  0  0  0  0  0\n",
      "   0  0  0  0  0  0  0  0  0  0  0  0  0  0  0  0  0  0  0  0  0  0  0  0\n",
      "   0  0  0 89]\n",
      " [ 0  0  0  0  0  0  0  0  0  0  0  0  0  0  0  0  0  0  0  0  0  0  0  0\n",
      "   0  0  0  0  0  0  0  0  0  0  0  0  0  0  0  0  0  0  0  0  0  0  0  0\n",
      "   0  0  0  0  0  0  0  0  0  0  0  0  0  0  0  0  0  0  0  0  0  0  0  0\n",
      "   0  0  0  0  0  0  0  0  0  0  0  0  0  0  0  0  0  0  0  0  0  0  0  0\n",
      "   0  0  0  0  0  0  0  0  0  0  0  0  0  0  0  0  0  0  0  0  0  0  0  0\n",
      "   0  0 89  3]\n",
      " [ 0  0  0  0  0  0  0  0  0  0  0  0  0  0  0  0  0  0  0  0  0  0  0  0\n",
      "   0  0  0  0  0  0  0  0  0  0  0  0  0  0  0  0  0  0  0  0  0  0  0  0\n",
      "   0  0  0  0  0  0  0  0  0  0  0  0  0  0  0  0  0  0  0  0  0  0  0  0\n",
      "   0  0  0  0  0  0  0  0  0  0  0  0  0  0  0  0  0  0  0  0  0  0  0  0\n",
      "   0  0  0  0  0  0  0  0  0  0  0  0  0  0  0  0  0  0  0  0  0  0  0  0\n",
      "   0 89  3 90]]\n"
     ]
    }
   ],
   "source": [
    "sequences = np.array(sequences)\n",
    "X = sequences[:,:-1]\n",
    "y = sequences[:,-1]\n",
    "\n",
    "print(X[:3])"
   ]
  },
  {
   "cell_type": "code",
   "execution_count": 41,
   "metadata": {},
   "outputs": [
    {
     "name": "stdout",
     "output_type": "stream",
     "text": [
      "[ 3 90 18]\n"
     ]
    }
   ],
   "source": [
    "print(y[:3])"
   ]
  },
  {
   "cell_type": "code",
   "execution_count": 42,
   "metadata": {},
   "outputs": [],
   "source": [
    "y = to_categorical(y, num_classes=vocab_size)"
   ]
  },
  {
   "cell_type": "code",
   "execution_count": 43,
   "metadata": {},
   "outputs": [],
   "source": [
    "from tensorflow.keras.models import Sequential\n",
    "from tensorflow.keras.layers import Embedding, Dense, GRU"
   ]
  },
  {
   "cell_type": "code",
   "execution_count": 44,
   "metadata": {},
   "outputs": [
    {
     "name": "stdout",
     "output_type": "stream",
     "text": [
      "Epoch 1/200\n"
     ]
    },
    {
     "name": "stdout",
     "output_type": "stream",
     "text": [
      "23/23 - 2s - 83ms/step - accuracy: 0.0337 - loss: 6.1109\n",
      "Epoch 2/200\n",
      "23/23 - 1s - 40ms/step - accuracy: 0.0435 - loss: 6.0228\n",
      "Epoch 3/200\n",
      "23/23 - 1s - 40ms/step - accuracy: 0.0435 - loss: 5.8293\n",
      "Epoch 4/200\n",
      "23/23 - 1s - 41ms/step - accuracy: 0.0435 - loss: 5.7654\n",
      "Epoch 5/200\n",
      "23/23 - 1s - 40ms/step - accuracy: 0.0435 - loss: 5.7242\n",
      "Epoch 6/200\n",
      "23/23 - 1s - 41ms/step - accuracy: 0.0435 - loss: 5.6892\n",
      "Epoch 7/200\n",
      "23/23 - 1s - 41ms/step - accuracy: 0.0435 - loss: 5.6517\n",
      "Epoch 8/200\n",
      "23/23 - 1s - 40ms/step - accuracy: 0.0463 - loss: 5.5991\n",
      "Epoch 9/200\n",
      "23/23 - 1s - 40ms/step - accuracy: 0.0449 - loss: 5.5548\n",
      "Epoch 10/200\n",
      "23/23 - 1s - 41ms/step - accuracy: 0.0463 - loss: 5.4876\n",
      "Epoch 11/200\n",
      "23/23 - 1s - 40ms/step - accuracy: 0.0478 - loss: 5.3917\n",
      "Epoch 12/200\n",
      "23/23 - 1s - 41ms/step - accuracy: 0.0478 - loss: 5.2850\n",
      "Epoch 13/200\n",
      "23/23 - 1s - 39ms/step - accuracy: 0.0449 - loss: 5.1934\n",
      "Epoch 14/200\n",
      "23/23 - 1s - 41ms/step - accuracy: 0.0548 - loss: 5.1045\n",
      "Epoch 15/200\n",
      "23/23 - 1s - 39ms/step - accuracy: 0.0576 - loss: 4.9876\n",
      "Epoch 16/200\n",
      "23/23 - 1s - 39ms/step - accuracy: 0.0716 - loss: 4.8817\n",
      "Epoch 17/200\n",
      "23/23 - 1s - 38ms/step - accuracy: 0.0758 - loss: 4.7553\n",
      "Epoch 18/200\n",
      "23/23 - 1s - 38ms/step - accuracy: 0.0716 - loss: 4.6299\n",
      "Epoch 19/200\n",
      "23/23 - 1s - 43ms/step - accuracy: 0.0772 - loss: 4.5178\n",
      "Epoch 20/200\n",
      "23/23 - 1s - 42ms/step - accuracy: 0.0899 - loss: 4.3907\n",
      "Epoch 21/200\n",
      "23/23 - 1s - 40ms/step - accuracy: 0.0829 - loss: 4.2460\n",
      "Epoch 22/200\n",
      "23/23 - 1s - 40ms/step - accuracy: 0.1110 - loss: 4.1101\n",
      "Epoch 23/200\n",
      "23/23 - 1s - 40ms/step - accuracy: 0.1180 - loss: 3.9912\n",
      "Epoch 24/200\n",
      "23/23 - 1s - 40ms/step - accuracy: 0.1278 - loss: 3.8745\n",
      "Epoch 25/200\n",
      "23/23 - 1s - 38ms/step - accuracy: 0.1390 - loss: 3.7369\n",
      "Epoch 26/200\n",
      "23/23 - 1s - 38ms/step - accuracy: 0.1559 - loss: 3.6231\n",
      "Epoch 27/200\n",
      "23/23 - 1s - 40ms/step - accuracy: 0.1840 - loss: 3.4988\n",
      "Epoch 28/200\n",
      "23/23 - 1s - 40ms/step - accuracy: 0.2219 - loss: 3.3711\n",
      "Epoch 29/200\n",
      "23/23 - 1s - 38ms/step - accuracy: 0.2725 - loss: 3.2389\n",
      "Epoch 30/200\n",
      "23/23 - 1s - 38ms/step - accuracy: 0.2978 - loss: 3.1200\n",
      "Epoch 31/200\n",
      "23/23 - 1s - 39ms/step - accuracy: 0.3385 - loss: 2.9914\n",
      "Epoch 32/200\n",
      "23/23 - 1s - 38ms/step - accuracy: 0.3708 - loss: 2.8694\n",
      "Epoch 33/200\n",
      "23/23 - 1s - 39ms/step - accuracy: 0.4031 - loss: 2.7724\n",
      "Epoch 34/200\n",
      "23/23 - 1s - 37ms/step - accuracy: 0.4382 - loss: 2.6301\n",
      "Epoch 35/200\n",
      "23/23 - 1s - 39ms/step - accuracy: 0.4733 - loss: 2.5168\n",
      "Epoch 36/200\n",
      "23/23 - 1s - 38ms/step - accuracy: 0.5323 - loss: 2.4027\n",
      "Epoch 37/200\n",
      "23/23 - 1s - 37ms/step - accuracy: 0.5688 - loss: 2.2926\n",
      "Epoch 38/200\n",
      "23/23 - 1s - 38ms/step - accuracy: 0.6011 - loss: 2.1879\n",
      "Epoch 39/200\n",
      "23/23 - 1s - 40ms/step - accuracy: 0.6124 - loss: 2.0785\n",
      "Epoch 40/200\n",
      "23/23 - 1s - 39ms/step - accuracy: 0.6657 - loss: 1.9761\n",
      "Epoch 41/200\n",
      "23/23 - 1s - 38ms/step - accuracy: 0.6910 - loss: 1.8827\n",
      "Epoch 42/200\n",
      "23/23 - 1s - 39ms/step - accuracy: 0.7177 - loss: 1.7838\n",
      "Epoch 43/200\n",
      "23/23 - 1s - 37ms/step - accuracy: 0.7584 - loss: 1.6909\n",
      "Epoch 44/200\n",
      "23/23 - 1s - 38ms/step - accuracy: 0.7697 - loss: 1.6039\n",
      "Epoch 45/200\n",
      "23/23 - 1s - 40ms/step - accuracy: 0.7893 - loss: 1.5213\n",
      "Epoch 46/200\n",
      "23/23 - 1s - 41ms/step - accuracy: 0.8006 - loss: 1.4424\n",
      "Epoch 47/200\n",
      "23/23 - 1s - 42ms/step - accuracy: 0.8048 - loss: 1.3598\n",
      "Epoch 48/200\n",
      "23/23 - 1s - 43ms/step - accuracy: 0.8329 - loss: 1.2883\n",
      "Epoch 49/200\n",
      "23/23 - 1s - 41ms/step - accuracy: 0.8385 - loss: 1.2221\n",
      "Epoch 50/200\n",
      "23/23 - 1s - 41ms/step - accuracy: 0.8483 - loss: 1.1579\n",
      "Epoch 51/200\n",
      "23/23 - 1s - 41ms/step - accuracy: 0.8638 - loss: 1.0963\n",
      "Epoch 52/200\n",
      "23/23 - 1s - 39ms/step - accuracy: 0.8722 - loss: 1.0328\n",
      "Epoch 53/200\n",
      "23/23 - 1s - 41ms/step - accuracy: 0.8834 - loss: 0.9801\n",
      "Epoch 54/200\n",
      "23/23 - 1s - 41ms/step - accuracy: 0.8933 - loss: 0.9296\n",
      "Epoch 55/200\n",
      "23/23 - 1s - 39ms/step - accuracy: 0.9003 - loss: 0.8796\n",
      "Epoch 56/200\n",
      "23/23 - 1s - 40ms/step - accuracy: 0.9101 - loss: 0.8287\n",
      "Epoch 57/200\n",
      "23/23 - 1s - 40ms/step - accuracy: 0.9242 - loss: 0.7785\n",
      "Epoch 58/200\n",
      "23/23 - 1s - 41ms/step - accuracy: 0.9326 - loss: 0.7392\n",
      "Epoch 59/200\n",
      "23/23 - 1s - 40ms/step - accuracy: 0.9340 - loss: 0.6996\n",
      "Epoch 60/200\n",
      "23/23 - 1s - 39ms/step - accuracy: 0.9354 - loss: 0.6615\n",
      "Epoch 61/200\n",
      "23/23 - 1s - 39ms/step - accuracy: 0.9424 - loss: 0.6255\n",
      "Epoch 62/200\n",
      "23/23 - 1s - 40ms/step - accuracy: 0.9494 - loss: 0.5935\n",
      "Epoch 63/200\n",
      "23/23 - 1s - 41ms/step - accuracy: 0.9593 - loss: 0.5613\n",
      "Epoch 64/200\n",
      "23/23 - 1s - 39ms/step - accuracy: 0.9579 - loss: 0.5346\n",
      "Epoch 65/200\n",
      "23/23 - 1s - 39ms/step - accuracy: 0.9593 - loss: 0.5055\n",
      "Epoch 66/200\n",
      "23/23 - 1s - 39ms/step - accuracy: 0.9635 - loss: 0.4825\n",
      "Epoch 67/200\n",
      "23/23 - 1s - 39ms/step - accuracy: 0.9677 - loss: 0.4561\n",
      "Epoch 68/200\n",
      "23/23 - 1s - 39ms/step - accuracy: 0.9677 - loss: 0.4333\n",
      "Epoch 69/200\n",
      "23/23 - 1s - 39ms/step - accuracy: 0.9663 - loss: 0.4127\n",
      "Epoch 70/200\n",
      "23/23 - 1s - 39ms/step - accuracy: 0.9733 - loss: 0.3905\n",
      "Epoch 71/200\n",
      "23/23 - 1s - 39ms/step - accuracy: 0.9789 - loss: 0.3731\n",
      "Epoch 72/200\n",
      "23/23 - 1s - 38ms/step - accuracy: 0.9775 - loss: 0.3553\n",
      "Epoch 73/200\n",
      "23/23 - 1s - 38ms/step - accuracy: 0.9775 - loss: 0.3395\n",
      "Epoch 74/200\n",
      "23/23 - 1s - 38ms/step - accuracy: 0.9761 - loss: 0.3238\n",
      "Epoch 75/200\n",
      "23/23 - 1s - 40ms/step - accuracy: 0.9817 - loss: 0.3090\n",
      "Epoch 76/200\n",
      "23/23 - 1s - 40ms/step - accuracy: 0.9846 - loss: 0.2963\n",
      "Epoch 77/200\n",
      "23/23 - 1s - 39ms/step - accuracy: 0.9831 - loss: 0.2843\n",
      "Epoch 78/200\n",
      "23/23 - 1s - 39ms/step - accuracy: 0.9817 - loss: 0.2726\n",
      "Epoch 79/200\n",
      "23/23 - 1s - 41ms/step - accuracy: 0.9846 - loss: 0.2611\n",
      "Epoch 80/200\n",
      "23/23 - 1s - 38ms/step - accuracy: 0.9860 - loss: 0.2498\n",
      "Epoch 81/200\n",
      "23/23 - 1s - 39ms/step - accuracy: 0.9846 - loss: 0.2407\n",
      "Epoch 82/200\n",
      "23/23 - 1s - 38ms/step - accuracy: 0.9860 - loss: 0.2315\n",
      "Epoch 83/200\n",
      "23/23 - 1s - 39ms/step - accuracy: 0.9860 - loss: 0.2219\n",
      "Epoch 84/200\n",
      "23/23 - 1s - 39ms/step - accuracy: 0.9902 - loss: 0.2124\n",
      "Epoch 85/200\n",
      "23/23 - 1s - 38ms/step - accuracy: 0.9860 - loss: 0.2055\n",
      "Epoch 86/200\n",
      "23/23 - 1s - 38ms/step - accuracy: 0.9860 - loss: 0.1988\n",
      "Epoch 87/200\n",
      "23/23 - 1s - 39ms/step - accuracy: 0.9874 - loss: 0.1896\n",
      "Epoch 88/200\n",
      "23/23 - 1s - 39ms/step - accuracy: 0.9860 - loss: 0.1849\n",
      "Epoch 89/200\n",
      "23/23 - 1s - 40ms/step - accuracy: 0.9874 - loss: 0.1770\n",
      "Epoch 90/200\n",
      "23/23 - 1s - 39ms/step - accuracy: 0.9803 - loss: 0.1785\n",
      "Epoch 91/200\n",
      "23/23 - 1s - 38ms/step - accuracy: 0.9846 - loss: 0.1692\n",
      "Epoch 92/200\n",
      "23/23 - 1s - 39ms/step - accuracy: 0.9874 - loss: 0.1614\n",
      "Epoch 93/200\n",
      "23/23 - 1s - 39ms/step - accuracy: 0.9860 - loss: 0.1556\n",
      "Epoch 94/200\n",
      "23/23 - 1s - 38ms/step - accuracy: 0.9860 - loss: 0.1501\n",
      "Epoch 95/200\n",
      "23/23 - 1s - 39ms/step - accuracy: 0.9902 - loss: 0.1452\n",
      "Epoch 96/200\n",
      "23/23 - 1s - 39ms/step - accuracy: 0.9846 - loss: 0.1405\n",
      "Epoch 97/200\n",
      "23/23 - 1s - 39ms/step - accuracy: 0.9846 - loss: 0.1474\n",
      "Epoch 98/200\n",
      "23/23 - 1s - 39ms/step - accuracy: 0.9860 - loss: 0.2139\n",
      "Epoch 99/200\n",
      "23/23 - 1s - 39ms/step - accuracy: 0.9649 - loss: 0.2629\n",
      "Epoch 100/200\n",
      "23/23 - 1s - 39ms/step - accuracy: 0.9803 - loss: 0.1946\n",
      "Epoch 101/200\n",
      "23/23 - 1s - 39ms/step - accuracy: 0.9874 - loss: 0.1538\n",
      "Epoch 102/200\n",
      "23/23 - 1s - 39ms/step - accuracy: 0.9817 - loss: 0.1543\n",
      "Epoch 103/200\n",
      "23/23 - 1s - 39ms/step - accuracy: 0.9860 - loss: 0.1359\n",
      "Epoch 104/200\n",
      "23/23 - 1s - 39ms/step - accuracy: 0.9846 - loss: 0.1272\n",
      "Epoch 105/200\n",
      "23/23 - 1s - 38ms/step - accuracy: 0.9888 - loss: 0.1183\n",
      "Epoch 106/200\n",
      "23/23 - 1s - 38ms/step - accuracy: 0.9874 - loss: 0.1144\n",
      "Epoch 107/200\n",
      "23/23 - 1s - 42ms/step - accuracy: 0.9902 - loss: 0.1106\n",
      "Epoch 108/200\n",
      "23/23 - 1s - 38ms/step - accuracy: 0.9860 - loss: 0.1065\n",
      "Epoch 109/200\n",
      "23/23 - 1s - 39ms/step - accuracy: 0.9846 - loss: 0.1034\n",
      "Epoch 110/200\n",
      "23/23 - 1s - 39ms/step - accuracy: 0.9831 - loss: 0.1007\n",
      "Epoch 111/200\n",
      "23/23 - 1s - 39ms/step - accuracy: 0.9888 - loss: 0.0972\n",
      "Epoch 112/200\n",
      "23/23 - 1s - 38ms/step - accuracy: 0.9874 - loss: 0.0945\n",
      "Epoch 113/200\n",
      "23/23 - 1s - 39ms/step - accuracy: 0.9874 - loss: 0.0921\n",
      "Epoch 114/200\n",
      "23/23 - 1s - 38ms/step - accuracy: 0.9874 - loss: 0.0902\n",
      "Epoch 115/200\n",
      "23/23 - 1s - 39ms/step - accuracy: 0.9888 - loss: 0.0902\n",
      "Epoch 116/200\n",
      "23/23 - 1s - 39ms/step - accuracy: 0.9874 - loss: 0.0867\n",
      "Epoch 117/200\n",
      "23/23 - 1s - 40ms/step - accuracy: 0.9860 - loss: 0.0842\n",
      "Epoch 118/200\n",
      "23/23 - 1s - 39ms/step - accuracy: 0.9874 - loss: 0.0830\n",
      "Epoch 119/200\n",
      "23/23 - 1s - 39ms/step - accuracy: 0.9888 - loss: 0.0811\n",
      "Epoch 120/200\n",
      "23/23 - 1s - 39ms/step - accuracy: 0.9902 - loss: 0.0790\n",
      "Epoch 121/200\n",
      "23/23 - 1s - 38ms/step - accuracy: 0.9888 - loss: 0.0774\n",
      "Epoch 122/200\n",
      "23/23 - 1s - 39ms/step - accuracy: 0.9846 - loss: 0.0766\n",
      "Epoch 123/200\n",
      "23/23 - 1s - 39ms/step - accuracy: 0.9888 - loss: 0.0746\n",
      "Epoch 124/200\n",
      "23/23 - 1s - 38ms/step - accuracy: 0.9846 - loss: 0.0739\n",
      "Epoch 125/200\n",
      "23/23 - 1s - 39ms/step - accuracy: 0.9846 - loss: 0.0704\n",
      "Epoch 126/200\n",
      "23/23 - 1s - 39ms/step - accuracy: 0.9888 - loss: 0.0699\n",
      "Epoch 127/200\n",
      "23/23 - 1s - 39ms/step - accuracy: 0.9888 - loss: 0.0684\n",
      "Epoch 128/200\n",
      "23/23 - 1s - 38ms/step - accuracy: 0.9846 - loss: 0.0692\n",
      "Epoch 129/200\n",
      "23/23 - 1s - 39ms/step - accuracy: 0.9888 - loss: 0.0665\n",
      "Epoch 130/200\n",
      "23/23 - 1s - 39ms/step - accuracy: 0.9860 - loss: 0.0678\n",
      "Epoch 131/200\n",
      "23/23 - 1s - 39ms/step - accuracy: 0.9874 - loss: 0.0639\n",
      "Epoch 132/200\n",
      "23/23 - 1s - 41ms/step - accuracy: 0.9902 - loss: 0.0626\n",
      "Epoch 133/200\n",
      "23/23 - 1s - 38ms/step - accuracy: 0.9888 - loss: 0.0625\n",
      "Epoch 134/200\n",
      "23/23 - 1s - 39ms/step - accuracy: 0.9874 - loss: 0.0615\n",
      "Epoch 135/200\n",
      "23/23 - 1s - 39ms/step - accuracy: 0.9874 - loss: 0.0598\n",
      "Epoch 136/200\n",
      "23/23 - 1s - 39ms/step - accuracy: 0.9888 - loss: 0.0628\n",
      "Epoch 137/200\n",
      "23/23 - 1s - 39ms/step - accuracy: 0.9860 - loss: 0.0597\n",
      "Epoch 138/200\n",
      "23/23 - 1s - 40ms/step - accuracy: 0.9888 - loss: 0.0569\n",
      "Epoch 139/200\n",
      "23/23 - 1s - 39ms/step - accuracy: 0.9888 - loss: 0.0558\n",
      "Epoch 140/200\n",
      "23/23 - 1s - 38ms/step - accuracy: 0.9860 - loss: 0.0558\n",
      "Epoch 141/200\n",
      "23/23 - 1s - 39ms/step - accuracy: 0.9874 - loss: 0.0536\n",
      "Epoch 142/200\n",
      "23/23 - 1s - 41ms/step - accuracy: 0.9874 - loss: 0.0542\n",
      "Epoch 143/200\n",
      "23/23 - 1s - 42ms/step - accuracy: 0.9874 - loss: 0.0530\n",
      "Epoch 144/200\n",
      "23/23 - 1s - 39ms/step - accuracy: 0.9888 - loss: 0.0517\n",
      "Epoch 145/200\n",
      "23/23 - 1s - 39ms/step - accuracy: 0.9888 - loss: 0.0514\n",
      "Epoch 146/200\n",
      "23/23 - 1s - 40ms/step - accuracy: 0.9860 - loss: 0.0503\n",
      "Epoch 147/200\n",
      "23/23 - 1s - 39ms/step - accuracy: 0.9874 - loss: 0.0500\n",
      "Epoch 148/200\n",
      "23/23 - 1s - 39ms/step - accuracy: 0.9888 - loss: 0.0491\n",
      "Epoch 149/200\n",
      "23/23 - 1s - 39ms/step - accuracy: 0.9860 - loss: 0.0498\n",
      "Epoch 150/200\n",
      "23/23 - 1s - 42ms/step - accuracy: 0.9874 - loss: 0.0485\n",
      "Epoch 151/200\n",
      "23/23 - 1s - 41ms/step - accuracy: 0.9888 - loss: 0.0475\n",
      "Epoch 152/200\n",
      "23/23 - 1s - 39ms/step - accuracy: 0.9860 - loss: 0.0482\n",
      "Epoch 153/200\n",
      "23/23 - 1s - 39ms/step - accuracy: 0.9874 - loss: 0.0470\n",
      "Epoch 154/200\n",
      "23/23 - 1s - 41ms/step - accuracy: 0.9860 - loss: 0.0461\n",
      "Epoch 155/200\n",
      "23/23 - 1s - 39ms/step - accuracy: 0.9874 - loss: 0.0450\n",
      "Epoch 156/200\n",
      "23/23 - 1s - 40ms/step - accuracy: 0.9860 - loss: 0.0453\n",
      "Epoch 157/200\n",
      "23/23 - 1s - 41ms/step - accuracy: 0.9888 - loss: 0.0453\n",
      "Epoch 158/200\n",
      "23/23 - 1s - 41ms/step - accuracy: 0.9874 - loss: 0.0433\n",
      "Epoch 159/200\n",
      "23/23 - 1s - 39ms/step - accuracy: 0.9860 - loss: 0.0432\n",
      "Epoch 160/200\n",
      "23/23 - 1s - 39ms/step - accuracy: 0.9874 - loss: 0.0427\n",
      "Epoch 161/200\n",
      "23/23 - 1s - 39ms/step - accuracy: 0.9874 - loss: 0.0421\n",
      "Epoch 162/200\n",
      "23/23 - 1s - 40ms/step - accuracy: 0.9860 - loss: 0.0424\n",
      "Epoch 163/200\n",
      "23/23 - 1s - 40ms/step - accuracy: 0.9874 - loss: 0.0415\n",
      "Epoch 164/200\n",
      "23/23 - 1s - 40ms/step - accuracy: 0.9888 - loss: 0.0406\n",
      "Epoch 165/200\n",
      "23/23 - 1s - 40ms/step - accuracy: 0.9860 - loss: 0.0413\n",
      "Epoch 166/200\n",
      "23/23 - 1s - 39ms/step - accuracy: 0.9874 - loss: 0.0409\n",
      "Epoch 167/200\n",
      "23/23 - 1s - 39ms/step - accuracy: 0.9874 - loss: 0.0397\n",
      "Epoch 168/200\n",
      "23/23 - 1s - 39ms/step - accuracy: 0.9860 - loss: 0.0397\n",
      "Epoch 169/200\n",
      "23/23 - 1s - 39ms/step - accuracy: 0.9888 - loss: 0.0390\n",
      "Epoch 170/200\n",
      "23/23 - 1s - 39ms/step - accuracy: 0.9874 - loss: 0.0391\n",
      "Epoch 171/200\n",
      "23/23 - 1s - 39ms/step - accuracy: 0.9860 - loss: 0.0388\n",
      "Epoch 172/200\n",
      "23/23 - 1s - 39ms/step - accuracy: 0.9888 - loss: 0.0395\n",
      "Epoch 173/200\n",
      "23/23 - 1s - 39ms/step - accuracy: 0.9874 - loss: 0.0382\n",
      "Epoch 174/200\n",
      "23/23 - 1s - 39ms/step - accuracy: 0.9874 - loss: 0.0371\n",
      "Epoch 175/200\n",
      "23/23 - 1s - 39ms/step - accuracy: 0.9888 - loss: 0.0378\n",
      "Epoch 176/200\n",
      "23/23 - 1s - 39ms/step - accuracy: 0.9888 - loss: 0.0374\n",
      "Epoch 177/200\n",
      "23/23 - 1s - 40ms/step - accuracy: 0.9874 - loss: 0.0362\n",
      "Epoch 178/200\n",
      "23/23 - 1s - 39ms/step - accuracy: 0.9874 - loss: 0.0361\n",
      "Epoch 179/200\n",
      "23/23 - 1s - 38ms/step - accuracy: 0.9860 - loss: 0.0349\n",
      "Epoch 180/200\n",
      "23/23 - 1s - 39ms/step - accuracy: 0.9860 - loss: 0.0359\n",
      "Epoch 181/200\n",
      "23/23 - 1s - 38ms/step - accuracy: 0.9874 - loss: 0.0353\n",
      "Epoch 182/200\n",
      "23/23 - 1s - 39ms/step - accuracy: 0.9874 - loss: 0.0346\n",
      "Epoch 183/200\n",
      "23/23 - 1s - 39ms/step - accuracy: 0.9874 - loss: 0.0350\n",
      "Epoch 184/200\n",
      "23/23 - 1s - 39ms/step - accuracy: 0.9888 - loss: 0.0352\n",
      "Epoch 185/200\n",
      "23/23 - 1s - 41ms/step - accuracy: 0.9874 - loss: 0.0337\n",
      "Epoch 186/200\n",
      "23/23 - 1s - 41ms/step - accuracy: 0.9874 - loss: 0.0340\n",
      "Epoch 187/200\n",
      "23/23 - 1s - 42ms/step - accuracy: 0.9860 - loss: 0.0335\n",
      "Epoch 188/200\n",
      "23/23 - 1s - 43ms/step - accuracy: 0.9888 - loss: 0.0321\n",
      "Epoch 189/200\n",
      "23/23 - 1s - 40ms/step - accuracy: 0.9860 - loss: 0.0347\n",
      "Epoch 190/200\n",
      "23/23 - 1s - 39ms/step - accuracy: 0.9902 - loss: 0.0347\n",
      "Epoch 191/200\n",
      "23/23 - 1s - 38ms/step - accuracy: 0.9874 - loss: 0.0336\n",
      "Epoch 192/200\n",
      "23/23 - 1s - 39ms/step - accuracy: 0.9888 - loss: 0.0318\n",
      "Epoch 193/200\n",
      "23/23 - 1s - 38ms/step - accuracy: 0.9902 - loss: 0.0321\n",
      "Epoch 194/200\n",
      "23/23 - 1s - 39ms/step - accuracy: 0.9874 - loss: 0.0322\n",
      "Epoch 195/200\n",
      "23/23 - 1s - 40ms/step - accuracy: 0.9888 - loss: 0.0314\n",
      "Epoch 196/200\n",
      "23/23 - 1s - 38ms/step - accuracy: 0.9874 - loss: 0.0307\n",
      "Epoch 197/200\n",
      "23/23 - 1s - 38ms/step - accuracy: 0.9860 - loss: 0.0309\n",
      "Epoch 198/200\n",
      "23/23 - 1s - 42ms/step - accuracy: 0.9888 - loss: 0.0306\n",
      "Epoch 199/200\n",
      "23/23 - 1s - 43ms/step - accuracy: 0.9860 - loss: 0.0315\n",
      "Epoch 200/200\n",
      "23/23 - 1s - 39ms/step - accuracy: 0.9888 - loss: 0.0304\n"
     ]
    },
    {
     "data": {
      "text/plain": [
       "<keras.src.callbacks.history.History at 0x7f97798eb700>"
      ]
     },
     "execution_count": 44,
     "metadata": {},
     "output_type": "execute_result"
    }
   ],
   "source": [
    "embedding_dim = 10\n",
    "hidden_units = 128\n",
    "\n",
    "model = Sequential()\n",
    "model.add(Embedding(vocab_size, embedding_dim))\n",
    "model.add(GRU(hidden_units))\n",
    "model.add(Dense(vocab_size, activation='softmax'))\n",
    "model.compile(loss='categorical_crossentropy', optimizer='adam', metrics=['accuracy'])\n",
    "model.fit(X, y, epochs=200, verbose=2)"
   ]
  },
  {
   "cell_type": "markdown",
   "metadata": {},
   "source": [
    "### GRU model save"
   ]
  },
  {
   "cell_type": "code",
   "execution_count": 45,
   "metadata": {},
   "outputs": [],
   "source": [
    "model.save(\"./model/GRU.keras\")"
   ]
  },
  {
   "cell_type": "code",
   "execution_count": 46,
   "metadata": {},
   "outputs": [],
   "source": [
    "import tensorflow as tf\n",
    "model = tf.keras.models.load_model(\"./model/GRU.keras\")"
   ]
  },
  {
   "cell_type": "code",
   "execution_count": 47,
   "metadata": {},
   "outputs": [],
   "source": [
    "def sentence_generation(model, tokenizer, current_word, n): # 모델, 토크나이저, 현재 단어, 반복할 횟수\n",
    "    init_word = current_word\n",
    "    sentence = ''\n",
    "\n",
    "    # n번 반복\n",
    "    for _ in range(n):\n",
    "        encoded = tokenizer.texts_to_sequences([current_word])[0]\n",
    "        encoded = pad_sequences([encoded], maxlen=max_len-1, padding=\"pre\")\n",
    "\n",
    "        # 입력한 X(현재 단어)에 대해서 y를 예측하고 y(예측한 단어)를 result에 저장.\n",
    "        result = model.predict(encoded, verbose=0)\n",
    "        result = np.argmax(result, axis=1)\n",
    "\n",
    "        for word, index in tokenizer.word_index.items(): \n",
    "            # 만약 예측한 단어와 인덱스와 동일한 단어가 있다면\n",
    "            if index == result:\n",
    "                break\n",
    "\n",
    "        # 현재 단어 + ' ' + 예측 단어를 현재 단어로 변경\n",
    "        current_word = current_word + ' '  + word\n",
    "\n",
    "        # 예측 단어를 문장에 저장\n",
    "        sentence = sentence + ' ' + word\n",
    "\n",
    "    sentence = init_word + sentence\n",
    "    return sentence"
   ]
  },
  {
   "cell_type": "code",
   "execution_count": 48,
   "metadata": {},
   "outputs": [
    {
     "name": "stdout",
     "output_type": "stream",
     "text": [
      "I am Kimminsup. did settlement from hpd arrested for gun been advantage of hawaiis climate to test and grow herbicideresistant corn seed production company may be production for a shoreline drag strip and the state has lost the\n"
     ]
    }
   ],
   "source": [
    "print(sentence_generation(model, tokenizer, \"I am Kimminsup.\", 35))"
   ]
  }
 ],
 "metadata": {
  "kernelspec": {
   "display_name": "venv",
   "language": "python",
   "name": "python3"
  },
  "language_info": {
   "codemirror_mode": {
    "name": "ipython",
    "version": 3
   },
   "file_extension": ".py",
   "mimetype": "text/x-python",
   "name": "python",
   "nbconvert_exporter": "python",
   "pygments_lexer": "ipython3",
   "version": "3.10.12"
  }
 },
 "nbformat": 4,
 "nbformat_minor": 2
}
