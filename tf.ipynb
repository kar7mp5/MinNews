{
 "cells": [
  {
   "cell_type": "code",
   "execution_count": 3,
   "metadata": {},
   "outputs": [
    {
     "ename": "Exception",
     "evalue": "No such file or directory (os error 2)",
     "output_type": "error",
     "traceback": [
      "\u001b[0;31m---------------------------------------------------------------------------\u001b[0m",
      "\u001b[0;31mException\u001b[0m                                 Traceback (most recent call last)",
      "Cell \u001b[0;32mIn[3], line 11\u001b[0m\n\u001b[1;32m      8\u001b[0m min_frequency \u001b[38;5;241m=\u001b[39m \u001b[38;5;241m2\u001b[39m\n\u001b[1;32m     10\u001b[0m data_path \u001b[38;5;241m=\u001b[39m \u001b[38;5;124m'\u001b[39m\u001b[38;5;124m/data/wikitext-2-raw\u001b[39m\u001b[38;5;124m'\u001b[39m\n\u001b[0;32m---> 11\u001b[0m \u001b[43mtokenizer\u001b[49m\u001b[38;5;241;43m.\u001b[39;49m\u001b[43mtrain\u001b[49m\u001b[43m(\u001b[49m\u001b[43mfiles\u001b[49m\u001b[38;5;241;43m=\u001b[39;49m\u001b[43mdata_path\u001b[49m\u001b[43m \u001b[49m\u001b[38;5;241;43m+\u001b[39;49m\u001b[43m \u001b[49m\u001b[38;5;124;43m'\u001b[39;49m\u001b[38;5;124;43m/wiki.train.raw\u001b[39;49m\u001b[38;5;124;43m'\u001b[39;49m\u001b[43m,\u001b[49m\n\u001b[1;32m     12\u001b[0m \u001b[43m                \u001b[49m\u001b[43mvocab_size\u001b[49m\u001b[38;5;241;43m=\u001b[39;49m\u001b[43mvocab_size\u001b[49m\u001b[43m,\u001b[49m\n\u001b[1;32m     13\u001b[0m \u001b[43m                \u001b[49m\u001b[43mmin_frequency\u001b[49m\u001b[38;5;241;43m=\u001b[39;49m\u001b[43mmin_frequency\u001b[49m\u001b[43m,\u001b[49m\n\u001b[1;32m     14\u001b[0m \u001b[43m                \u001b[49m\u001b[43mspecial_tokens\u001b[49m\u001b[38;5;241;43m=\u001b[39;49m\u001b[43mspecial_tokens\u001b[49m\u001b[43m,\u001b[49m\n\u001b[1;32m     15\u001b[0m \u001b[43m                \u001b[49m\u001b[43msuffix\u001b[49m\u001b[38;5;241;43m=\u001b[39;49m\u001b[38;5;124;43m'\u001b[39;49m\u001b[38;5;124;43m'\u001b[39;49m\u001b[43m)\u001b[49m\n\u001b[1;32m     17\u001b[0m tokenizer\u001b[38;5;241m.\u001b[39msave(\u001b[38;5;124m'\u001b[39m\u001b[38;5;124mtokenizer.json\u001b[39m\u001b[38;5;124m'\u001b[39m)\n",
      "File \u001b[0;32m~/Projects/MinGPT/venv/lib/python3.10/site-packages/tokenizers/implementations/char_level_bpe.py:121\u001b[0m, in \u001b[0;36mCharBPETokenizer.train\u001b[0;34m(self, files, vocab_size, min_frequency, special_tokens, limit_alphabet, initial_alphabet, suffix, show_progress)\u001b[0m\n\u001b[1;32m    119\u001b[0m \u001b[38;5;28;01mif\u001b[39;00m \u001b[38;5;28misinstance\u001b[39m(files, \u001b[38;5;28mstr\u001b[39m):\n\u001b[1;32m    120\u001b[0m     files \u001b[38;5;241m=\u001b[39m [files]\n\u001b[0;32m--> 121\u001b[0m \u001b[38;5;28;43mself\u001b[39;49m\u001b[38;5;241;43m.\u001b[39;49m\u001b[43m_tokenizer\u001b[49m\u001b[38;5;241;43m.\u001b[39;49m\u001b[43mtrain\u001b[49m\u001b[43m(\u001b[49m\u001b[43mfiles\u001b[49m\u001b[43m,\u001b[49m\u001b[43m \u001b[49m\u001b[43mtrainer\u001b[49m\u001b[38;5;241;43m=\u001b[39;49m\u001b[43mtrainer\u001b[49m\u001b[43m)\u001b[49m\n",
      "\u001b[0;31mException\u001b[0m: No such file or directory (os error 2)"
     ]
    }
   ],
   "source": [
    "from tokenizers import CharBPETokenizer\n",
    "\n",
    "tokenizer = CharBPETokenizer(suffix='', lowercase=True)\n",
    "\n",
    "special_tokens = ['<pad>','<unk>','<s>','</s>','<mask>']\n",
    "\n",
    "vocab_size = 36000\n",
    "min_frequency = 2\n",
    "\n",
    "data_path = '/data/wikitext-2-raw'\n",
    "tokenizer.train(files=data_path + '/wiki.train.raw',\n",
    "                vocab_size=vocab_size,\n",
    "                min_frequency=min_frequency,\n",
    "                special_tokens=special_tokens,\n",
    "                suffix='')\n",
    "\n",
    "tokenizer.save('tokenizer.json')"
   ]
  },
  {
   "cell_type": "code",
   "execution_count": null,
   "metadata": {},
   "outputs": [],
   "source": [
    "# dataset.py\n",
    "from torch.utils.data import Dataset\n",
    "from tokenizers import Tokenizer\n",
    "\n",
    "class MyDataset(Dataset):\n",
    "    def __init__(self, text_path, tokenizer_path, seq_length):\n",
    "        super().__init__()\n",
    "        self.tokenizer = Tokenizer.from_file(tokenizer_path)\n",
    "        self.pad_token = self.tokenizer.encode(\"<pad>\").ids[0]\n",
    "        self.unk_token = self.tokenizer.encode(\"<unk>\").ids[0]\n",
    "        self.bos_token = self.tokenizer.encode(\"<s>\").ids[0]\n",
    "        self.eos_token = self.tokenizer.encode(\"</s>\").ids[0]\n",
    "        self.mask_token = self.tokenizer.encode(\"<mask>\").ids[0]\n",
    "        self.input_ids = []\n",
    "        buffer = []\n",
    "        with open(text_path, \"r\") as f:\n",
    "            for text in f.readlines():\n",
    "                buffer.extend(self.tokenizer.encode(text).ids)\n",
    "\n",
    "                # eos, bos 토큰을 붙이기 위해 seq_length-2 만큼 자른다.\n",
    "                while len(buffer) >= seq_length - 2:\n",
    "                    input_id = (\n",
    "                        [self.bos_token] + buffer[: seq_length - 2] + [self.eos_token]\n",
    "                    )\n",
    "                    self.input_ids.append(input_id)\n",
    "                    buffer = buffer[seq_length - 2 :]\n",
    "\n",
    "    def __len__(self):\n",
    "        return len(self.input_ids)\n",
    "\n",
    "    def __getitem__(self, idx):\n",
    "        return self.input_ids[idx]"
   ]
  }
 ],
 "metadata": {
  "kernelspec": {
   "display_name": "venv",
   "language": "python",
   "name": "python3"
  },
  "language_info": {
   "codemirror_mode": {
    "name": "ipython",
    "version": 3
   },
   "file_extension": ".py",
   "mimetype": "text/x-python",
   "name": "python",
   "nbconvert_exporter": "python",
   "pygments_lexer": "ipython3",
   "version": "3.10.12"
  }
 },
 "nbformat": 4,
 "nbformat_minor": 2
}
